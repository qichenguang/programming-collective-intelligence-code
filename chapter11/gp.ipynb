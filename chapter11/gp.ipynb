{
 "cells": [
  {
   "cell_type": "code",
   "execution_count": 1,
   "metadata": {
    "collapsed": true
   },
   "outputs": [],
   "source": [
    "from random import random,randint,choice\n",
    "from copy import deepcopy\n",
    "from math import log"
   ]
  },
  {
   "cell_type": "code",
   "execution_count": 21,
   "metadata": {
    "collapsed": true
   },
   "outputs": [],
   "source": [
    "class fwrapper:\n",
    "    def __init__(self,function,childcount,name):\n",
    "        self.function=function\n",
    "        self.childcount=childcount\n",
    "        self.name=name"
   ]
  },
  {
   "cell_type": "code",
   "execution_count": 22,
   "metadata": {
    "collapsed": true
   },
   "outputs": [],
   "source": [
    "class node:\n",
    "    def __init__(self,fw,children):\n",
    "        self.function=fw.function\n",
    "        self.name=fw.name\n",
    "        self.children=children\n",
    "\n",
    "    def evaluate(self,inp):    \n",
    "        results = [n.evaluate(inp) for n in self.children]\n",
    "        return self.function(results)      \n",
    "    \n",
    "    def display(self,indent=0):\n",
    "        print (' '*indent)+self.name\n",
    "        for c in self.children:\n",
    "            c.display(indent+1)"
   ]
  },
  {
   "cell_type": "code",
   "execution_count": 23,
   "metadata": {
    "collapsed": true
   },
   "outputs": [],
   "source": [
    "class paramnode:\n",
    "    def __init__(self,idx):\n",
    "        self.idx=idx\n",
    "\n",
    "    def evaluate(self,inp):\n",
    "        return inp[self.idx]\n",
    "    \n",
    "    def display(self,indent=0):\n",
    "        print '%sp%d' % (' '*indent,self.idx)    "
   ]
  },
  {
   "cell_type": "code",
   "execution_count": 35,
   "metadata": {
    "collapsed": true
   },
   "outputs": [],
   "source": [
    "class constnode:\n",
    "    def __init__(self,v):\n",
    "        self.v=v\n",
    "    def evaluate(self,inp):\n",
    "        return self.v\n",
    "    def display(self,indent=0):\n",
    "        print '%s%d' % (' '*indent,self.v)"
   ]
  },
  {
   "cell_type": "code",
   "execution_count": 36,
   "metadata": {
    "collapsed": true
   },
   "outputs": [],
   "source": [
    "addw = fwrapper(lambda x:x[0]+x[1],2,'add')\n",
    "subw = fwrapper(lambda x:x[0]-x[1],2,'substract')\n",
    "mulw = fwrapper(lambda x:x[0]*x[1],2,'multiply')"
   ]
  },
  {
   "cell_type": "code",
   "execution_count": 37,
   "metadata": {
    "collapsed": true
   },
   "outputs": [],
   "source": [
    "def iffunc(l):\n",
    "    if l[0] > 0: return l[1]\n",
    "    else: return l[2]"
   ]
  },
  {
   "cell_type": "code",
   "execution_count": 38,
   "metadata": {
    "collapsed": true
   },
   "outputs": [],
   "source": [
    "ifw = fwrapper(iffunc,3,'if')"
   ]
  },
  {
   "cell_type": "code",
   "execution_count": 39,
   "metadata": {
    "collapsed": true
   },
   "outputs": [],
   "source": [
    "def isgreater(l):\n",
    "    if l[0]>l[1]: return 1\n",
    "    else: return 0"
   ]
  },
  {
   "cell_type": "code",
   "execution_count": 40,
   "metadata": {
    "collapsed": true
   },
   "outputs": [],
   "source": [
    "gtw = fwrapper(isgreater,2,'isgreater')"
   ]
  },
  {
   "cell_type": "code",
   "execution_count": 41,
   "metadata": {
    "collapsed": true
   },
   "outputs": [],
   "source": [
    "flist=[addw,mulw,ifw,gtw,subw]"
   ]
  },
  {
   "cell_type": "code",
   "execution_count": 42,
   "metadata": {
    "collapsed": true
   },
   "outputs": [],
   "source": [
    "def exampletree():\n",
    "    return node(ifw,[node(gtw,[paramnode(0),constnode(3)]),\n",
    "                     node(addw,[paramnode(1),constnode(5)]),\n",
    "                     node(subw,[paramnode(1),constnode(2)]),]\n",
    "                )"
   ]
  },
  {
   "cell_type": "code",
   "execution_count": 43,
   "metadata": {
    "collapsed": true
   },
   "outputs": [],
   "source": [
    "extree = exampletree()"
   ]
  },
  {
   "cell_type": "code",
   "execution_count": 44,
   "metadata": {
    "collapsed": false
   },
   "outputs": [
    {
     "data": {
      "text/plain": [
       "1"
      ]
     },
     "execution_count": 44,
     "metadata": {},
     "output_type": "execute_result"
    }
   ],
   "source": [
    "extree.evaluate([2,3])"
   ]
  },
  {
   "cell_type": "code",
   "execution_count": 45,
   "metadata": {
    "collapsed": false
   },
   "outputs": [
    {
     "data": {
      "text/plain": [
       "8"
      ]
     },
     "execution_count": 45,
     "metadata": {},
     "output_type": "execute_result"
    }
   ],
   "source": [
    "extree.evaluate([5,3])"
   ]
  },
  {
   "cell_type": "code",
   "execution_count": 46,
   "metadata": {
    "collapsed": false
   },
   "outputs": [
    {
     "name": "stdout",
     "output_type": "stream",
     "text": [
      "if\n",
      " isgreater\n",
      "  p0\n",
      "  3\n",
      " add\n",
      "  p1\n",
      "  5\n",
      " substract\n",
      "  p1\n",
      "  2\n"
     ]
    }
   ],
   "source": [
    "extree.display()"
   ]
  },
  {
   "cell_type": "code",
   "execution_count": null,
   "metadata": {
    "collapsed": true
   },
   "outputs": [],
   "source": []
  }
 ],
 "metadata": {
  "celltoolbar": "Raw Cell Format",
  "kernelspec": {
   "display_name": "Python 2",
   "language": "python",
   "name": "python2"
  },
  "language_info": {
   "codemirror_mode": {
    "name": "ipython",
    "version": 2
   },
   "file_extension": ".py",
   "mimetype": "text/x-python",
   "name": "python",
   "nbconvert_exporter": "python",
   "pygments_lexer": "ipython2",
   "version": "2.7.8"
  }
 },
 "nbformat": 4,
 "nbformat_minor": 0
}
