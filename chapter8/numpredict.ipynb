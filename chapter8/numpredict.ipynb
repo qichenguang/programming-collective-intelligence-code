{
 "cells": [
  {
   "cell_type": "code",
   "execution_count": 1,
   "metadata": {
    "collapsed": true
   },
   "outputs": [],
   "source": [
    "from random import random,randint\n",
    "import math"
   ]
  },
  {
   "cell_type": "code",
   "execution_count": 2,
   "metadata": {
    "collapsed": true
   },
   "outputs": [],
   "source": [
    "def wineprice(rating,age):\n",
    "    peak_age = rating-50\n",
    "\n",
    "    # Calculate price based on rating\n",
    "    price = rating/2\n",
    "    if age > peak_age:\n",
    "        # Past its peak, goes bad in 10 years\n",
    "        price = price*(5-(age-peak_age)/2)\n",
    "    else:\n",
    "        # Increases to 5x original value as it\n",
    "        # approaches its peak\n",
    "        price=price*(5*((age+1)/peak_age))\n",
    "    if price < 0: price = 0\n",
    "    \n",
    "    #\n",
    "    return price"
   ]
  },
  {
   "cell_type": "code",
   "execution_count": 3,
   "metadata": {
    "collapsed": true
   },
   "outputs": [],
   "source": [
    "def wineset1():\n",
    "    rows = []\n",
    "    for i in range(300):\n",
    "        # Create a random age and rating\n",
    "        rating = random()*50+50\n",
    "        age = random()*50\n",
    "\n",
    "        # Get reference price\n",
    "        price = wineprice(rating,age)\n",
    "\n",
    "        # Add some noise\n",
    "        price *= (random()*0.4 + 0.8)\n",
    "\n",
    "        # Add to the dataset\n",
    "        rows.append({'input':(rating,age),'result':price})\n",
    "    return rows"
   ]
  },
  {
   "cell_type": "code",
   "execution_count": null,
   "metadata": {
    "collapsed": false
   },
   "outputs": [],
   "source": [
    "wineprice(95,45)"
   ]
  },
  {
   "cell_type": "code",
   "execution_count": null,
   "metadata": {
    "collapsed": false
   },
   "outputs": [],
   "source": [
    "wineprice(95,50)"
   ]
  },
  {
   "cell_type": "code",
   "execution_count": null,
   "metadata": {
    "collapsed": true
   },
   "outputs": [],
   "source": [
    "data = wineset1()"
   ]
  },
  {
   "cell_type": "code",
   "execution_count": null,
   "metadata": {
    "collapsed": false
   },
   "outputs": [],
   "source": [
    "data[0]"
   ]
  },
  {
   "cell_type": "code",
   "execution_count": null,
   "metadata": {
    "collapsed": false
   },
   "outputs": [],
   "source": [
    "data[1]"
   ]
  },
  {
   "cell_type": "code",
   "execution_count": 4,
   "metadata": {
    "collapsed": true
   },
   "outputs": [],
   "source": [
    "def euclidean(v1,v2):\n",
    "    d = 0.0\n",
    "    for i in range(len(v1)):\n",
    "        d += (v1[i]-v2[i])**2\n",
    "    return math.sqrt(d)"
   ]
  },
  {
   "cell_type": "code",
   "execution_count": null,
   "metadata": {
    "collapsed": false
   },
   "outputs": [],
   "source": [
    "data[0]['input']"
   ]
  },
  {
   "cell_type": "code",
   "execution_count": null,
   "metadata": {
    "collapsed": false
   },
   "outputs": [],
   "source": [
    "data[1]['input']"
   ]
  },
  {
   "cell_type": "code",
   "execution_count": null,
   "metadata": {
    "collapsed": false
   },
   "outputs": [],
   "source": [
    "euclidean(data[0]['input'],data[1]['input'])"
   ]
  },
  {
   "cell_type": "code",
   "execution_count": 5,
   "metadata": {
    "collapsed": true
   },
   "outputs": [],
   "source": [
    "def getdistances(data,vec1):\n",
    "    distancelist = []\n",
    "\n",
    "    # Loop over every item in the dataset\n",
    "    for i in range(len(data)):\n",
    "        vec2 = data[i]['input']\n",
    "        # Add the distance and the index\n",
    "        distancelist.append((euclidean(vec1,vec2),i))\n",
    "  \n",
    "    # Sort by distance\n",
    "    distancelist.sort()\n",
    "    return distancelist"
   ]
  },
  {
   "cell_type": "code",
   "execution_count": 6,
   "metadata": {
    "collapsed": true
   },
   "outputs": [],
   "source": [
    "def knnestimate(data,vec1,k=5):\n",
    "    # Get sorted distances\n",
    "    dlist = getdistances(data,vec1)\n",
    "    avg = 0.0\n",
    "\n",
    "    # Take the average of the top k results\n",
    "    for i in range(k):\n",
    "        idx = dlist[i][1]\n",
    "        avg += data[idx]['result']\n",
    "    #\n",
    "    avg = avg/k\n",
    "    return avg"
   ]
  },
  {
   "cell_type": "code",
   "execution_count": null,
   "metadata": {
    "collapsed": false
   },
   "outputs": [],
   "source": [
    "knnestimate(data,(95,3))"
   ]
  },
  {
   "cell_type": "code",
   "execution_count": null,
   "metadata": {
    "collapsed": false
   },
   "outputs": [],
   "source": [
    "knnestimate(data,(95,45))"
   ]
  },
  {
   "cell_type": "code",
   "execution_count": null,
   "metadata": {
    "collapsed": false
   },
   "outputs": [],
   "source": [
    "wineprice(95,45)"
   ]
  },
  {
   "cell_type": "code",
   "execution_count": null,
   "metadata": {
    "collapsed": false
   },
   "outputs": [],
   "source": [
    "knnestimate(data,(95,45),k=3)"
   ]
  },
  {
   "cell_type": "code",
   "execution_count": 7,
   "metadata": {
    "collapsed": true
   },
   "outputs": [],
   "source": [
    "def inverseweight(dist,num=1.0,const=0.1):\n",
    "    return num/(dist+const)"
   ]
  },
  {
   "cell_type": "code",
   "execution_count": 8,
   "metadata": {
    "collapsed": true
   },
   "outputs": [],
   "source": [
    "def subtractweight(dist,const=1.0):\n",
    "    if dist > const: \n",
    "        return 0\n",
    "    else: \n",
    "        return const-dist"
   ]
  },
  {
   "cell_type": "code",
   "execution_count": 9,
   "metadata": {
    "collapsed": true
   },
   "outputs": [],
   "source": [
    "def gaussian(dist,sigma=5.0):\n",
    "    return math.e**(-dist**2/(2*sigma**2))"
   ]
  },
  {
   "cell_type": "code",
   "execution_count": null,
   "metadata": {
    "collapsed": false
   },
   "outputs": [],
   "source": [
    "subtractweight(0.1)"
   ]
  },
  {
   "cell_type": "code",
   "execution_count": null,
   "metadata": {
    "collapsed": false
   },
   "outputs": [],
   "source": [
    "inverseweight(0.1)"
   ]
  },
  {
   "cell_type": "code",
   "execution_count": null,
   "metadata": {
    "collapsed": false
   },
   "outputs": [],
   "source": [
    "gaussian(0.1)"
   ]
  },
  {
   "cell_type": "code",
   "execution_count": null,
   "metadata": {
    "collapsed": false
   },
   "outputs": [],
   "source": [
    "gaussian(1)"
   ]
  },
  {
   "cell_type": "code",
   "execution_count": null,
   "metadata": {
    "collapsed": false
   },
   "outputs": [],
   "source": [
    "inverseweight(1)"
   ]
  },
  {
   "cell_type": "code",
   "execution_count": null,
   "metadata": {
    "collapsed": false
   },
   "outputs": [],
   "source": [
    "subtractweight(1)"
   ]
  },
  {
   "cell_type": "code",
   "execution_count": 10,
   "metadata": {
    "collapsed": true
   },
   "outputs": [],
   "source": [
    "def weightedknn(data,vec1,k=5,weightf=gaussian):\n",
    "    # Get distances\n",
    "    dlist = getdistances(data,vec1)\n",
    "    avg = 0.0\n",
    "    totalweight = 0.0\n",
    "  \n",
    "    # Get weighted average\n",
    "    for i in range(k):\n",
    "        dist = dlist[i][0]\n",
    "        idx = dlist[i][1]\n",
    "        weight = weightf(dist)\n",
    "        avg += weight * data[idx]['result']\n",
    "        totalweight += weight\n",
    "        \n",
    "    if totalweight==0: return 0\n",
    "    avg = avg/totalweight\n",
    "    return avg"
   ]
  },
  {
   "cell_type": "code",
   "execution_count": null,
   "metadata": {
    "collapsed": false
   },
   "outputs": [],
   "source": [
    "weightedknn(data,(95,45))"
   ]
  },
  {
   "cell_type": "code",
   "execution_count": null,
   "metadata": {
    "collapsed": false
   },
   "outputs": [],
   "source": [
    "weightedknn(data,(95,3))"
   ]
  },
  {
   "cell_type": "code",
   "execution_count": null,
   "metadata": {
    "collapsed": false
   },
   "outputs": [],
   "source": [
    "weightedknn(data,(95,50))"
   ]
  },
  {
   "cell_type": "code",
   "execution_count": 11,
   "metadata": {
    "collapsed": true
   },
   "outputs": [],
   "source": [
    "def dividedata(data,test=0.05):\n",
    "    trainset = []\n",
    "    testset = []\n",
    "    for row in data:\n",
    "        if random() < test:\n",
    "            testset.append(row)\n",
    "        else:\n",
    "            trainset.append(row)\n",
    "    #\n",
    "    return trainset,testset"
   ]
  },
  {
   "cell_type": "code",
   "execution_count": 12,
   "metadata": {
    "collapsed": true
   },
   "outputs": [],
   "source": [
    "def testalgorithm(algf,trainset,testset):\n",
    "    error = 0.0\n",
    "    for row in testset:\n",
    "        guess = algf(trainset,row['input'])\n",
    "        error += (row['result']-guess)**2\n",
    "        #print row['result'],guess\n",
    "        #print error/len(testset)\n",
    "        \n",
    "    return error/len(testset)"
   ]
  },
  {
   "cell_type": "code",
   "execution_count": 13,
   "metadata": {
    "collapsed": true
   },
   "outputs": [],
   "source": [
    "def crossvalidate(algf,data,trials=100,test=0.1):\n",
    "    error = 0.0\n",
    "    for i in range(trials):\n",
    "        trainset,testset = dividedata(data,test)\n",
    "        error += testalgorithm(algf,trainset,testset)\n",
    "    return error/trials"
   ]
  },
  {
   "cell_type": "code",
   "execution_count": null,
   "metadata": {
    "collapsed": false
   },
   "outputs": [],
   "source": [
    "crossvalidate(knnestimate,data)"
   ]
  },
  {
   "cell_type": "code",
   "execution_count": 14,
   "metadata": {
    "collapsed": true
   },
   "outputs": [],
   "source": [
    "def knn3(d,v):\n",
    "    return knnestimate(d,v,k=3)"
   ]
  },
  {
   "cell_type": "code",
   "execution_count": null,
   "metadata": {
    "collapsed": false
   },
   "outputs": [],
   "source": [
    "crossvalidate(knn3,data)"
   ]
  },
  {
   "cell_type": "code",
   "execution_count": 15,
   "metadata": {
    "collapsed": true
   },
   "outputs": [],
   "source": [
    "def knn1(d,v):\n",
    "    return knnestimate(d,v,k=1)"
   ]
  },
  {
   "cell_type": "code",
   "execution_count": null,
   "metadata": {
    "collapsed": false
   },
   "outputs": [],
   "source": [
    "crossvalidate(knn1,data)"
   ]
  },
  {
   "cell_type": "code",
   "execution_count": null,
   "metadata": {
    "collapsed": false
   },
   "outputs": [],
   "source": [
    "crossvalidate(weightedknn,data)"
   ]
  },
  {
   "cell_type": "code",
   "execution_count": 16,
   "metadata": {
    "collapsed": false
   },
   "outputs": [],
   "source": [
    "def knninverse(d,v):\n",
    "    return  weightedknn(d,v,k=5,weightf=inverseweight)"
   ]
  },
  {
   "cell_type": "code",
   "execution_count": null,
   "metadata": {
    "collapsed": false
   },
   "outputs": [],
   "source": [
    "crossvalidate(knninverse,data)"
   ]
  },
  {
   "cell_type": "markdown",
   "metadata": {},
   "source": [
    "# WINE SET 2"
   ]
  },
  {
   "cell_type": "code",
   "execution_count": 17,
   "metadata": {
    "collapsed": true
   },
   "outputs": [],
   "source": [
    "def wineset2():\n",
    "    rows = []\n",
    "    for i in range(300):\n",
    "        rating = random()*50+50\n",
    "        age = random()*50\n",
    "        aisle = float(randint(1,20))\n",
    "        bottlesize = [375.0,750.0,1500.0][randint(0,2)]\n",
    "        price = wineprice(rating,age)\n",
    "        price *= (bottlesize/750)\n",
    "        price *= (random()*0.2+0.9)\n",
    "        rows.append({'input':(rating,age,aisle,bottlesize),'result':price})\n",
    "    return rows"
   ]
  },
  {
   "cell_type": "code",
   "execution_count": null,
   "metadata": {
    "collapsed": false
   },
   "outputs": [],
   "source": [
    "randint(0,2)"
   ]
  },
  {
   "cell_type": "code",
   "execution_count": null,
   "metadata": {
    "collapsed": true
   },
   "outputs": [],
   "source": [
    "data = wineset2()"
   ]
  },
  {
   "cell_type": "code",
   "execution_count": null,
   "metadata": {
    "collapsed": false
   },
   "outputs": [],
   "source": [
    "crossvalidate(knn3,data)"
   ]
  },
  {
   "cell_type": "code",
   "execution_count": null,
   "metadata": {
    "collapsed": false
   },
   "outputs": [],
   "source": [
    "crossvalidate(weightedknn,data)"
   ]
  },
  {
   "cell_type": "code",
   "execution_count": 18,
   "metadata": {
    "collapsed": true
   },
   "outputs": [],
   "source": [
    "def rescale(data,scale):\n",
    "    scaleddata = []\n",
    "    for row in data:\n",
    "        scaled = [scale[i] * row['input'][i] for i in range(len(scale))]\n",
    "        scaleddata.append({'input':scaled,'result':row['result']})\n",
    "    return scaleddata"
   ]
  },
  {
   "cell_type": "code",
   "execution_count": null,
   "metadata": {
    "collapsed": true
   },
   "outputs": [],
   "source": [
    "sdata = rescale(data,[10,10,0,0.5])"
   ]
  },
  {
   "cell_type": "code",
   "execution_count": null,
   "metadata": {
    "collapsed": false
   },
   "outputs": [],
   "source": [
    "crossvalidate(weightedknn,sdata)"
   ]
  },
  {
   "cell_type": "code",
   "execution_count": null,
   "metadata": {
    "collapsed": false
   },
   "outputs": [],
   "source": [
    "crossvalidate(knn3,sdata)"
   ]
  },
  {
   "cell_type": "code",
   "execution_count": 19,
   "metadata": {
    "collapsed": true
   },
   "outputs": [],
   "source": [
    "def createcostfunction(algf,data):\n",
    "    def costf(scale):\n",
    "        sdata = rescale(data,scale)\n",
    "        return crossvalidate(algf,sdata,trials=20)\n",
    "    return costf"
   ]
  },
  {
   "cell_type": "code",
   "execution_count": null,
   "metadata": {
    "collapsed": true
   },
   "outputs": [],
   "source": [
    "weightdomain = [(0,20)] * 4"
   ]
  },
  {
   "cell_type": "code",
   "execution_count": 20,
   "metadata": {
    "collapsed": true
   },
   "outputs": [],
   "source": [
    "import optimization"
   ]
  },
  {
   "cell_type": "code",
   "execution_count": null,
   "metadata": {
    "collapsed": true
   },
   "outputs": [],
   "source": [
    "costf = createcostfunction(knnestimate,sdata)"
   ]
  },
  {
   "cell_type": "code",
   "execution_count": null,
   "metadata": {
    "collapsed": false
   },
   "outputs": [],
   "source": [
    "optimization.annealingoptimize(weightdomain,costf,step=2)"
   ]
  },
  {
   "cell_type": "code",
   "execution_count": 21,
   "metadata": {
    "collapsed": false
   },
   "outputs": [],
   "source": [
    "import optimization_qcg"
   ]
  },
  {
   "cell_type": "code",
   "execution_count": null,
   "metadata": {
    "collapsed": false
   },
   "outputs": [],
   "source": [
    "optimization_qcg.geneticoptimize(weightdomain,costf,popsize=50,step=1,mutprob=0.2,elite=0.2,maxiter=100)"
   ]
  },
  {
   "cell_type": "markdown",
   "metadata": {},
   "source": [
    "# WINE SET 3"
   ]
  },
  {
   "cell_type": "code",
   "execution_count": 22,
   "metadata": {
    "collapsed": true
   },
   "outputs": [],
   "source": [
    "def wineset3():\n",
    "    rows = wineset1()\n",
    "    for row in rows:\n",
    "        if random()<0.5:\n",
    "            # Wine was bought at a discount store\n",
    "            row['result'] *= 0.5\n",
    "    return rows"
   ]
  },
  {
   "cell_type": "code",
   "execution_count": 24,
   "metadata": {
    "collapsed": true
   },
   "outputs": [],
   "source": [
    "data = wineset3()"
   ]
  },
  {
   "cell_type": "code",
   "execution_count": 25,
   "metadata": {
    "collapsed": false
   },
   "outputs": [
    {
     "data": {
      "text/plain": [
       "135"
      ]
     },
     "execution_count": 25,
     "metadata": {},
     "output_type": "execute_result"
    }
   ],
   "source": [
    "wineprice(90,45)"
   ]
  },
  {
   "cell_type": "code",
   "execution_count": 26,
   "metadata": {
    "collapsed": false
   },
   "outputs": [
    {
     "data": {
      "text/plain": [
       "90.39812428530564"
      ]
     },
     "execution_count": 26,
     "metadata": {},
     "output_type": "execute_result"
    }
   ],
   "source": [
    "weightedknn(data,[90,45])"
   ]
  },
  {
   "cell_type": "code",
   "execution_count": 23,
   "metadata": {
    "collapsed": true
   },
   "outputs": [],
   "source": [
    "def probguess(data,vec1,low,high,k=5,weightf=gaussian):\n",
    "    dlist=getdistances(data,vec1)\n",
    "    nweight=0.0\n",
    "    tweight=0.0\n",
    "  \n",
    "    for i in range(k):\n",
    "        dist=dlist[i][0]\n",
    "        idx=dlist[i][1]\n",
    "        weight=weightf(dist)\n",
    "        v=data[idx]['result']\n",
    "    \n",
    "        # Is this point in the range?\n",
    "        if v>=low and v<=high:\n",
    "            nweight+=weight\n",
    "        tweight+=weight\n",
    "        if tweight==0: return 0\n",
    "\n",
    "        # The probability is the weights in the range\n",
    "        # divided by all the weights\n",
    "    return nweight/tweight"
   ]
  },
  {
   "cell_type": "code",
   "execution_count": null,
   "metadata": {
    "collapsed": false
   },
   "outputs": [],
   "source": [
    "a = [3,2,1,4,10]\n",
    "a.sort()\n",
    "a"
   ]
  },
  {
   "cell_type": "code",
   "execution_count": 27,
   "metadata": {
    "collapsed": false
   },
   "outputs": [
    {
     "data": {
      "text/plain": [
       "0.0"
      ]
     },
     "execution_count": 27,
     "metadata": {},
     "output_type": "execute_result"
    }
   ],
   "source": [
    "probguess(data,[90,45],0,40)"
   ]
  },
  {
   "cell_type": "code",
   "execution_count": 28,
   "metadata": {
    "collapsed": false
   },
   "outputs": [
    {
     "data": {
      "text/plain": [
       "0.20823544841181368"
      ]
     },
     "execution_count": 28,
     "metadata": {},
     "output_type": "execute_result"
    }
   ],
   "source": [
    "probguess(data,[90,45],40,80)"
   ]
  },
  {
   "cell_type": "code",
   "execution_count": 29,
   "metadata": {
    "collapsed": false
   },
   "outputs": [
    {
     "data": {
      "text/plain": [
       "0.5845451559970536"
      ]
     },
     "execution_count": 29,
     "metadata": {},
     "output_type": "execute_result"
    }
   ],
   "source": [
    "probguess(data,[90,45],80,120)"
   ]
  },
  {
   "cell_type": "code",
   "execution_count": 31,
   "metadata": {
    "collapsed": false
   },
   "outputs": [
    {
     "data": {
      "text/plain": [
       "0.20721939559113273"
      ]
     },
     "execution_count": 31,
     "metadata": {},
     "output_type": "execute_result"
    }
   ],
   "source": [
    "probguess(data,[90,45],120,160)"
   ]
  },
  {
   "cell_type": "code",
   "execution_count": 32,
   "metadata": {
    "collapsed": false
   },
   "outputs": [
    {
     "data": {
      "text/plain": [
       "0.0"
      ]
     },
     "execution_count": 32,
     "metadata": {},
     "output_type": "execute_result"
    }
   ],
   "source": [
    "probguess(data,[90,45],160,1000)"
   ]
  },
  {
   "cell_type": "code",
   "execution_count": 34,
   "metadata": {
    "collapsed": false
   },
   "outputs": [],
   "source": [
    "from pylab import *"
   ]
  },
  {
   "cell_type": "code",
   "execution_count": 35,
   "metadata": {
    "collapsed": true
   },
   "outputs": [],
   "source": [
    "a = array([1,2,3,4])\n",
    "b = array([4,3,2,1])\n",
    "plot(a,b)\n",
    "show()"
   ]
  },
  {
   "cell_type": "code",
   "execution_count": 36,
   "metadata": {
    "collapsed": false
   },
   "outputs": [
    {
     "data": {
      "text/plain": [
       "array([ 0. ,  0.1,  0.2,  0.3,  0.4,  0.5,  0.6,  0.7,  0.8,  0.9,  1. ,\n",
       "        1.1,  1.2,  1.3,  1.4,  1.5,  1.6,  1.7,  1.8,  1.9,  2. ,  2.1,\n",
       "        2.2,  2.3,  2.4,  2.5,  2.6,  2.7,  2.8,  2.9,  3. ,  3.1,  3.2,\n",
       "        3.3,  3.4,  3.5,  3.6,  3.7,  3.8,  3.9,  4. ,  4.1,  4.2,  4.3,\n",
       "        4.4,  4.5,  4.6,  4.7,  4.8,  4.9,  5. ,  5.1,  5.2,  5.3,  5.4,\n",
       "        5.5,  5.6,  5.7,  5.8,  5.9,  6. ,  6.1,  6.2,  6.3,  6.4,  6.5,\n",
       "        6.6,  6.7,  6.8,  6.9,  7. ,  7.1,  7.2,  7.3,  7.4,  7.5,  7.6,\n",
       "        7.7,  7.8,  7.9,  8. ,  8.1,  8.2,  8.3,  8.4,  8.5,  8.6,  8.7,\n",
       "        8.8,  8.9,  9. ,  9.1,  9.2,  9.3,  9.4,  9.5,  9.6,  9.7,  9.8,\n",
       "        9.9])"
      ]
     },
     "execution_count": 36,
     "metadata": {},
     "output_type": "execute_result"
    }
   ],
   "source": [
    "t1 = arange(0.0,10.0,0.1)\n",
    "t1"
   ]
  },
  {
   "cell_type": "code",
   "execution_count": 37,
   "metadata": {
    "collapsed": false
   },
   "outputs": [
    {
     "data": {
      "text/plain": [
       "[<matplotlib.lines.Line2D at 0x983c890>]"
      ]
     },
     "execution_count": 37,
     "metadata": {},
     "output_type": "execute_result"
    }
   ],
   "source": [
    "plot(t1,sin(t1))"
   ]
  },
  {
   "cell_type": "code",
   "execution_count": 38,
   "metadata": {
    "collapsed": true
   },
   "outputs": [],
   "source": [
    "show()"
   ]
  },
  {
   "cell_type": "code",
   "execution_count": 40,
   "metadata": {
    "collapsed": true
   },
   "outputs": [],
   "source": [
    "def cumulativegraph(data,vec1,high,k=5,weightf=gaussian):\n",
    "    t1 = arange(0.0,high,0.1)\n",
    "    cprob = array([probguess(data,vec1,0,v,k,weightf) for v in t1])\n",
    "    plot(t1,cprob)\n",
    "    show()"
   ]
  },
  {
   "cell_type": "code",
   "execution_count": 47,
   "metadata": {
    "collapsed": true
   },
   "outputs": [],
   "source": [
    "cumulativegraph(data,(90,45),160)"
   ]
  },
  {
   "cell_type": "code",
   "execution_count": 44,
   "metadata": {
    "collapsed": true
   },
   "outputs": [],
   "source": [
    "def probabilitygraph(data,vec1,high,k=5,weightf=gaussian,ss=5.0):\n",
    "    # Make a range for the prices\n",
    "    t1 = arange(0.0,high,0.1)\n",
    "\n",
    "    # Get the probabilities for the entire range\n",
    "    probs = [probguess(data,vec1,v,v+0.1,k,weightf) for v in t1]\n",
    "\n",
    "    # Smooth them by adding the gaussian of the nearby probabilites\n",
    "    smoothed = []\n",
    "    for i in range(len(probs)):\n",
    "        sv = 0.0\n",
    "        for j in range(0,len(probs)):\n",
    "            dist = abs(i-j)*0.1\n",
    "            weight = gaussian(dist,sigma=ss)\n",
    "            sv += weight*probs[j]\n",
    "        smoothed.append(sv)\n",
    "    smoothed = array(smoothed)\n",
    "\n",
    "    plot(t1,smoothed)\n",
    "    show()"
   ]
  },
  {
   "cell_type": "code",
   "execution_count": 45,
   "metadata": {
    "collapsed": true
   },
   "outputs": [],
   "source": [
    "probabilitygraph(data,(90,45),160)"
   ]
  },
  {
   "cell_type": "markdown",
   "metadata": {},
   "source": [
    "# Ebay"
   ]
  },
  {
   "cell_type": "code",
   "execution_count": 48,
   "metadata": {
    "collapsed": true
   },
   "outputs": [],
   "source": [
    "import httplib\n",
    "from xml.dom.minidom import parse, parseString, Node"
   ]
  },
  {
   "cell_type": "code",
   "execution_count": 49,
   "metadata": {
    "collapsed": true
   },
   "outputs": [],
   "source": [
    "devKey = 'YOUR DEV KEY'\n",
    "appKey = 'YOUR APP KEY'\n",
    "certKey = 'YOUR CERT KEY'\n",
    "serverUrl = 'api.ebay.com'\n",
    "userToken = 'YOUR TOKEN'"
   ]
  },
  {
   "cell_type": "code",
   "execution_count": 50,
   "metadata": {
    "collapsed": true
   },
   "outputs": [],
   "source": [
    "def getHeaders(apicall,siteID=\"0\",compatabilityLevel = \"433\"):\n",
    "    headers = {\"X-EBAY-API-COMPATIBILITY-LEVEL\": compatabilityLevel,\n",
    "                \"X-EBAY-API-DEV-NAME\": devKey,\n",
    "                \"X-EBAY-API-APP-NAME\": appKey,\n",
    "                \"X-EBAY-API-CERT-NAME\": certKey,\n",
    "                \"X-EBAY-API-CALL-NAME\": apicall,\n",
    "                \"X-EBAY-API-SITEID\": siteID,\n",
    "                \"Content-Type\": \"text/xml\"}\n",
    "    return headers"
   ]
  },
  {
   "cell_type": "code",
   "execution_count": 51,
   "metadata": {
    "collapsed": true
   },
   "outputs": [],
   "source": [
    "def sendRequest(apicall,xmlparameters):\n",
    "    connection = httplib.HTTPSConnection(serverUrl)\n",
    "    connection.request(\"POST\", '/ws/api.dll', xmlparameters, getHeaders(apicall))\n",
    "    response = connection.getresponse()\n",
    "    if response.status != 200:\n",
    "        print \"Error sending request:\" + response.reason\n",
    "    else: \n",
    "        data = response.read()\n",
    "        connection.close()\n",
    "    return data"
   ]
  },
  {
   "cell_type": "code",
   "execution_count": 52,
   "metadata": {
    "collapsed": true
   },
   "outputs": [],
   "source": [
    "def getSingleValue(node,tag):\n",
    "    nl = node.getElementsByTagName(tag)\n",
    "    if len(nl)>0:\n",
    "        tagNode = nl[0]\n",
    "        if tagNode.hasChildNodes():\n",
    "            return tagNode.firstChild.nodeValue\n",
    "    return '-1'"
   ]
  },
  {
   "cell_type": "code",
   "execution_count": 53,
   "metadata": {
    "collapsed": true
   },
   "outputs": [],
   "source": [
    "def doSearch(query,categoryID=None,page=1):\n",
    "    xml = \"<?xml version='1.0' encoding='utf-8'?>\" + \\\n",
    "            \"<GetSearchResultsRequest xmlns=\\\"urn:ebay:apis:eBLBaseComponents\\\">\" + \\\n",
    "            \"<RequesterCredentials><eBayAuthToken>\"  + \\\n",
    "            userToken  + \\\n",
    "            \"</eBayAuthToken></RequesterCredentials>\" + \\\n",
    "            \"<Pagination>\"+\\\n",
    "            \"<EntriesPerPage>200</EntriesPerPage>\" + \\\n",
    "            \"<PageNumber>\"+str(page)+\"</PageNumber>\" + \\\n",
    "            \"</Pagination>\" + \\\n",
    "            \"<Query>\" + query + \"</Query>\"\n",
    "    if categoryID != None:\n",
    "        xml += \"<CategoryID>\" + str(categoryID) + \"</CategoryID>\"\n",
    "    xml += \"</GetSearchResultsRequest>\"\n",
    "\n",
    "    data = sendRequest('GetSearchResults',xml)\n",
    "    response = parseString(data)\n",
    "    itemNodes = response.getElementsByTagName('Item');\n",
    "    results = []\n",
    "    for item in itemNodes:\n",
    "        itemId = getSingleValue(item,'ItemID')\n",
    "        itemTitle = getSingleValue(item,'Title')\n",
    "        itemPrice = getSingleValue(item,'CurrentPrice')\n",
    "        itemEnds = getSingleValue(item,'EndTime')\n",
    "        results.append((itemId,itemTitle,itemPrice,itemEnds))\n",
    "    return results"
   ]
  },
  {
   "cell_type": "code",
   "execution_count": 54,
   "metadata": {
    "collapsed": true
   },
   "outputs": [],
   "source": [
    "def getCategory(query='',parentID=None,siteID='0'):\n",
    "    lquery = query.lower()\n",
    "    xml = \"<?xml version='1.0' encoding='utf-8'?>\" + \\\n",
    "            \"<GetCategoriesRequest xmlns=\\\"urn:ebay:apis:eBLBaseComponents\\\">\" + \\\n",
    "            \"<RequesterCredentials><eBayAuthToken>\" + \\\n",
    "            userToken  + \\\n",
    "            \"</eBayAuthToken></RequesterCredentials>\" + \\\n",
    "            \"<DetailLevel>ReturnAll</DetailLevel>\" + \\\n",
    "            \"<ViewAllNodes>true</ViewAllNodes>\" + \\\n",
    "            \"<CategorySiteID>\" + siteID + \"</CategorySiteID>\"\n",
    "    if parentID == None:\n",
    "        xml += \"<LevelLimit>1</LevelLimit>\"\n",
    "    else:\n",
    "        xml += \"<CategoryParent>\" + str(parentID) + \"</CategoryParent>\"\n",
    "    xml += \"</GetCategoriesRequest>\"\n",
    "    data = sendRequest('GetCategories',xml)\n",
    "    categoryList = parseString(data)\n",
    "    catNodes = categoryList.getElementsByTagName('Category')\n",
    "    for node in catNodes:\n",
    "        catid=getSingleValue(node,'CategoryID')\n",
    "        name=getSingleValue(node,'CategoryName')\n",
    "        if name.lower().find(lquery) != -1:\n",
    "            print catid,name"
   ]
  },
  {
   "cell_type": "code",
   "execution_count": 55,
   "metadata": {
    "collapsed": true
   },
   "outputs": [],
   "source": [
    "def getItem(itemID):\n",
    "    xml = \"<?xml version='1.0' encoding='utf-8'?>\" + \\\n",
    "            \"<GetItemRequest xmlns=\\\"urn:ebay:apis:eBLBaseComponents\\\">\" + \\\n",
    "            \"<RequesterCredentials><eBayAuthToken>\" + \\\n",
    "            userToken + \\\n",
    "            \"</eBayAuthToken></RequesterCredentials>\" + \\\n",
    "            \"<ItemID>\" + str(itemID) + \"</ItemID>\" + \\\n",
    "            \"<DetailLevel>ItemReturnAttributes</DetailLevel>\" + \\\n",
    "            \"</GetItemRequest>\"\n",
    "    data = sendRequest('GetItem',xml)\n",
    "    result = {}\n",
    "    response = parseString(data)\n",
    "    result['title'] = getSingleValue(response,'Title')\n",
    "    sellingStatusNode = response.getElementsByTagName('SellingStatus')[0];\n",
    "    result['price'] = getSingleValue(sellingStatusNode,'CurrentPrice')\n",
    "    result['bids'] = getSingleValue(sellingStatusNode,'BidCount')\n",
    "    seller = response.getElementsByTagName('Seller')\n",
    "    result['feedback'] = getSingleValue(seller[0],'FeedbackScore')\n",
    "\n",
    "    attributeSet = response.getElementsByTagName('Attribute');\n",
    "    attributes = {}\n",
    "    for att in attributeSet:\n",
    "        attID = att.attributes.getNamedItem('attributeID').nodeValue\n",
    "        attValue = getSingleValue(att,'ValueLiteral')\n",
    "        attributes[attID] = attValue\n",
    "    result['attributes'] = attributes\n",
    "    return result\n"
   ]
  },
  {
   "cell_type": "code",
   "execution_count": 56,
   "metadata": {
    "collapsed": true
   },
   "outputs": [],
   "source": [
    "def makeLaptopDataset():\n",
    "    searchResults = doSearch('laptop',categoryID=51148)\n",
    "    result = []\n",
    "    for r in searchResults:\n",
    "        item = getItem(r[0])\n",
    "        att = item['attributes']\n",
    "        try:\n",
    "            data = (float(att['12']),float(att['26444']),\n",
    "                    float(att['26446']),float(att['25710']),\n",
    "                    float(item['feedback'])\n",
    "               )\n",
    "            entry = {'input':data,'result':float(item['price'])}\n",
    "            result.append(entry)\n",
    "        except:\n",
    "            print item['title'] + ' failed'\n",
    "    return result"
   ]
  },
  {
   "cell_type": "code",
   "execution_count": null,
   "metadata": {
    "collapsed": true
   },
   "outputs": [],
   "source": []
  }
 ],
 "metadata": {
  "celltoolbar": "Raw Cell Format",
  "kernelspec": {
   "display_name": "Python 2",
   "language": "python",
   "name": "python2"
  },
  "language_info": {
   "codemirror_mode": {
    "name": "ipython",
    "version": 2
   },
   "file_extension": ".py",
   "mimetype": "text/x-python",
   "name": "python",
   "nbconvert_exporter": "python",
   "pygments_lexer": "ipython2",
   "version": "2.7.8"
  }
 },
 "nbformat": 4,
 "nbformat_minor": 0
}
