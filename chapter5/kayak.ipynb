{
 "cells": [
  {
   "cell_type": "code",
   "execution_count": 2,
   "metadata": {
    "collapsed": true
   },
   "outputs": [],
   "source": [
    "import time\n",
    "import urllib2\n",
    "import xml.dom.minidom"
   ]
  },
  {
   "cell_type": "code",
   "execution_count": 10,
   "metadata": {
    "collapsed": false
   },
   "outputs": [],
   "source": [
    "dom = xml.dom.minidom.parseString('<data><rec>Hello!</rec></data>')"
   ]
  },
  {
   "cell_type": "code",
   "execution_count": 11,
   "metadata": {
    "collapsed": false
   },
   "outputs": [
    {
     "data": {
      "text/plain": [
       "<xml.dom.minidom.Document instance at 0x064FA698>"
      ]
     },
     "execution_count": 11,
     "metadata": {},
     "output_type": "execute_result"
    }
   ],
   "source": [
    "dom"
   ]
  },
  {
   "cell_type": "code",
   "execution_count": 12,
   "metadata": {
    "collapsed": false
   },
   "outputs": [],
   "source": [
    "r = dom.getElementsByTagName('rec')"
   ]
  },
  {
   "cell_type": "code",
   "execution_count": 13,
   "metadata": {
    "collapsed": false
   },
   "outputs": [
    {
     "data": {
      "text/plain": [
       "[<DOM Element: rec at 0x64fa620>]"
      ]
     },
     "execution_count": 13,
     "metadata": {},
     "output_type": "execute_result"
    }
   ],
   "source": [
    "r"
   ]
  },
  {
   "cell_type": "code",
   "execution_count": 14,
   "metadata": {
    "collapsed": false
   },
   "outputs": [
    {
     "data": {
      "text/plain": [
       "<DOM Text node \"u'Hello!'\">"
      ]
     },
     "execution_count": 14,
     "metadata": {},
     "output_type": "execute_result"
    }
   ],
   "source": [
    "r[0].firstChild"
   ]
  },
  {
   "cell_type": "code",
   "execution_count": 15,
   "metadata": {
    "collapsed": false
   },
   "outputs": [
    {
     "data": {
      "text/plain": [
       "u'Hello!'"
      ]
     },
     "execution_count": 15,
     "metadata": {},
     "output_type": "execute_result"
    }
   ],
   "source": [
    "r[0].firstChild.data"
   ]
  },
  {
   "cell_type": "code",
   "execution_count": 16,
   "metadata": {
    "collapsed": true
   },
   "outputs": [],
   "source": [
    "kayakkey='YOUR KEY HERE'\n",
    "\n",
    "def getkayaksession():\n",
    "    # Construct the URL to start a session\n",
    "    url='http://www.kayak.com/k/ident/apisession?token=%s&version=1' % kayakkey\n",
    "\n",
    "    # Parse the resulting XML\n",
    "    doc=xml.dom.minidom.parseString(urllib2.urlopen(url).read())\n",
    "\n",
    "    # Find <sid>xxxxxxxx</sid>\n",
    "    sid=doc.getElementsByTagName('sid')[0].firstChild.data\n",
    "    return sid"
   ]
  },
  {
   "cell_type": "code",
   "execution_count": 17,
   "metadata": {
    "collapsed": false
   },
   "outputs": [
    {
     "ename": "AttributeError",
     "evalue": "'NoneType' object has no attribute 'data'",
     "output_type": "error",
     "traceback": [
      "\u001b[1;31m---------------------------------------------------------------------------\u001b[0m",
      "\u001b[1;31mAttributeError\u001b[0m                            Traceback (most recent call last)",
      "\u001b[1;32m<ipython-input-17-629928950578>\u001b[0m in \u001b[0;36m<module>\u001b[1;34m()\u001b[0m\n\u001b[1;32m----> 1\u001b[1;33m \u001b[0msid\u001b[0m \u001b[1;33m=\u001b[0m \u001b[0mgetkayaksession\u001b[0m\u001b[1;33m(\u001b[0m\u001b[1;33m)\u001b[0m\u001b[1;33m\u001b[0m\u001b[0m\n\u001b[0m",
      "\u001b[1;32m<ipython-input-16-4d0169a91fdd>\u001b[0m in \u001b[0;36mgetkayaksession\u001b[1;34m()\u001b[0m\n\u001b[0;32m      9\u001b[0m \u001b[1;33m\u001b[0m\u001b[0m\n\u001b[0;32m     10\u001b[0m     \u001b[1;31m# Find <sid>xxxxxxxx</sid>\u001b[0m\u001b[1;33m\u001b[0m\u001b[1;33m\u001b[0m\u001b[0m\n\u001b[1;32m---> 11\u001b[1;33m     \u001b[0msid\u001b[0m\u001b[1;33m=\u001b[0m\u001b[0mdoc\u001b[0m\u001b[1;33m.\u001b[0m\u001b[0mgetElementsByTagName\u001b[0m\u001b[1;33m(\u001b[0m\u001b[1;34m'sid'\u001b[0m\u001b[1;33m)\u001b[0m\u001b[1;33m[\u001b[0m\u001b[1;36m0\u001b[0m\u001b[1;33m]\u001b[0m\u001b[1;33m.\u001b[0m\u001b[0mfirstChild\u001b[0m\u001b[1;33m.\u001b[0m\u001b[0mdata\u001b[0m\u001b[1;33m\u001b[0m\u001b[0m\n\u001b[0m\u001b[0;32m     12\u001b[0m     \u001b[1;32mreturn\u001b[0m \u001b[0msid\u001b[0m\u001b[1;33m\u001b[0m\u001b[0m\n",
      "\u001b[1;31mAttributeError\u001b[0m: 'NoneType' object has no attribute 'data'"
     ]
    }
   ],
   "source": [
    "sid = getkayaksession()"
   ]
  },
  {
   "cell_type": "code",
   "execution_count": 18,
   "metadata": {
    "collapsed": true
   },
   "outputs": [],
   "source": [
    "def flightsearch(sid,origin,destination,depart_date):\n",
    "  \n",
    "    # Construct search URL\n",
    "    url='http://www.kayak.com/s/apisearch?basicmode=true&oneway=y&origin=%s' % origin\n",
    "    url+='&destination=%s&depart_date=%s' % (destination,depart_date)\n",
    "    url+='&return_date=none&depart_time=a&return_time=a'\n",
    "    url+='&travelers=1&cabin=e&action=doFlights&apimode=1'\n",
    "    url+='&_sid_=%s&version=1' % (sid)\n",
    "\n",
    "    # Get the XML\n",
    "    doc=xml.dom.minidom.parseString(urllib2.urlopen(url).read())\n",
    "\n",
    "    # Extract the search ID\n",
    "    searchid=doc.getElementsByTagName('searchid')[0].firstChild.data\n",
    "\n",
    "    return searchid"
   ]
  },
  {
   "cell_type": "code",
   "execution_count": 19,
   "metadata": {
    "collapsed": true
   },
   "outputs": [],
   "source": [
    "def flightsearchresults(sid,searchid):\n",
    "    def parseprice(p): \n",
    "        return float(p[1:].replace(',',''))\n",
    "\n",
    "    # Polling loop\n",
    "    while 1:\n",
    "        time.sleep(2)\n",
    "\n",
    "        # Construct URL for polling\n",
    "        url='http://www.kayak.com/s/basic/flight?'\n",
    "        url+='searchid=%s&c=5&apimode=1&_sid_=%s&version=1' % (searchid,sid)\n",
    "        doc=xml.dom.minidom.parseString(urllib2.urlopen(url).read())\n",
    "\n",
    "        # Look for morepending tag, and wait until it is no longer true\n",
    "        morepending=doc.getElementsByTagName('morepending')[0].firstChild\n",
    "        if morepending==None or morepending.data=='false': break\n",
    "\n",
    "    # Now download the complete list\n",
    "    url='http://www.kayak.com/s/basic/flight?'\n",
    "    url+='searchid=%s&c=999&apimode=1&_sid_=%s&version=1' % (searchid,sid)\n",
    "    doc=xml.dom.minidom.parseString(urllib2.urlopen(url).read())\n",
    "\n",
    "    # Get the various elements as lists\n",
    "    prices=doc.getElementsByTagName('price')\n",
    "    departures=doc.getElementsByTagName('depart')\n",
    "    arrivals=doc.getElementsByTagName('arrive')  \n",
    "\n",
    "    # Zip them together\n",
    "    return zip([p.firstChild.data.split(' ')[1] for p in departures],\n",
    "                [p.firstChild.data.split(' ')[1] for p in arrivals],\n",
    "                [parseprice(p.firstChild.data) for p in prices])"
   ]
  },
  {
   "cell_type": "code",
   "execution_count": 20,
   "metadata": {
    "collapsed": false
   },
   "outputs": [
    {
     "ename": "AttributeError",
     "evalue": "'NoneType' object has no attribute 'data'",
     "output_type": "error",
     "traceback": [
      "\u001b[1;31m---------------------------------------------------------------------------\u001b[0m",
      "\u001b[1;31mAttributeError\u001b[0m                            Traceback (most recent call last)",
      "\u001b[1;32m<ipython-input-20-6b6fe56135fd>\u001b[0m in \u001b[0;36m<module>\u001b[1;34m()\u001b[0m\n\u001b[1;32m----> 1\u001b[1;33m \u001b[0msid\u001b[0m\u001b[1;33m=\u001b[0m\u001b[0mgetkayaksession\u001b[0m\u001b[1;33m(\u001b[0m\u001b[1;33m)\u001b[0m\u001b[1;33m\u001b[0m\u001b[0m\n\u001b[0m\u001b[0;32m      2\u001b[0m \u001b[0msearchid\u001b[0m\u001b[1;33m=\u001b[0m\u001b[0mflightsearch\u001b[0m\u001b[1;33m(\u001b[0m\u001b[0msid\u001b[0m\u001b[1;33m,\u001b[0m\u001b[1;34m'BOS'\u001b[0m\u001b[1;33m,\u001b[0m\u001b[1;34m'LGA'\u001b[0m\u001b[1;33m,\u001b[0m\u001b[1;34m'11/17/ 2006'\u001b[0m\u001b[1;33m)\u001b[0m\u001b[1;33m\u001b[0m\u001b[0m\n\u001b[0;32m      3\u001b[0m \u001b[0mf\u001b[0m\u001b[1;33m=\u001b[0m\u001b[0mflightsearchresults\u001b[0m\u001b[1;33m(\u001b[0m\u001b[0msid\u001b[0m\u001b[1;33m,\u001b[0m\u001b[0msearchid\u001b[0m\u001b[1;33m)\u001b[0m\u001b[1;33m\u001b[0m\u001b[0m\n",
      "\u001b[1;32m<ipython-input-16-4d0169a91fdd>\u001b[0m in \u001b[0;36mgetkayaksession\u001b[1;34m()\u001b[0m\n\u001b[0;32m      9\u001b[0m \u001b[1;33m\u001b[0m\u001b[0m\n\u001b[0;32m     10\u001b[0m     \u001b[1;31m# Find <sid>xxxxxxxx</sid>\u001b[0m\u001b[1;33m\u001b[0m\u001b[1;33m\u001b[0m\u001b[0m\n\u001b[1;32m---> 11\u001b[1;33m     \u001b[0msid\u001b[0m\u001b[1;33m=\u001b[0m\u001b[0mdoc\u001b[0m\u001b[1;33m.\u001b[0m\u001b[0mgetElementsByTagName\u001b[0m\u001b[1;33m(\u001b[0m\u001b[1;34m'sid'\u001b[0m\u001b[1;33m)\u001b[0m\u001b[1;33m[\u001b[0m\u001b[1;36m0\u001b[0m\u001b[1;33m]\u001b[0m\u001b[1;33m.\u001b[0m\u001b[0mfirstChild\u001b[0m\u001b[1;33m.\u001b[0m\u001b[0mdata\u001b[0m\u001b[1;33m\u001b[0m\u001b[0m\n\u001b[0m\u001b[0;32m     12\u001b[0m     \u001b[1;32mreturn\u001b[0m \u001b[0msid\u001b[0m\u001b[1;33m\u001b[0m\u001b[0m\n",
      "\u001b[1;31mAttributeError\u001b[0m: 'NoneType' object has no attribute 'data'"
     ]
    }
   ],
   "source": [
    "sid=getkayaksession()\n",
    "searchid=flightsearch(sid,'BOS','LGA','11/17/2006')\n",
    "f=flightsearchresults(sid,searchid)"
   ]
  },
  {
   "cell_type": "code",
   "execution_count": 21,
   "metadata": {
    "collapsed": true
   },
   "outputs": [],
   "source": [
    "def createschedule(people,dest,dep,ret):\n",
    "    # Get a session id for these searches\n",
    "    sid=getkayaksession()\n",
    "    flights={}\n",
    "  \n",
    "    for p in people:\n",
    "        name,origin=p\n",
    "        # Outbound flight\n",
    "        searchid=flightsearch(sid,origin,dest,dep)\n",
    "        flights[(origin,dest)]=flightsearchresults(sid,searchid)\n",
    "\n",
    "        # Return flight\n",
    "        searchid=flightsearch(sid,dest,origin,ret)\n",
    "        flights[(dest,origin)]=flightsearchresults(sid,searchid)\n",
    "    \n",
    "    return flights"
   ]
  },
  {
   "cell_type": "code",
   "execution_count": 22,
   "metadata": {
    "collapsed": false
   },
   "outputs": [
    {
     "ename": "NameError",
     "evalue": "name 'optimization' is not defined",
     "output_type": "error",
     "traceback": [
      "\u001b[1;31m---------------------------------------------------------------------------\u001b[0m",
      "\u001b[1;31mNameError\u001b[0m                                 Traceback (most recent call last)",
      "\u001b[1;32m<ipython-input-22-1ab4a1034a81>\u001b[0m in \u001b[0;36m<module>\u001b[1;34m()\u001b[0m\n\u001b[1;32m----> 1\u001b[1;33m \u001b[0mf\u001b[0m \u001b[1;33m=\u001b[0m \u001b[0mcreateschedule\u001b[0m\u001b[1;33m(\u001b[0m\u001b[0moptimization\u001b[0m\u001b[1;33m.\u001b[0m\u001b[0mpeople\u001b[0m\u001b[1;33m[\u001b[0m\u001b[1;36m0\u001b[0m\u001b[1;33m:\u001b[0m\u001b[1;36m2\u001b[0m\u001b[1;33m]\u001b[0m\u001b[1;33m,\u001b[0m\u001b[1;34m'LGA'\u001b[0m\u001b[1;33m,\u001b[0m\u001b[1;34m'11/17/2006'\u001b[0m\u001b[1;33m,\u001b[0m\u001b[1;34m'11/19/2006'\u001b[0m\u001b[1;33m)\u001b[0m\u001b[1;33m\u001b[0m\u001b[0m\n\u001b[0m\u001b[0;32m      2\u001b[0m \u001b[0moptimization\u001b[0m\u001b[1;33m.\u001b[0m\u001b[0mflight\u001b[0m\u001b[1;33m=\u001b[0m\u001b[0mf\u001b[0m\u001b[1;33m\u001b[0m\u001b[0m\n\u001b[0;32m      3\u001b[0m \u001b[0mdomain\u001b[0m \u001b[1;33m=\u001b[0m \u001b[1;33m[\u001b[0m\u001b[1;33m(\u001b[0m\u001b[0mO\u001b[0m\u001b[1;33m,\u001b[0m\u001b[1;36m30\u001b[0m\u001b[1;33m)\u001b[0m\u001b[1;33m]\u001b[0m \u001b[1;33m*\u001b[0m \u001b[0mlen\u001b[0m\u001b[1;33m(\u001b[0m\u001b[0mf\u001b[0m\u001b[1;33m)\u001b[0m\u001b[1;33m\u001b[0m\u001b[0m\n\u001b[0;32m      4\u001b[0m \u001b[0ms\u001b[0m \u001b[1;33m=\u001b[0m \u001b[0moptimization\u001b[0m\u001b[1;33m.\u001b[0m\u001b[0mgeneticoptimize\u001b[0m\u001b[1;33m(\u001b[0m\u001b[0mdomain\u001b[0m\u001b[1;33m,\u001b[0m\u001b[0moptimization\u001b[0m\u001b[1;33m.\u001b[0m\u001b[0mschedulecost\u001b[0m\u001b[1;33m)\u001b[0m\u001b[1;33m\u001b[0m\u001b[0m\n\u001b[0;32m      5\u001b[0m \u001b[0mprintschedule\u001b[0m\u001b[1;33m(\u001b[0m\u001b[0ms\u001b[0m\u001b[1;33m)\u001b[0m\u001b[1;33m\u001b[0m\u001b[0m\n",
      "\u001b[1;31mNameError\u001b[0m: name 'optimization' is not defined"
     ]
    }
   ],
   "source": [
    "f = createschedule(optimization.people[0:2],'LGA','11/17/2006','11/19/2006')\n",
    "optimization.flight=f\n",
    "domain = [(O,30)] * len(f)\n",
    "s = optimization.geneticoptimize(domain,optimization.schedulecost)\n",
    "printschedule(s)"
   ]
  },
  {
   "cell_type": "code",
   "execution_count": null,
   "metadata": {
    "collapsed": true
   },
   "outputs": [],
   "source": []
  }
 ],
 "metadata": {
  "celltoolbar": "Raw Cell Format",
  "kernelspec": {
   "display_name": "Python 2",
   "language": "python",
   "name": "python2"
  },
  "language_info": {
   "codemirror_mode": {
    "name": "ipython",
    "version": 2
   },
   "file_extension": ".py",
   "mimetype": "text/x-python",
   "name": "python",
   "nbconvert_exporter": "python",
   "pygments_lexer": "ipython2",
   "version": "2.7.8"
  }
 },
 "nbformat": 4,
 "nbformat_minor": 0
}
