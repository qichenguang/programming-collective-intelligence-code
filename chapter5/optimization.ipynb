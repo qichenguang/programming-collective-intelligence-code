{
 "cells": [
  {
   "cell_type": "code",
   "execution_count": 1,
   "metadata": {
    "collapsed": true
   },
   "outputs": [],
   "source": [
    "import time\n",
    "import random\n",
    "import math"
   ]
  },
  {
   "cell_type": "code",
   "execution_count": 2,
   "metadata": {
    "collapsed": true
   },
   "outputs": [],
   "source": [
    "people = [('Seymour','BOS'),\n",
    "          ('Franny','DAL'),\n",
    "          ('Zooey','CAK'),\n",
    "          ('Walt','MIA'),\n",
    "          ('Buddy','ORD'),\n",
    "          ('Les','OMA')]"
   ]
  },
  {
   "cell_type": "code",
   "execution_count": 3,
   "metadata": {
    "collapsed": true
   },
   "outputs": [],
   "source": [
    "# Laguardia\n",
    "destination='LGA'\n",
    "flights={}"
   ]
  },
  {
   "cell_type": "code",
   "execution_count": 4,
   "metadata": {
    "collapsed": true
   },
   "outputs": [],
   "source": [
    "for line in file('schedule.txt'):\n",
    "    origin,dest,depart,arrive,price=line.strip().split(',')\n",
    "    flights.setdefault((origin,dest),[])\n",
    "\n",
    "    # Add details to the list of possible flights\n",
    "    flights[(origin,dest)].append((depart,arrive,int(price)))"
   ]
  },
  {
   "cell_type": "code",
   "execution_count": 5,
   "metadata": {
    "collapsed": true
   },
   "outputs": [],
   "source": [
    "def getminutes(t):\n",
    "    x=time.strptime(t,'%H:%M')\n",
    "    return x[3]*60+x[4]"
   ]
  },
  {
   "cell_type": "code",
   "execution_count": null,
   "metadata": {
    "collapsed": true
   },
   "outputs": [],
   "source": [
    "x=time.strptime('13:24','%H:%M')"
   ]
  },
  {
   "cell_type": "code",
   "execution_count": null,
   "metadata": {
    "collapsed": false
   },
   "outputs": [],
   "source": [
    "x"
   ]
  },
  {
   "cell_type": "code",
   "execution_count": null,
   "metadata": {
    "collapsed": false
   },
   "outputs": [],
   "source": [
    "x[3]"
   ]
  },
  {
   "cell_type": "code",
   "execution_count": 6,
   "metadata": {
    "collapsed": true
   },
   "outputs": [],
   "source": [
    "def printschedule(r):\n",
    "    for d in range(len(r)/2):\n",
    "        name=people[d][0]\n",
    "        origin=people[d][1]\n",
    "        out=flights[(origin,destination)][int(r[d*2])]\n",
    "        ret=flights[(destination,origin)][int(r[d*2+1])]\n",
    "        print '%10s%10s %5s-%5s $%3s %5s-%5s $%3s' % (name,origin,\n",
    "                                                      out[0],out[1],out[2],\n",
    "                                                      ret[0],ret[1],ret[2])"
   ]
  },
  {
   "cell_type": "code",
   "execution_count": null,
   "metadata": {
    "collapsed": true
   },
   "outputs": [],
   "source": [
    "s = [1,4,3,2,7,3,6,3,2,4,5,3]"
   ]
  },
  {
   "cell_type": "code",
   "execution_count": null,
   "metadata": {
    "collapsed": false
   },
   "outputs": [],
   "source": [
    "printschedule(s)"
   ]
  },
  {
   "cell_type": "code",
   "execution_count": 7,
   "metadata": {
    "collapsed": true
   },
   "outputs": [],
   "source": [
    "def schedulecost(sol):\n",
    "    totalprice=0\n",
    "    latestarrival=0\n",
    "    earliestdep=24*60\n",
    "\n",
    "    for d in range(len(sol)/2):\n",
    "        # Get the inbound and outbound flights\n",
    "        origin=people[d][1]\n",
    "        outbound=flights[(origin,destination)][int(sol[d*2])]\n",
    "        returnf=flights[(destination,origin)][int(sol[d*2+1])]\n",
    "\n",
    "        # Total price is the price of all outbound and return flights\n",
    "        totalprice+=outbound[2]\n",
    "        totalprice+=returnf[2]\n",
    "\n",
    "        # Track the latest arrival and earliest departure\n",
    "        if latestarrival<getminutes(outbound[1]): latestarrival=getminutes(outbound[1])\n",
    "        if earliestdep>getminutes(returnf[0]): earliestdep=getminutes(returnf[0])\n",
    "  \n",
    "    # Every person must wait at the airport until the latest person arrives.\n",
    "    # They also must arrive at the same time and wait for their flights.\n",
    "    totalwait=0  \n",
    "    for d in range(len(sol)/2):\n",
    "        origin = people[d][1]\n",
    "        outbound=flights[(origin,destination)][int(sol[d*2])]\n",
    "        returnf=flights[(destination,origin)][int(sol[d*2+1])]\n",
    "        totalwait+=latestarrival-getminutes(outbound[1])\n",
    "        totalwait+=getminutes(returnf[0])-earliestdep  \n",
    "\n",
    "    # Does this solution require an extra day of car rental? That'll be $50!\n",
    "    if latestarrival>earliestdep: totalprice+=50\n",
    "\n",
    "    return totalprice + totalwait\n"
   ]
  },
  {
   "cell_type": "code",
   "execution_count": null,
   "metadata": {
    "collapsed": false
   },
   "outputs": [],
   "source": [
    "schedulecost(s)"
   ]
  },
  {
   "cell_type": "code",
   "execution_count": 22,
   "metadata": {
    "collapsed": false
   },
   "outputs": [],
   "source": [
    "def randomoptimize(domain,costf):\n",
    "    best = 999999999\n",
    "    bestr = None\n",
    "    for pos in range(0,10000):\n",
    "        # Create a random solution\n",
    "        r = [float(random.randint(domain[i][0],domain[i][1])) for i in range(len(domain))]\n",
    "    \n",
    "        # Get the cost\n",
    "        cost = costf(r)\n",
    "        # Compare it to the best one so far\n",
    "        if cost < best:\n",
    "            best = cost\n",
    "            bestr = r \n",
    "    print 'cost:',cost\n",
    "    return r"
   ]
  },
  {
   "cell_type": "code",
   "execution_count": null,
   "metadata": {
    "collapsed": true
   },
   "outputs": [],
   "source": [
    "domain = [(0,9)] * (len(people) * 2)"
   ]
  },
  {
   "cell_type": "code",
   "execution_count": null,
   "metadata": {
    "collapsed": false
   },
   "outputs": [],
   "source": [
    "s = randomoptimize(domain,schedulecost)"
   ]
  },
  {
   "cell_type": "code",
   "execution_count": null,
   "metadata": {
    "collapsed": false
   },
   "outputs": [],
   "source": [
    "s"
   ]
  },
  {
   "cell_type": "code",
   "execution_count": null,
   "metadata": {
    "collapsed": false
   },
   "outputs": [],
   "source": [
    "schedulecost(s)"
   ]
  },
  {
   "cell_type": "code",
   "execution_count": null,
   "metadata": {
    "collapsed": false
   },
   "outputs": [],
   "source": [
    "printschedule(s)"
   ]
  },
  {
   "cell_type": "code",
   "execution_count": 29,
   "metadata": {
    "collapsed": true
   },
   "outputs": [],
   "source": [
    "def hillclimb(domain,costf):\n",
    "    # Create a random solution\n",
    "    sol = [random.randint(domain[i][0],domain[i][1]) for i in range(len(domain))]\n",
    "    # Main loop\n",
    "    while 1:\n",
    "        # Create list of neighboring solutions\n",
    "        neighbors=[]\n",
    "    \n",
    "        for j in range(len(domain)):\n",
    "            # One away in each direction\n",
    "            if sol[j] > domain[j][0] and sol[j] < domain[j][1]:\n",
    "                neighbors.append(sol[0:j] + [sol[j]+1] + sol[j+1:])\n",
    "            if sol[j] < domain[j][1] and sol[j] > domain[j][0]:\n",
    "                neighbors.append(sol[0:j] + [sol[j]-1] + sol[j+1:])\n",
    "\n",
    "        # See what the best solution amongst the neighbors is\n",
    "        current = costf(sol)\n",
    "        best = current\n",
    "        \n",
    "        for j in range(len(neighbors)):\n",
    "            cost = costf(neighbors[j])\n",
    "            if cost < best:\n",
    "                best = cost\n",
    "                sol = neighbors[j]\n",
    "\n",
    "        # If there's no improvement, then we've reached the top\n",
    "        if best == current:\n",
    "            print 'cost:',best\n",
    "            break\n",
    "    return sol\n"
   ]
  },
  {
   "cell_type": "code",
   "execution_count": null,
   "metadata": {
    "collapsed": false
   },
   "outputs": [],
   "source": [
    "s = hillclimb(domain,schedulecost)"
   ]
  },
  {
   "cell_type": "code",
   "execution_count": null,
   "metadata": {
    "collapsed": false
   },
   "outputs": [],
   "source": [
    "s"
   ]
  },
  {
   "cell_type": "code",
   "execution_count": null,
   "metadata": {
    "collapsed": false
   },
   "outputs": [],
   "source": [
    "schedulecost(s)"
   ]
  },
  {
   "cell_type": "code",
   "execution_count": null,
   "metadata": {
    "collapsed": false
   },
   "outputs": [],
   "source": [
    "s"
   ]
  },
  {
   "cell_type": "code",
   "execution_count": null,
   "metadata": {
    "collapsed": false
   },
   "outputs": [],
   "source": [
    "schedulecost(s)"
   ]
  },
  {
   "cell_type": "code",
   "execution_count": 38,
   "metadata": {
    "collapsed": true
   },
   "outputs": [],
   "source": [
    "def annealingoptimize(domain,costf,T=10000.0,cool=0.95,step=1):\n",
    "    # Initialize the values randomly\n",
    "    vec = [float(random.randint(domain[i][0],domain[i][1])) for i in range(len(domain))]\n",
    "  \n",
    "    while T > 0.1:\n",
    "        # Choose one of the indices\n",
    "        i = random.randint(0,len(domain)-1)\n",
    "\n",
    "        # Choose a direction to change it\n",
    "        dir = random.randint(-step,step)\n",
    "\n",
    "        # Create a new list with one of the values changed\n",
    "        vecb = vec[:]\n",
    "        vecb[i] += dir\n",
    "        \n",
    "        if vecb[i] < domain[i][0]: vecb[i] = domain[i][0]\n",
    "        elif vecb[i] > domain[i][1]: vecb[i] = domain[i][1]\n",
    "\n",
    "        # Calculate the current cost and the new cost\n",
    "        ea = costf(vec)\n",
    "        eb = costf(vecb)\n",
    "        p = pow(math.e,(-eb-ea)/T)\n",
    "\n",
    "        # Is it better, or does it make the probability\n",
    "        # cutoff?\n",
    "        if (eb < ea or random.random() < p):\n",
    "            vec = vecb      \n",
    "\n",
    "        # Decrease the temperature\n",
    "        T = T * cool\n",
    "        if T <= 0.1:\n",
    "            print 'cost:',ea , eb\n",
    "        \n",
    "    return vec"
   ]
  },
  {
   "cell_type": "code",
   "execution_count": null,
   "metadata": {
    "collapsed": true
   },
   "outputs": [],
   "source": [
    "s = annealingoptimize(domain,schedulecost)"
   ]
  },
  {
   "cell_type": "code",
   "execution_count": null,
   "metadata": {
    "collapsed": false
   },
   "outputs": [],
   "source": [
    "s"
   ]
  },
  {
   "cell_type": "code",
   "execution_count": null,
   "metadata": {
    "collapsed": false
   },
   "outputs": [],
   "source": [
    "schedulecost(s)"
   ]
  },
  {
   "cell_type": "code",
   "execution_count": null,
   "metadata": {
    "collapsed": false
   },
   "outputs": [],
   "source": [
    "s = annealingoptimize(domain,schedulecost,T=100000.0,cool=0.95,step=2)"
   ]
  },
  {
   "cell_type": "code",
   "execution_count": null,
   "metadata": {
    "collapsed": false
   },
   "outputs": [],
   "source": [
    "schedulecost(s)"
   ]
  },
  {
   "cell_type": "code",
   "execution_count": 105,
   "metadata": {
    "collapsed": false
   },
   "outputs": [],
   "source": [
    "def geneticoptimize(domain,costf,popsize=50,step=1,mutprob=0.2,elite=0.2,maxiter=100):\n",
    "    # Mutation Operation\n",
    "    def mutate(vec):\n",
    "        i = random.randint(0,len(domain)-1)\n",
    "        \n",
    "        if 0 == int(domain[i][1]):\n",
    "            return vec\n",
    "        \n",
    "        if random.random() < 0.5:\n",
    "            if vec[i] == domain[i][0]:\n",
    "                return vec[0:i] + [vec[i] + step] + vec[i+1:] \n",
    "            else:\n",
    "                return vec[0:i] + [vec[i] - step] + vec[i+1:]\n",
    "        else:\n",
    "            if vec[i] == domain[i][1]:\n",
    "                return vec[0:i] + [vec[i] - step] + vec[i+1:] \n",
    "            else:\n",
    "                return vec[0:i] + [vec[i] + step] + vec[i+1:]\n",
    "            \n",
    "    # Crossover Operation\n",
    "    def crossover(r1,r2):\n",
    "        i = random.randint(1,len(domain) - 2)\n",
    "        return r1[0:i] + r2[i:]\n",
    "\n",
    "    # Build the initial population\n",
    "    pop = []\n",
    "    for i in range(popsize):\n",
    "        vec = [random.randint(domain[i][0],domain[i][1]) for i in range(len(domain))]\n",
    "        pop.append(vec)\n",
    "  \n",
    "    # How many winners from each generation?\n",
    "    topelite = int(elite * popsize)\n",
    "  \n",
    "    # Main loop \n",
    "    for i in range(maxiter):\n",
    "        for i in range(len(pop)):\n",
    "            try:\n",
    "                posit = pop[i]\n",
    "                if len(posit) != 12:\n",
    "                    pass\n",
    "                    #print posit\n",
    "            except  Exception,ex:\n",
    "                print 'pos i error=',i,ex\n",
    "                #print pop\n",
    "                \n",
    "        scores = [(costf(v),v) for v in pop]\n",
    "        scores.sort()\n",
    "        ranked = [v for (s,v) in scores]\n",
    "        #print 'len(ranked):',len(ranked)\n",
    "        # Start with the pure winners\n",
    "        pop = ranked[0:topelite]\n",
    "        #print 'before len(pop):',len(pop)\n",
    "        # Add mutated and bred forms of the winners\n",
    "        while len(pop) < popsize:\n",
    "            if random.random() < mutprob:\n",
    "                # Mutation\n",
    "                c = random.randint(0,topelite - 1)\n",
    "                pop.append(mutate(ranked[c]))\n",
    "            else:\n",
    "                # Crossover\n",
    "                c1 = random.randint(0,topelite - 1)\n",
    "                c2 = random.randint(0,topelite - 1)\n",
    "                pop.append(crossover(ranked[c1],ranked[c2]))\n",
    "    \n",
    "        #print 'len(pop):',len(pop)\n",
    "        # Print current best score\n",
    "        #print scores[0][0]\n",
    "    \n",
    "    print 'cost:',scores[0][0]\n",
    "    return scores[0][1]"
   ]
  },
  {
   "cell_type": "code",
   "execution_count": null,
   "metadata": {
    "collapsed": false
   },
   "outputs": [],
   "source": [
    "domain = [(0,9)] * (len(people) * 2)\n",
    "geneticoptimize(domain,schedulecost)"
   ]
  },
  {
   "cell_type": "code",
   "execution_count": null,
   "metadata": {
    "collapsed": false
   },
   "outputs": [],
   "source": [
    "s = [i for i in range(50)]"
   ]
  },
  {
   "cell_type": "code",
   "execution_count": null,
   "metadata": {
    "collapsed": false
   },
   "outputs": [],
   "source": [
    "s[0:10]"
   ]
  },
  {
   "cell_type": "markdown",
   "metadata": {
    "collapsed": true
   },
   "source": [
    "##  Drom "
   ]
  },
  {
   "cell_type": "code",
   "execution_count": 12,
   "metadata": {
    "collapsed": true
   },
   "outputs": [],
   "source": [
    "import random\n",
    "import math"
   ]
  },
  {
   "cell_type": "code",
   "execution_count": 13,
   "metadata": {
    "collapsed": true
   },
   "outputs": [],
   "source": [
    "# The dorms, each of which has two available spaces\n",
    "dorms = ['Zeus','Athena','Hercules','Bacchus','Pluto']"
   ]
  },
  {
   "cell_type": "code",
   "execution_count": 14,
   "metadata": {
    "collapsed": true
   },
   "outputs": [],
   "source": [
    "# People, along with their first and second choices\n",
    "prefs=[('Toby', ('Bacchus', 'Hercules')),\n",
    "       ('Steve', ('Zeus', 'Pluto')),\n",
    "       ('Karen', ('Athena', 'Zeus')),\n",
    "       ('Sarah', ('Zeus', 'Pluto')),\n",
    "       ('Dave', ('Athena', 'Bacchus')), \n",
    "       ('Jeff', ('Hercules', 'Pluto')), \n",
    "       ('Fred', ('Pluto', 'Athena')), \n",
    "       ('Suzie', ('Bacchus', 'Hercules')), \n",
    "       ('Laura', ('Bacchus', 'Hercules')), \n",
    "       ('James', ('Hercules', 'Athena'))]"
   ]
  },
  {
   "cell_type": "code",
   "execution_count": 16,
   "metadata": {
    "collapsed": true
   },
   "outputs": [],
   "source": [
    "# [(0,9),(0,8),(0,7),(0,6),...,(0,0)]\n",
    "domain=[(0,(len(dorms)*2)-i-1) for i in range(0,len(dorms)*2)]"
   ]
  },
  {
   "cell_type": "code",
   "execution_count": 17,
   "metadata": {
    "collapsed": false
   },
   "outputs": [
    {
     "data": {
      "text/plain": [
       "[(0, 9),\n",
       " (0, 8),\n",
       " (0, 7),\n",
       " (0, 6),\n",
       " (0, 5),\n",
       " (0, 4),\n",
       " (0, 3),\n",
       " (0, 2),\n",
       " (0, 1),\n",
       " (0, 0)]"
      ]
     },
     "execution_count": 17,
     "metadata": {},
     "output_type": "execute_result"
    }
   ],
   "source": [
    "domain"
   ]
  },
  {
   "cell_type": "code",
   "execution_count": 18,
   "metadata": {
    "collapsed": true
   },
   "outputs": [],
   "source": [
    "def printsolution(vec):\n",
    "    slots = []\n",
    "    # Create two slots for each dorm\n",
    "    for i in range(len(dorms)): slots += [i,i]\n",
    "\n",
    "    # Loop over each students assignment\n",
    "    for i in range(len(vec)):\n",
    "        x = int(vec[i])\n",
    "\n",
    "        # Choose the slot from the remaining ones\n",
    "        dorm = dorms[slots[x]]\n",
    "        # Show the student and assigned dorm\n",
    "        print prefs[i][0],dorm\n",
    "        # Remove this slot\n",
    "        del slots[x]"
   ]
  },
  {
   "cell_type": "code",
   "execution_count": null,
   "metadata": {
    "collapsed": false
   },
   "outputs": [],
   "source": [
    "printsolution([0,0,0,0,0,0,0,0,0,0])"
   ]
  },
  {
   "cell_type": "code",
   "execution_count": 107,
   "metadata": {
    "collapsed": true
   },
   "outputs": [],
   "source": [
    "def dormcost(vec):\n",
    "    cost=0\n",
    "    # Create list a of slots\n",
    "    slots=[0,0,1,1,2,2,3,3,4,4]\n",
    "    #slots = []\n",
    "    # Create two slots for each dorm\n",
    "    #for i in range(len(dorms)): slots += [i,i]\n",
    "\n",
    "    # Loop over each student\n",
    "    #print 'vec:',vec\n",
    "    for i in range(len(vec)):\n",
    "        x = int(vec[i])\n",
    "        try:\n",
    "            dorm = dorms[slots[x]]\n",
    "        except Exception,ex:\n",
    "            print 'x=',x,ex\n",
    "            print 'slots=',slots\n",
    "        pref_dorms = prefs[i][1]\n",
    "        # First choice costs 0, second choice costs 1\n",
    "        if pref_dorms[0] == dorm: cost+=0\n",
    "        elif pref_dorms[1] == dorm: cost+=1\n",
    "        else: cost+=3\n",
    "        # Not on the list costs 3\n",
    "\n",
    "        # Remove selected slot\n",
    "        del slots[x]\n",
    "    return cost"
   ]
  },
  {
   "cell_type": "code",
   "execution_count": 86,
   "metadata": {
    "collapsed": false
   },
   "outputs": [
    {
     "name": "stdout",
     "output_type": "stream",
     "text": [
      "cost: 24\n"
     ]
    }
   ],
   "source": [
    "domain=[(0,(len(dorms)*2)-i-1) for i in range(0,len(dorms)*2)]\n",
    "a = randomoptimize(domain,dormcost)"
   ]
  },
  {
   "cell_type": "code",
   "execution_count": 77,
   "metadata": {
    "collapsed": false
   },
   "outputs": [
    {
     "data": {
      "text/plain": [
       "[7.0, 4.0, 0.0, 1.0, 4.0, 1.0, 1.0, 1.0, 1.0, 0.0]"
      ]
     },
     "execution_count": 77,
     "metadata": {},
     "output_type": "execute_result"
    }
   ],
   "source": [
    "a"
   ]
  },
  {
   "cell_type": "code",
   "execution_count": 78,
   "metadata": {
    "collapsed": false
   },
   "outputs": [
    {
     "name": "stdout",
     "output_type": "stream",
     "text": [
      "Toby Bacchus\n",
      "Steve Hercules\n",
      "Karen Zeus\n",
      "Sarah Athena\n",
      "Dave Pluto\n",
      "Jeff Athena\n",
      "Fred Hercules\n",
      "Suzie Bacchus\n",
      "Laura Pluto\n",
      "James Zeus\n"
     ]
    }
   ],
   "source": [
    "printsolution(a)"
   ]
  },
  {
   "cell_type": "code",
   "execution_count": 79,
   "metadata": {
    "collapsed": false
   },
   "outputs": [
    {
     "name": "stdout",
     "output_type": "stream",
     "text": [
      "cost: 17\n"
     ]
    }
   ],
   "source": [
    "domain=[(0,(len(dorms)*2)-i-1) for i in range(0,len(dorms)*2)]\n",
    "b = hillclimb(domain,dormcost)"
   ]
  },
  {
   "cell_type": "code",
   "execution_count": 80,
   "metadata": {
    "collapsed": false
   },
   "outputs": [
    {
     "data": {
      "text/plain": [
       "[9, 4, 6, 6, 3, 1, 1, 2, 0, 0]"
      ]
     },
     "execution_count": 80,
     "metadata": {},
     "output_type": "execute_result"
    }
   ],
   "source": [
    "b"
   ]
  },
  {
   "cell_type": "code",
   "execution_count": 81,
   "metadata": {
    "collapsed": false
   },
   "outputs": [
    {
     "name": "stdout",
     "output_type": "stream",
     "text": [
      "Toby Pluto\n",
      "Steve Hercules\n",
      "Karen Bacchus\n",
      "Sarah Pluto\n",
      "Dave Athena\n",
      "Jeff Zeus\n",
      "Fred Athena\n",
      "Suzie Bacchus\n",
      "Laura Zeus\n",
      "James Hercules\n"
     ]
    }
   ],
   "source": [
    "printsolution(b)"
   ]
  },
  {
   "cell_type": "code",
   "execution_count": 82,
   "metadata": {
    "collapsed": false
   },
   "outputs": [
    {
     "name": "stdout",
     "output_type": "stream",
     "text": [
      "cost: 17 17\n"
     ]
    }
   ],
   "source": [
    "domain=[(0,(len(dorms)*2)-i-1) for i in range(0,len(dorms)*2)]\n",
    "c = annealingoptimize(domain,dormcost)"
   ]
  },
  {
   "cell_type": "code",
   "execution_count": 75,
   "metadata": {
    "collapsed": false
   },
   "outputs": [
    {
     "data": {
      "text/plain": [
       "[9, 2.0, 6.0, 1.0, 1, 4, 2.0, 0, 1, 0]"
      ]
     },
     "execution_count": 75,
     "metadata": {},
     "output_type": "execute_result"
    }
   ],
   "source": [
    "c"
   ]
  },
  {
   "cell_type": "code",
   "execution_count": 83,
   "metadata": {
    "collapsed": false
   },
   "outputs": [
    {
     "name": "stdout",
     "output_type": "stream",
     "text": [
      "Toby Zeus\n",
      "Steve Zeus\n",
      "Karen Hercules\n",
      "Sarah Bacchus\n",
      "Dave Pluto\n",
      "Jeff Pluto\n",
      "Fred Athena\n",
      "Suzie Athena\n",
      "Laura Bacchus\n",
      "James Hercules\n"
     ]
    }
   ],
   "source": [
    "printsolution(c)"
   ]
  },
  {
   "cell_type": "code",
   "execution_count": 115,
   "metadata": {
    "collapsed": false
   },
   "outputs": [
    {
     "name": "stdout",
     "output_type": "stream",
     "text": [
      "cost: 2\n"
     ]
    }
   ],
   "source": [
    "domain=[(0,(len(dorms)*2)-i-1) for i in range(0,len(dorms)*2)]\n",
    "d = geneticoptimize(domain,dormcost)"
   ]
  },
  {
   "cell_type": "code",
   "execution_count": 116,
   "metadata": {
    "collapsed": false
   },
   "outputs": [
    {
     "data": {
      "text/plain": [
       "[6, 0, 1, 0, 0, 3, 3, 0, 1, 0]"
      ]
     },
     "execution_count": 116,
     "metadata": {},
     "output_type": "execute_result"
    }
   ],
   "source": [
    "d"
   ]
  },
  {
   "cell_type": "code",
   "execution_count": 117,
   "metadata": {
    "collapsed": false
   },
   "outputs": [
    {
     "name": "stdout",
     "output_type": "stream",
     "text": [
      "Toby Bacchus\n",
      "Steve Zeus\n",
      "Karen Athena\n",
      "Sarah Zeus\n",
      "Dave Athena\n",
      "Jeff Pluto\n",
      "Fred Pluto\n",
      "Suzie Hercules\n",
      "Laura Bacchus\n",
      "James Hercules\n"
     ]
    }
   ],
   "source": [
    "printsolution(d)"
   ]
  },
  {
   "cell_type": "code",
   "execution_count": 126,
   "metadata": {
    "collapsed": false
   },
   "outputs": [
    {
     "name": "stdout",
     "output_type": "stream",
     "text": [
      "cost: 2\n"
     ]
    }
   ],
   "source": [
    "domain=[(0,(len(dorms)*2)-i-1) for i in range(0,len(dorms)*2)]\n",
    "d = geneticoptimize(domain,dormcost)"
   ]
  },
  {
   "cell_type": "markdown",
   "metadata": {},
   "source": [
    "# Cross Lines"
   ]
  },
  {
   "cell_type": "code",
   "execution_count": 141,
   "metadata": {
    "collapsed": true
   },
   "outputs": [],
   "source": [
    "import math"
   ]
  },
  {
   "cell_type": "code",
   "execution_count": 142,
   "metadata": {
    "collapsed": true
   },
   "outputs": [],
   "source": [
    "people=['Charlie','Augustus','Veruca','Violet','Mike','Joe','Willy','Miranda']"
   ]
  },
  {
   "cell_type": "code",
   "execution_count": 143,
   "metadata": {
    "collapsed": true
   },
   "outputs": [],
   "source": [
    "links=[('Augustus', 'Willy'), \n",
    "       ('Mike', 'Joe'), \n",
    "       ('Miranda', 'Mike'), \n",
    "       ('Violet', 'Augustus'), \n",
    "       ('Miranda', 'Willy'), \n",
    "       ('Charlie', 'Mike'), \n",
    "       ('Veruca', 'Joe'), \n",
    "       ('Miranda', 'Augustus'), \n",
    "       ('Willy', 'Augustus'), \n",
    "       ('Joe', 'Charlie'), \n",
    "       ('Veruca', 'Augustus'), \n",
    "       ('Miranda', 'Joe')]"
   ]
  },
  {
   "cell_type": "code",
   "execution_count": 144,
   "metadata": {
    "collapsed": true
   },
   "outputs": [],
   "source": [
    "def crosscount(v):\n",
    "    # Convert the number list into a dictionary of person:(x,y)\n",
    "    loc = dict([(people[i],(v[i*2],v[i*2+1])) for i in range(0,len(people))])\n",
    "    total=0\n",
    "  \n",
    "    # Loop through every pair of links\n",
    "    for i in range(len(links)):\n",
    "        for j in range(i+1,len(links)):\n",
    "            # Get the locations \n",
    "            (x1,y1),(x2,y2) = loc[links[i][0]],loc[links[i][1]]\n",
    "            (x3,y3),(x4,y4) = loc[links[j][0]],loc[links[j][1]]\n",
    "\n",
    "            den = (y4-y3)*(x2-x1) - (x4-x3)*(y2-y1)\n",
    "\n",
    "            # den==0 if the lines are parallel\n",
    "            if den == 0: continue\n",
    "\n",
    "            # Otherwise ua and ub are the fraction of the\n",
    "            # line where they cross\n",
    "            ua=((x4-x3)*(y1-y3) - (y4-y3)*(x1-x3))/den\n",
    "            ub=((x2-x1)*(y1-y3) - (y2-y1)*(x1-x3))/den\n",
    "      \n",
    "            # If the fraction is between 0 and 1 for both lines\n",
    "            # then they cross each other\n",
    "            if ua > 0 and ua < 1 and ub > 0 and ub < 1:\n",
    "                total+=1\n",
    "                \n",
    "        for i in range(len(people)):\n",
    "            for j in range(i+1,len(people)):\n",
    "                # Get the locations of the two nodes\n",
    "                (x1,y1),(x2,y2) = loc[people[i]],loc[people[j]]\n",
    "\n",
    "                # Find the distance between them\n",
    "                dist = math.sqrt(math.pow(x1-x2,2) + math.pow(y1-y2,2))\n",
    "                # Penalize any nodes closer than 50 pixels\n",
    "                if dist < 50:\n",
    "                    total += (1.0-(dist/50.0))\n",
    "        \n",
    "    return total"
   ]
  },
  {
   "cell_type": "code",
   "execution_count": 131,
   "metadata": {
    "collapsed": true
   },
   "outputs": [],
   "source": [
    "s=[(1,2),(1,3),(2,1)]"
   ]
  },
  {
   "cell_type": "code",
   "execution_count": 132,
   "metadata": {
    "collapsed": true
   },
   "outputs": [],
   "source": [
    "d= dict(s)"
   ]
  },
  {
   "cell_type": "code",
   "execution_count": 133,
   "metadata": {
    "collapsed": false
   },
   "outputs": [
    {
     "data": {
      "text/plain": [
       "{1: 3, 2: 1}"
      ]
     },
     "execution_count": 133,
     "metadata": {},
     "output_type": "execute_result"
    }
   ],
   "source": [
    "d"
   ]
  },
  {
   "cell_type": "code",
   "execution_count": 147,
   "metadata": {
    "collapsed": false
   },
   "outputs": [],
   "source": [
    "domain= [(10,370)] * (len(people)*2)"
   ]
  },
  {
   "cell_type": "code",
   "execution_count": 148,
   "metadata": {
    "collapsed": false
   },
   "outputs": [
    {
     "name": "stdout",
     "output_type": "stream",
     "text": [
      "cost: 7\n"
     ]
    }
   ],
   "source": [
    "a = randomoptimize(domain,crosscount)"
   ]
  },
  {
   "cell_type": "code",
   "execution_count": 149,
   "metadata": {
    "collapsed": false
   },
   "outputs": [
    {
     "data": {
      "text/plain": [
       "[56.0,\n",
       " 351.0,\n",
       " 306.0,\n",
       " 157.0,\n",
       " 209.0,\n",
       " 119.0,\n",
       " 226.0,\n",
       " 346.0,\n",
       " 280.0,\n",
       " 319.0,\n",
       " 65.0,\n",
       " 268.0,\n",
       " 357.0,\n",
       " 121.0,\n",
       " 54.0,\n",
       " 181.0]"
      ]
     },
     "execution_count": 149,
     "metadata": {},
     "output_type": "execute_result"
    }
   ],
   "source": [
    "a"
   ]
  },
  {
   "cell_type": "code",
   "execution_count": 161,
   "metadata": {
    "collapsed": false
   },
   "outputs": [
    {
     "name": "stdout",
     "output_type": "stream",
     "text": [
      "cost: 0 0\n"
     ]
    }
   ],
   "source": [
    "b = annealingoptimize(domain,crosscount,cool=0.99,step=50)"
   ]
  },
  {
   "cell_type": "code",
   "execution_count": 162,
   "metadata": {
    "collapsed": false
   },
   "outputs": [
    {
     "data": {
      "text/plain": [
       "[197,\n",
       " 205,\n",
       " 260,\n",
       " 15,\n",
       " 147,\n",
       " 196,\n",
       " 158,\n",
       " 115,\n",
       " 294,\n",
       " 327,\n",
       " 138.0,\n",
       " 320,\n",
       " 237,\n",
       " 141,\n",
       " 220,\n",
       " 314]"
      ]
     },
     "execution_count": 162,
     "metadata": {},
     "output_type": "execute_result"
    }
   ],
   "source": [
    "b"
   ]
  },
  {
   "cell_type": "code",
   "execution_count": 154,
   "metadata": {
    "collapsed": true
   },
   "outputs": [],
   "source": [
    "from PIL import Image,ImageDraw"
   ]
  },
  {
   "cell_type": "code",
   "execution_count": 164,
   "metadata": {
    "collapsed": true
   },
   "outputs": [],
   "source": [
    "def drawnetwork(sol):\n",
    "    # Create the image\n",
    "    img=Image.new('RGB',(400,400),(255,255,255))\n",
    "    draw=ImageDraw.Draw(img)\n",
    "\n",
    "    # Create the position dict\n",
    "    pos=dict([(people[i],(sol[i*2],sol[i*2+1])) for i in range(0,len(people))])\n",
    "\n",
    "    for (a,b) in links:\n",
    "        draw.line((pos[a],pos[b]),fill=(255,0,0))\n",
    "\n",
    "    for n,p in pos.items():\n",
    "        draw.text(p,n,(0,0,0))\n",
    "\n",
    "    img.save('netword.jpg','JPEG')  \n",
    "    #img.show()"
   ]
  },
  {
   "cell_type": "code",
   "execution_count": 166,
   "metadata": {
    "collapsed": true
   },
   "outputs": [],
   "source": [
    "drawnetwork(b)"
   ]
  },
  {
   "cell_type": "code",
   "execution_count": null,
   "metadata": {
    "collapsed": true
   },
   "outputs": [],
   "source": [
    "import "
   ]
  }
 ],
 "metadata": {
  "celltoolbar": "Raw Cell Format",
  "kernelspec": {
   "display_name": "Python 2",
   "language": "python",
   "name": "python2"
  },
  "language_info": {
   "codemirror_mode": {
    "name": "ipython",
    "version": 2
   },
   "file_extension": ".py",
   "mimetype": "text/x-python",
   "name": "python",
   "nbconvert_exporter": "python",
   "pygments_lexer": "ipython2",
   "version": "2.7.8"
  }
 },
 "nbformat": 4,
 "nbformat_minor": 0
}
