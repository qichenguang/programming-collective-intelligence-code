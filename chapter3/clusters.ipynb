{
 "cells": [
  {
   "cell_type": "code",
   "execution_count": 1,
   "metadata": {
    "collapsed": true
   },
   "outputs": [],
   "source": [
    "def readfile(filename):\n",
    "    lines=[line for line in file(filename)]\n",
    "  \n",
    "    # First line is the column titles\n",
    "    colnames=lines[0].strip().split('\\t')[1:]\n",
    "    rownames=[]\n",
    "    data=[]\n",
    "    for line in lines[1:]:\n",
    "        p = line.strip().split('\\t')\n",
    "        # First column in each row is the rowname\n",
    "        rownames.append(p[0])\n",
    "        # The data for this row is the remainder of the row\n",
    "        data.append([float(x) for x in p[1:]])\n",
    "    return rownames,colnames,data"
   ]
  },
  {
   "cell_type": "code",
   "execution_count": 2,
   "metadata": {
    "collapsed": true
   },
   "outputs": [],
   "source": [
    "from math import sqrt\n",
    "\n",
    "def pearson(v1,v2):\n",
    "    # Simple sums\n",
    "    sum1=sum(v1)\n",
    "    sum2=sum(v2)\n",
    "  \n",
    "    # Sums of the squares\n",
    "    sum1Sq=sum([pow(v,2) for v in v1])\n",
    "    sum2Sq=sum([pow(v,2) for v in v2])\n",
    "  \n",
    "    # Sum of the products\n",
    "    pSum=sum([v1[i]*v2[i] for i in range(len(v1))])\n",
    "\n",
    "    # Calculate r (Pearson score)\n",
    "    num=pSum-(sum1*sum2/len(v1))\n",
    "    den=sqrt((sum1Sq-pow(sum1,2)/len(v1))*(sum2Sq-pow(sum2,2)/len(v1)))\n",
    "    if den==0: return 0\n",
    "\n",
    "    return 1.0-num/den"
   ]
  },
  {
   "cell_type": "code",
   "execution_count": 3,
   "metadata": {
    "collapsed": true
   },
   "outputs": [],
   "source": [
    "class bicluster:\n",
    "    def __init__(self,vec,left=None,right=None,distance=0.0,id=None):\n",
    "        self.left=left\n",
    "        self.right=right\n",
    "        self.vec=vec\n",
    "        self.id=id\n",
    "        self.distance=distance"
   ]
  },
  {
   "cell_type": "code",
   "execution_count": 4,
   "metadata": {
    "collapsed": true
   },
   "outputs": [],
   "source": [
    "def hcluster(rows,distance=pearson):\n",
    "    distances={}\n",
    "    currentclustid=-1\n",
    "\n",
    "    # Clusters are initially just the rows\n",
    "    clust = [bicluster(rows[i],id=i) for i in range(len(rows))]\n",
    "\n",
    "    while len(clust)>1:\n",
    "        lowestpair = (0,1)\n",
    "        closest = distance(clust[0].vec,clust[1].vec)\n",
    "\n",
    "        # loop through every pair looking for the smallest distance\n",
    "        for i in range(len(clust)):\n",
    "            for j in range(i+1,len(clust)):\n",
    "                # distances is the cache of distance calculations\n",
    "                if (clust[i].id,clust[j].id) not in distances: \n",
    "                    distances[(clust[i].id,clust[j].id)] = distance(clust[i].vec,clust[j].vec)\n",
    "                # distance value\n",
    "                d = distances[(clust[i].id,clust[j].id)]\n",
    "\n",
    "                if d<closest:\n",
    "                    closest = d\n",
    "                    lowestpair = (i,j)\n",
    "\n",
    "        # calculate the average of the two clusters\n",
    "        mergevec = [(clust[lowestpair[0]].vec[i] + clust[lowestpair[1]].vec[i])/2.0 for i in range(len(clust[0].vec))]\n",
    "\n",
    "        # create the new cluster\n",
    "        newcluster = bicluster(mergevec,left=clust[lowestpair[0]],right=clust[lowestpair[1]],distance=closest,id=currentclustid)\n",
    "\n",
    "        # cluster ids that weren't in the original set are negative\n",
    "        currentclustid -= 1\n",
    "        del clust[lowestpair[1]]\n",
    "        del clust[lowestpair[0]]\n",
    "        clust.append(newcluster)\n",
    "\n",
    "    return clust[0]"
   ]
  },
  {
   "cell_type": "code",
   "execution_count": 26,
   "metadata": {
    "collapsed": false
   },
   "outputs": [],
   "source": [
    "blognames,words,data = readfile('blogdata.txt')"
   ]
  },
  {
   "cell_type": "code",
   "execution_count": null,
   "metadata": {
    "collapsed": true
   },
   "outputs": [],
   "source": [
    "clust = hcluster(data)"
   ]
  },
  {
   "cell_type": "code",
   "execution_count": null,
   "metadata": {
    "collapsed": false
   },
   "outputs": [],
   "source": [
    "clust"
   ]
  },
  {
   "cell_type": "code",
   "execution_count": null,
   "metadata": {
    "collapsed": true
   },
   "outputs": [],
   "source": [
    "def printclust(clust,labels=None,n=0):\n",
    "    # indent to make a hierarchy layout\n",
    "    for i in range(n): print ' ',\n",
    "    if clust.id<0:\n",
    "        # negative id means that this is branch\n",
    "        print '-'\n",
    "    else:\n",
    "        # positive id means that this is an endpoint\n",
    "        if labels==None: print clust.id\n",
    "        else: print labels[clust.id]\n",
    "\n",
    "    # now print the right and left branches\n",
    "    if clust.left!=None: printclust(clust.left,labels=labels,n=n+1)\n",
    "    if clust.right!=None: printclust(clust.right,labels=labels,n=n+1)"
   ]
  },
  {
   "cell_type": "code",
   "execution_count": null,
   "metadata": {
    "collapsed": false
   },
   "outputs": [],
   "source": [
    "range(0)"
   ]
  },
  {
   "cell_type": "code",
   "execution_count": null,
   "metadata": {
    "collapsed": false
   },
   "outputs": [],
   "source": [
    "printclust(clust,labels=bloguames)"
   ]
  },
  {
   "cell_type": "code",
   "execution_count": 5,
   "metadata": {
    "collapsed": true
   },
   "outputs": [],
   "source": [
    "from PIL import Image,ImageDraw"
   ]
  },
  {
   "cell_type": "code",
   "execution_count": 6,
   "metadata": {
    "collapsed": true
   },
   "outputs": [],
   "source": [
    "def getheight(clust):\n",
    "    # Is this an endpoint? Then the height is just 1\n",
    "    if clust.left==None and clust.right==None: return 1\n",
    "\n",
    "    # Otherwise the height is the same of the heights of\n",
    "    # each branch\n",
    "    return getheight(clust.left)+getheight(clust.right)"
   ]
  },
  {
   "cell_type": "code",
   "execution_count": 7,
   "metadata": {
    "collapsed": true
   },
   "outputs": [],
   "source": [
    "def getdepth(clust):\n",
    "    # The distance of an endpoint is 0.0\n",
    "    if clust.left==None and clust.right==None: return 0\n",
    "\n",
    "    # The distance of a branch is the greater of its two sides\n",
    "    # plus its own distance\n",
    "    return max(getdepth(clust.left),getdepth(clust.right)) + clust.distance"
   ]
  },
  {
   "cell_type": "code",
   "execution_count": 8,
   "metadata": {
    "collapsed": true
   },
   "outputs": [],
   "source": [
    "def drawdendrogram(clust,labels,jpeg='clusters.jpg'):\n",
    "    # height and width\n",
    "    h=getheight(clust)*20\n",
    "    w=1200\n",
    "    depth=getdepth(clust)\n",
    "\n",
    "    # width is fixed, so scale distances accordingly\n",
    "    scaling=float(w-150)/depth\n",
    "\n",
    "    # Create a new image with a white background\n",
    "    img=Image.new('RGB',(w,h),(255,255,255))\n",
    "    draw=ImageDraw.Draw(img)\n",
    "\n",
    "    draw.line((0,h/2,10,h/2),fill=(255,0,0))    \n",
    "\n",
    "    # Draw the first node\n",
    "    drawnode(draw,clust,10,(h/2),scaling,labels)\n",
    "    img.save(jpeg,'JPEG')"
   ]
  },
  {
   "cell_type": "code",
   "execution_count": 14,
   "metadata": {
    "collapsed": true
   },
   "outputs": [],
   "source": [
    "def drawnode(draw,clust,x,y,scaling,labels):\n",
    "    if clust.id<0:\n",
    "        h1=getheight(clust.left)*20\n",
    "        h2=getheight(clust.right)*20\n",
    "        top=y-(h1+h2)/2\n",
    "        bottom=y+(h1+h2)/2\n",
    "        # Line length\n",
    "        ll=clust.distance*scaling\n",
    "        # Vertical line from this cluster to children    \n",
    "        draw.line((x,top+h1/2,x,bottom-h2/2),fill=(255,0,0))    \n",
    "\n",
    "        # Horizontal line to left item\n",
    "        draw.line((x,top+h1/2,x+ll,top+h1/2),fill=(255,0,0))    \n",
    "\n",
    "        # Horizontal line to right item\n",
    "        draw.line((x,bottom-h2/2,x+ll,bottom-h2/2),fill=(255,0,0))        \n",
    "\n",
    "        # Call the function to draw the left and right nodes    \n",
    "        drawnode(draw,clust.left,x+ll,top+h1/2,scaling,labels)\n",
    "        drawnode(draw,clust.right,x+ll,bottom-h2/2,scaling,labels)\n",
    "    else:   \n",
    "        # If this is an endpoint, draw the item label\n",
    "        draw.text((x+5,y-7),labels[clust.id],(0,0,0))"
   ]
  },
  {
   "cell_type": "code",
   "execution_count": null,
   "metadata": {
    "collapsed": false
   },
   "outputs": [],
   "source": [
    "drawdendrogram(clust,labels=blognames,jpeg='blogclust.jpg')"
   ]
  },
  {
   "cell_type": "code",
   "execution_count": 9,
   "metadata": {
    "collapsed": true
   },
   "outputs": [],
   "source": [
    "def rotatematrix(data):\n",
    "    newdata=[]\n",
    "    for i in range(len(data[0])):\n",
    "        newrow=[data[j][i] for j in range(len(data))]\n",
    "        newdata.append(newrow)\n",
    "    return newdata"
   ]
  },
  {
   "cell_type": "code",
   "execution_count": null,
   "metadata": {
    "collapsed": false
   },
   "outputs": [],
   "source": [
    "rdata = rotatematrix(data)\n",
    "wordclust = hcluster(rdata)\n",
    "drawdendrogram(clust,labels=words,jpeg='wordclust.jpg')"
   ]
  },
  {
   "cell_type": "code",
   "execution_count": 10,
   "metadata": {
    "collapsed": true
   },
   "outputs": [],
   "source": [
    "import random"
   ]
  },
  {
   "cell_type": "code",
   "execution_count": 11,
   "metadata": {
    "collapsed": true
   },
   "outputs": [],
   "source": [
    "def kcluster(rows,distance=pearson,k=4):\n",
    "    # Determine the minimum and maximum values for each point\n",
    "    ranges=[(min([row[i] for row in rows]),max([row[i] for row in rows])) for i in range(len(rows[0]))]\n",
    "\n",
    "    # Create k randomly placed centroids\n",
    "    clusters=[[random.random()*(ranges[i][1]-ranges[i][0]) + ranges[i][0] for i in range(len(rows[0]))] for j in range(k)]\n",
    "  \n",
    "    lastmatches = None\n",
    "    for t in range(100):\n",
    "        print 'Iteration %d' % t\n",
    "        bestmatches = [[] for i in range(k)]\n",
    "    \n",
    "        # Find which centroid is the closest for each row\n",
    "        for j in range(len(rows)):\n",
    "            row = rows[j]\n",
    "            bestmatch = 0\n",
    "            #\n",
    "            for i in range(k):\n",
    "                d = distance(clusters[i],row)\n",
    "                if d < distance(clusters[bestmatch],row): bestmatch = i\n",
    "            #\n",
    "            bestmatches[bestmatch].append(j)\n",
    "\n",
    "        # If the results are the same as last time, this is complete\n",
    "        if bestmatches == lastmatches: break\n",
    "        lastmatches = bestmatches\n",
    "    \n",
    "        # Move the centroids to the average of their members\n",
    "        for i in range(k):\n",
    "            avgs = [0.0] * len(rows[0])\n",
    "            if len(bestmatches[i])>0:\n",
    "                for rowid in bestmatches[i]:\n",
    "                    for m in range(len(rows[rowid])):\n",
    "                        avgs[m] += rows[rowid][m]\n",
    "                for j in range(len(avgs)):\n",
    "                    avgs[j] /= len(bestmatches[i])\n",
    "                    clusters[i] = avgs\n",
    "    #                \n",
    "    return bestmatches"
   ]
  },
  {
   "cell_type": "code",
   "execution_count": null,
   "metadata": {
    "collapsed": false
   },
   "outputs": [],
   "source": [
    "kclust = kcluster(data, k=10)"
   ]
  },
  {
   "cell_type": "code",
   "execution_count": null,
   "metadata": {
    "collapsed": false
   },
   "outputs": [],
   "source": [
    "[blognames[r] for r in kclust[0]]"
   ]
  },
  {
   "cell_type": "code",
   "execution_count": null,
   "metadata": {
    "collapsed": false
   },
   "outputs": [],
   "source": [
    "kclust[1]"
   ]
  },
  {
   "cell_type": "code",
   "execution_count": 12,
   "metadata": {
    "collapsed": true
   },
   "outputs": [],
   "source": [
    "def tanimoto(v1,v2):\n",
    "    c1,c2,shr=0,0,0\n",
    "  \n",
    "    for i in range(len(v1)):\n",
    "        if v1[i]!=0: c1+=1 # in v1\n",
    "        if v2[i]!=0: c2+=1 # in v2\n",
    "        if v1[i]!=0 and v2[i]!=0: shr+=1 # in both\n",
    "            \n",
    "    return 1.0-(float(shr)/(c1+c2-shr))"
   ]
  },
  {
   "cell_type": "code",
   "execution_count": 15,
   "metadata": {
    "collapsed": false
   },
   "outputs": [],
   "source": [
    "want,people,data = readfile('zebo.txt')\n",
    "clust = hcluster(data,distance=tanimoto)\n",
    "drawdendrogram(clust,labels=want,jpeg='want.jpg')"
   ]
  },
  {
   "cell_type": "code",
   "execution_count": 20,
   "metadata": {
    "collapsed": false
   },
   "outputs": [
    {
     "name": "stdout",
     "output_type": "stream",
     "text": [
      "Iteration 0\n",
      "Iteration 1\n"
     ]
    }
   ],
   "source": [
    "kclust = kcluster(data,distance=tanimoto, k=2)"
   ]
  },
  {
   "cell_type": "code",
   "execution_count": 21,
   "metadata": {
    "collapsed": false
   },
   "outputs": [
    {
     "data": {
      "text/plain": [
       "['bike',\n",
       " 'clothes',\n",
       " 'dvd player',\n",
       " 'phone',\n",
       " 'cell phone',\n",
       " 'dog',\n",
       " 'xbox 360',\n",
       " 'boyfriend',\n",
       " 'watch',\n",
       " 'laptop',\n",
       " 'love',\n",
       " '<b>car</b>',\n",
       " 'shoes',\n",
       " 'jeans',\n",
       " 'money',\n",
       " 'ps3',\n",
       " 'psp',\n",
       " 'puppy',\n",
       " 'house and lot',\n",
       " 'tv',\n",
       " 'family',\n",
       " 'food',\n",
       " 'house',\n",
       " 'horse',\n",
       " 'mobile',\n",
       " 'cds',\n",
       " 'playstation 3',\n",
       " 'mp3 player',\n",
       " 'ipod',\n",
       " 'digital camera',\n",
       " 'mansion',\n",
       " 'cellphone',\n",
       " 'computer',\n",
       " 'job',\n",
       " 'friends']"
      ]
     },
     "execution_count": 21,
     "metadata": {},
     "output_type": "execute_result"
    }
   ],
   "source": [
    "[want[r] for r in kclust[0]]"
   ]
  },
  {
   "cell_type": "code",
   "execution_count": 23,
   "metadata": {
    "collapsed": false
   },
   "outputs": [
    {
     "data": {
      "text/plain": [
       "[]"
      ]
     },
     "execution_count": 23,
     "metadata": {},
     "output_type": "execute_result"
    }
   ],
   "source": [
    "[want[r] for r in kclust[1]]"
   ]
  },
  {
   "cell_type": "code",
   "execution_count": 24,
   "metadata": {
    "collapsed": true
   },
   "outputs": [],
   "source": [
    "def scaledown(data,distance=pearson,rate=0.01):\n",
    "    n = len(data)\n",
    "\n",
    "    # The real distances between every pair of items\n",
    "    realdist=[[distance(data[i],data[j]) for j in range(n)] for i in range(0,n)]\n",
    "\n",
    "    # Randomly initialize the starting points of the locations in 2D\n",
    "    loc=[[random.random(),random.random()] for i in range(n)]\n",
    "    fakedist=[[0.0 for j in range(n)] for i in range(n)]\n",
    "  \n",
    "    lasterror=None\n",
    "    for m in range(0,1000):\n",
    "        # Find projected distances\n",
    "        for i in range(n):\n",
    "            for j in range(n):\n",
    "                fakedist[i][j]=sqrt(sum([pow(loc[i][x]-loc[j][x],2) for x in range(len(loc[i]))]))\n",
    "  \n",
    "    # Move points\n",
    "    grad=[[0.0,0.0] for i in range(n)]\n",
    "    \n",
    "    totalerror=0\n",
    "    for k in range(n):\n",
    "        for j in range(n):\n",
    "            if j==k: continue\n",
    "            # The error is percent difference between the distances\n",
    "            errorterm=(fakedist[j][k]-realdist[j][k])/realdist[j][k]\n",
    "        \n",
    "            # Each point needs to be moved away from or towards the other\n",
    "            # point in proportion to how much error it has\n",
    "            grad[k][0]+=((loc[k][0]-loc[j][0])/fakedist[j][k])*errorterm\n",
    "            grad[k][1]+=((loc[k][1]-loc[j][1])/fakedist[j][k])*errorterm\n",
    "\n",
    "            # Keep track of the total error\n",
    "            totalerror+=abs(errorterm)\n",
    "        print totalerror\n",
    "\n",
    "        # If the answer got worse by moving the points, we are done\n",
    "        if lasterror and lasterror<totalerror: break\n",
    "        lasterror=totalerror\n",
    "    \n",
    "        # Move each of the points by the learning rate times the gradient\n",
    "        for k in range(n):\n",
    "            loc[k][0]-=rate*grad[k][0]\n",
    "            loc[k][1]-=rate*grad[k][1]\n",
    "\n",
    "    return loc"
   ]
  },
  {
   "cell_type": "code",
   "execution_count": 25,
   "metadata": {
    "collapsed": true
   },
   "outputs": [],
   "source": [
    "def draw2d(data,labels,jpeg='mds2d.jpg'):\n",
    "    img=Image.new('RGB',(2000,2000),(255,255,255))\n",
    "    draw=ImageDraw.Draw(img)\n",
    "    for i in range(len(data)):\n",
    "        x=(data[i][0]+0.5)*1000\n",
    "        y=(data[i][1]+0.5)*1000\n",
    "        draw.text((x,y),labels[i],(0,0,0))\n",
    "    img.save(jpeg,'JPEG')  "
   ]
  },
  {
   "cell_type": "code",
   "execution_count": 30,
   "metadata": {
    "collapsed": false
   },
   "outputs": [
    {
     "name": "stdout",
     "output_type": "stream",
     "text": [
      "35.186335575\n",
      "81.2310018714\n"
     ]
    }
   ],
   "source": [
    "coords = scaledown(data)"
   ]
  },
  {
   "cell_type": "code",
   "execution_count": 31,
   "metadata": {
    "collapsed": false
   },
   "outputs": [],
   "source": [
    "draw2d(coords,blognames,jpeg='blogs2d.jpg')"
   ]
  },
  {
   "cell_type": "code",
   "execution_count": 32,
   "metadata": {
    "collapsed": true
   },
   "outputs": [],
   "source": [
    "rdata = rotatematrix(data)"
   ]
  },
  {
   "cell_type": "code",
   "execution_count": 33,
   "metadata": {
    "collapsed": false
   },
   "outputs": [
    {
     "name": "stdout",
     "output_type": "stream",
     "text": [
      "273.254518856\n",
      "613.06653268\n"
     ]
    }
   ],
   "source": [
    "rcoords = scaledown(rdata)"
   ]
  },
  {
   "cell_type": "code",
   "execution_count": 34,
   "metadata": {
    "collapsed": true
   },
   "outputs": [],
   "source": [
    "draw2d(rcoords,words,jpeg='words2d.jpg')"
   ]
  },
  {
   "cell_type": "code",
   "execution_count": null,
   "metadata": {
    "collapsed": true
   },
   "outputs": [],
   "source": []
  }
 ],
 "metadata": {
  "celltoolbar": "Raw Cell Format",
  "kernelspec": {
   "display_name": "Python 2",
   "language": "python",
   "name": "python2"
  },
  "language_info": {
   "codemirror_mode": {
    "name": "ipython",
    "version": 2
   },
   "file_extension": ".py",
   "mimetype": "text/x-python",
   "name": "python",
   "nbconvert_exporter": "python",
   "pygments_lexer": "ipython2",
   "version": "2.7.8"
  }
 },
 "nbformat": 4,
 "nbformat_minor": 0
}
