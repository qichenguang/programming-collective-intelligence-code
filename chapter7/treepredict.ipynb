{
 "cells": [
  {
   "cell_type": "code",
   "execution_count": null,
   "metadata": {
    "collapsed": true
   },
   "outputs": [],
   "source": [
    "from pysqlite2 import dbapi2 as sqlite\n",
    "import re\n",
    "import math"
   ]
  },
  {
   "cell_type": "code",
   "execution_count": null,
   "metadata": {
    "collapsed": true
   },
   "outputs": [],
   "source": [
    "def getwords(doc):\n",
    "    splitter = re.compile('\\\\W*')\n",
    "    print doc\n",
    "    # Split the words by non-alpha characters\n",
    "    words = [s.lower() for s in splitter.split(doc) if len(s)>2 and len(s)<20]\n",
    "  \n",
    "    # Return the unique set of words only\n",
    "    return dict([(w,1) for w in words])"
   ]
  },
  {
   "cell_type": "code",
   "execution_count": null,
   "metadata": {
    "collapsed": true
   },
   "outputs": [],
   "source": [
    "def sampletrain(cl):\n",
    "    cl.train('Nobody owns the water.','good')\n",
    "    cl.train('the quick rabbit jumps fences','good')\n",
    "    cl.train('buy pharmaceuticals now','bad')\n",
    "    cl.train('make quick money at the online casino','bad')\n",
    "    cl.train('the quick brown fox jumps','good')"
   ]
  },
  {
   "cell_type": "markdown",
   "metadata": {},
   "source": [
    "# 分类器基类"
   ]
  },
  {
   "cell_type": "code",
   "execution_count": null,
   "metadata": {
    "collapsed": true
   },
   "outputs": [],
   "source": [
    "class classifier:\n",
    "    def __init__(self,getfeatures,filename=None):\n",
    "        # Counts of feature/category combinations\n",
    "        self.fc = {}\n",
    "        # Counts of documents in each category\n",
    "        self.cc = {}\n",
    "        self.getfeatures = getfeatures\n",
    "        #\n",
    "        self.dbfile = filename\n",
    "        \n",
    "    def setdb(self,dbfile):\n",
    "        self.dbfile = dbfile\n",
    "        #\n",
    "        self.con = sqlite.connect(dbfile)    \n",
    "        self.con.execute('create table if not exists fc(feature,category,count)')\n",
    "        self.con.execute('create table if not exists cc(category,count)')\n",
    "    \n",
    "    def incf(self,f,cat):\n",
    "        if self.dbfile == None:\n",
    "            self.fc.setdefault(f,{})\n",
    "            self.fc[f].setdefault(cat,0)\n",
    "            self.fc[f][cat] += 1\n",
    "        else:\n",
    "            count = self.fcount(f,cat)\n",
    "            if count == 0:\n",
    "                self.con.execute(\"insert into fc values ('%s','%s',1)\" % (f,cat))\n",
    "            else:\n",
    "                self.con.execute(\"update fc set count=%d where feature='%s' and category='%s'\" % (count+1,f,cat)) \n",
    "\n",
    "    def incc(self,cat):\n",
    "        if self.dbfile == None:\n",
    "            self.cc.setdefault(cat,0)\n",
    "            self.cc[cat] += 1\n",
    "        else:\n",
    "            count = self.catcount(cat)\n",
    "            if count==0:\n",
    "                self.con.execute(\"insert into cc values ('%s',1)\" % (cat))\n",
    "            else:\n",
    "                self.con.execute(\"update cc set count=%d where category='%s'\" % (count+1,cat))  \n",
    "\n",
    "    def fcount(self,f,cat):\n",
    "        if self.dbfile == None:\n",
    "            if f in self.fc and cat in self.fc[f]:\n",
    "                return float(self.fc[f][cat])\n",
    "            return 0.0\n",
    "        else:\n",
    "            res = self.con.execute('select count from fc where feature=\"%s\" and category=\"%s\"'%(f,cat)).fetchone()\n",
    "            if res == None: return 0\n",
    "            else: return float(res[0])\n",
    "    \n",
    "\n",
    "    def catcount(self,cat):\n",
    "        if self.dbfile == None:\n",
    "            if cat in self.cc:\n",
    "                return float(self.cc[cat])\n",
    "            return 0\n",
    "        else:\n",
    "            res = self.con.execute('select count from cc where category=\"%s\"' %(cat)).fetchone()\n",
    "            if res == None: return 0\n",
    "            else: return float(res[0])\n",
    "    \n",
    "    \n",
    "    def totalcount(self):\n",
    "        if self.dbfile == None:\n",
    "            return sum(self.cc.values())\n",
    "        else:\n",
    "            res = self.con.execute('select sum(count) from cc').fetchone();\n",
    "            if res == None: return 0\n",
    "            return res[0]\n",
    "    \n",
    "    def categories(self):\n",
    "        if self.dbfile == None:\n",
    "            return self.cc.keys()\n",
    "        else:\n",
    "            cur = self.con.execute('select category from cc');\n",
    "            return [d[0] for d in cur]\n",
    "    \n",
    "    def train(self,item,cat):\n",
    "        features = self.getfeatures(item)\n",
    "        # Increment the count for every feature with this category\n",
    "        for f in features:\n",
    "            self.incf(f,cat)\n",
    "\n",
    "        # Increment the count for this category\n",
    "        self.incc(cat)\n",
    "        \n",
    "        #\n",
    "        if self.dbfile != None:\n",
    "            self.con.commit()\n",
    "\n",
    "    def fprob(self,f,cat):\n",
    "        if self.catcount(cat)==0: return 0\n",
    "\n",
    "        # The total number of times this feature appeared in this \n",
    "        # category divided by the total number of items in this category\n",
    "        return self.fcount(f,cat)/self.catcount(cat)   \n",
    "    \n",
    "    def weightedprob(self,f,cat,prf,weight=1.0,ap=0.5):\n",
    "        # Calculate current probability\n",
    "        basicprob = prf(f,cat)\n",
    "        #print 'basicprob:',basicprob\n",
    "        # Count the number of times this feature has appeared in\n",
    "        # all categories\n",
    "        totals = sum([self.fcount(f,c) for c in self.categories()])\n",
    "        #print 'totals:',totals\n",
    "\n",
    "        # Calculate the weighted average\n",
    "        bp = ((weight * ap) + (totals * basicprob))/(weight + totals)\n",
    "        return bp    "
   ]
  },
  {
   "cell_type": "code",
   "execution_count": null,
   "metadata": {
    "collapsed": false
   },
   "outputs": [],
   "source": [
    "cl = classifier(getwords)\n",
    "cl"
   ]
  },
  {
   "cell_type": "code",
   "execution_count": null,
   "metadata": {
    "collapsed": false
   },
   "outputs": [],
   "source": [
    "cl.train('the quick brown fox jump over the lazy dog','good')"
   ]
  },
  {
   "cell_type": "code",
   "execution_count": null,
   "metadata": {
    "collapsed": false
   },
   "outputs": [],
   "source": [
    "cl.train('make quick money in the on1ine casio ','bad')"
   ]
  },
  {
   "cell_type": "code",
   "execution_count": null,
   "metadata": {
    "collapsed": false
   },
   "outputs": [],
   "source": [
    "cl.fcount('quick' , 'good')"
   ]
  },
  {
   "cell_type": "code",
   "execution_count": null,
   "metadata": {
    "collapsed": false
   },
   "outputs": [],
   "source": [
    "cl.catcount('good')"
   ]
  },
  {
   "cell_type": "code",
   "execution_count": null,
   "metadata": {
    "collapsed": false
   },
   "outputs": [],
   "source": [
    "cl.catcount('bad')"
   ]
  },
  {
   "cell_type": "code",
   "execution_count": null,
   "metadata": {
    "collapsed": false
   },
   "outputs": [],
   "source": [
    "cl.catcount('good')"
   ]
  },
  {
   "cell_type": "code",
   "execution_count": null,
   "metadata": {
    "collapsed": false
   },
   "outputs": [],
   "source": [
    "cl.totalcount()"
   ]
  },
  {
   "cell_type": "code",
   "execution_count": null,
   "metadata": {
    "collapsed": false
   },
   "outputs": [],
   "source": [
    "cl.fcount('the' , 'good')"
   ]
  },
  {
   "cell_type": "code",
   "execution_count": null,
   "metadata": {
    "collapsed": false
   },
   "outputs": [],
   "source": [
    "cl.fc"
   ]
  },
  {
   "cell_type": "code",
   "execution_count": null,
   "metadata": {
    "collapsed": false
   },
   "outputs": [],
   "source": [
    "sampletrain(cl)"
   ]
  },
  {
   "cell_type": "code",
   "execution_count": null,
   "metadata": {
    "collapsed": false
   },
   "outputs": [],
   "source": [
    "cl.fprob('quick','good')"
   ]
  },
  {
   "cell_type": "code",
   "execution_count": null,
   "metadata": {
    "collapsed": false
   },
   "outputs": [],
   "source": [
    "cl.weightedprob('money','good',cl.fprob)"
   ]
  },
  {
   "cell_type": "code",
   "execution_count": null,
   "metadata": {
    "collapsed": false
   },
   "outputs": [],
   "source": [
    "cl.fprob('money','good')"
   ]
  },
  {
   "cell_type": "code",
   "execution_count": null,
   "metadata": {
    "collapsed": false
   },
   "outputs": [],
   "source": [
    "cl.weightedprob('money','good',cl.fprob)"
   ]
  },
  {
   "cell_type": "code",
   "execution_count": null,
   "metadata": {
    "collapsed": false
   },
   "outputs": [],
   "source": [
    "cl.fprob('money','bad')"
   ]
  },
  {
   "cell_type": "code",
   "execution_count": null,
   "metadata": {
    "collapsed": false
   },
   "outputs": [],
   "source": [
    "cl.weightedprob('money','bad',cl.fprob)"
   ]
  },
  {
   "cell_type": "markdown",
   "metadata": {},
   "source": [
    "# 朴素贝叶斯"
   ]
  },
  {
   "cell_type": "code",
   "execution_count": null,
   "metadata": {
    "collapsed": false
   },
   "outputs": [],
   "source": [
    "class naivebayes(classifier):\n",
    "  \n",
    "    def __init__(self,getfeatures):\n",
    "        classifier.__init__(self,getfeatures)\n",
    "        self.thresholds = {}\n",
    "        \n",
    "    def docprob(self,item,cat):\n",
    "        features = self.getfeatures(item)   \n",
    "\n",
    "        # Multiply the probabilities of all the features together\n",
    "        p = 1\n",
    "        for f in features: p *= self.weightedprob(f,cat,self.fprob)\n",
    "        return p     \n",
    "    \n",
    "    def prob(self,item,cat):\n",
    "        catprob = self.catcount(cat)/self.totalcount()\n",
    "        docprob = self.docprob(item,cat)\n",
    "        return docprob * catprob    \n",
    "    \n",
    "    def setthreshold(self,cat,t):\n",
    "        self.thresholds[cat]=t\n",
    "    \n",
    "    def getthreshold(self,cat):\n",
    "        if cat not in self.thresholds: return 1.0\n",
    "        return self.thresholds[cat]  \n",
    "    \n",
    "    def classify(self,item,default=None):\n",
    "        probs = {}\n",
    "        # Find the category with the highest probability\n",
    "        max = 0.0\n",
    "        for cat in self.categories():\n",
    "            probs[cat] = self.prob(item,cat)\n",
    "            if probs[cat] > max: \n",
    "                max = probs[cat]\n",
    "                best = cat\n",
    "\n",
    "        # Make sure the probability exceeds threshold*next best\n",
    "        for cat in probs:\n",
    "            if cat == best: continue\n",
    "            if probs[cat] * self.getthreshold(best) > probs[best]: return default\n",
    "        \n",
    "        #\n",
    "        return best    "
   ]
  },
  {
   "cell_type": "code",
   "execution_count": null,
   "metadata": {
    "collapsed": true
   },
   "outputs": [],
   "source": [
    "cl = naivebayes(getwords)"
   ]
  },
  {
   "cell_type": "code",
   "execution_count": null,
   "metadata": {
    "collapsed": false
   },
   "outputs": [],
   "source": [
    "sampletrain(cl)"
   ]
  },
  {
   "cell_type": "code",
   "execution_count": null,
   "metadata": {
    "collapsed": false
   },
   "outputs": [],
   "source": [
    "cl.prob('quick rabbit','good')"
   ]
  },
  {
   "cell_type": "code",
   "execution_count": null,
   "metadata": {
    "collapsed": false
   },
   "outputs": [],
   "source": [
    "cl.prob('quick rabbit','bad')"
   ]
  },
  {
   "cell_type": "code",
   "execution_count": null,
   "metadata": {
    "collapsed": false
   },
   "outputs": [],
   "source": [
    "cl.classify('quick rabbit',default='unknown')"
   ]
  },
  {
   "cell_type": "code",
   "execution_count": null,
   "metadata": {
    "collapsed": false
   },
   "outputs": [],
   "source": [
    "cl.classify('quick money',default='unknown')"
   ]
  },
  {
   "cell_type": "code",
   "execution_count": null,
   "metadata": {
    "collapsed": true
   },
   "outputs": [],
   "source": [
    "cl.setthreshold('bad',3.0)"
   ]
  },
  {
   "cell_type": "code",
   "execution_count": null,
   "metadata": {
    "collapsed": false
   },
   "outputs": [],
   "source": [
    "cl.classify('quick rabbit',default='unknown')"
   ]
  },
  {
   "cell_type": "code",
   "execution_count": null,
   "metadata": {
    "collapsed": false
   },
   "outputs": [],
   "source": [
    "cl.classify('quick money',default='unknown')"
   ]
  },
  {
   "cell_type": "code",
   "execution_count": null,
   "metadata": {
    "collapsed": false
   },
   "outputs": [],
   "source": [
    "for i in range(10): sampletrain(cl)"
   ]
  },
  {
   "cell_type": "code",
   "execution_count": null,
   "metadata": {
    "collapsed": false
   },
   "outputs": [],
   "source": [
    "cl.classify('quick money',default='unknown')"
   ]
  },
  {
   "cell_type": "markdown",
   "metadata": {},
   "source": [
    "# 费舍尔方法"
   ]
  },
  {
   "cell_type": "code",
   "execution_count": null,
   "metadata": {
    "collapsed": false
   },
   "outputs": [],
   "source": [
    "class fisherclassifier(classifier):\n",
    "    \n",
    "    def __init__(self,getfeatures):\n",
    "        classifier.__init__(self,getfeatures)\n",
    "        self.minimums = {}\n",
    "    \n",
    "    def cprob(self,f,cat):\n",
    "        # The frequency of this feature in this category    \n",
    "        clf = self.fprob(f,cat)\n",
    "        if clf==0: return 0\n",
    "\n",
    "        # The frequency of this feature in all the categories\n",
    "        freqsum = sum([self.fprob(f,c) for c in self.categories()])\n",
    "\n",
    "        # The probability is the frequency in this category divided by\n",
    "        # the overall frequency\n",
    "        p = clf/(freqsum)\n",
    "\n",
    "        return p\n",
    "    \n",
    "    def fisherprob(self,item,cat):\n",
    "        # Multiply all the probabilities together\n",
    "        p = 1\n",
    "        features = self.getfeatures(item)\n",
    "        for f in features:\n",
    "            p *= (self.weightedprob(f,cat,self.cprob))\n",
    "\n",
    "        # Take the natural log and multiply by -2\n",
    "        fscore=-2*math.log(p)\n",
    "\n",
    "        # Use the inverse chi2 function to get a probability\n",
    "        return self.invchi2(fscore,len(features)*2)\n",
    "    \n",
    "    def invchi2(self,chi, df):\n",
    "        m = chi / 2.0\n",
    "        sum = term = math.exp(-m)\n",
    "        for i in range(1, df//2):\n",
    "            term *= m / i\n",
    "            sum += term\n",
    "        return min(sum, 1.0)    \n",
    "    \n",
    "    def setminimum(self,cat,min):\n",
    "        self.minimums[cat] = min\n",
    "\n",
    "    def getminimum(self,cat):\n",
    "        if cat not in self.minimums: return 0\n",
    "        return self.minimums[cat]\n",
    "    \n",
    "    def classify(self,item,default=None):\n",
    "        # Loop through looking for the best result\n",
    "        best = default\n",
    "        max = 0.0\n",
    "        for c in self.categories():\n",
    "            p = self.fisherprob(item,c)\n",
    "            # Make sure it exceeds its minimum\n",
    "            if p > self.getminimum(c) and p > max:\n",
    "                best = c\n",
    "                max = p\n",
    "        return best    "
   ]
  },
  {
   "cell_type": "code",
   "execution_count": null,
   "metadata": {
    "collapsed": true
   },
   "outputs": [],
   "source": [
    "cl = fisherclassifier(getwords)"
   ]
  },
  {
   "cell_type": "code",
   "execution_count": null,
   "metadata": {
    "collapsed": false
   },
   "outputs": [],
   "source": [
    "sampletrain(cl)"
   ]
  },
  {
   "cell_type": "code",
   "execution_count": null,
   "metadata": {
    "collapsed": false
   },
   "outputs": [],
   "source": [
    "cl.cprob('quick','good')"
   ]
  },
  {
   "cell_type": "code",
   "execution_count": null,
   "metadata": {
    "collapsed": false
   },
   "outputs": [],
   "source": [
    "cl.cprob('money','good')"
   ]
  },
  {
   "cell_type": "code",
   "execution_count": null,
   "metadata": {
    "collapsed": false
   },
   "outputs": [],
   "source": [
    "cl.cprob('money','bad')"
   ]
  },
  {
   "cell_type": "code",
   "execution_count": null,
   "metadata": {
    "collapsed": false
   },
   "outputs": [],
   "source": [
    "cl.weightedprob('money','bad',cl.cprob)"
   ]
  },
  {
   "cell_type": "code",
   "execution_count": null,
   "metadata": {
    "collapsed": false
   },
   "outputs": [],
   "source": [
    "cl.fisherprob('money','good')"
   ]
  },
  {
   "cell_type": "code",
   "execution_count": null,
   "metadata": {
    "collapsed": false
   },
   "outputs": [],
   "source": [
    "cl.fisherprob('money','bad')"
   ]
  },
  {
   "cell_type": "code",
   "execution_count": null,
   "metadata": {
    "collapsed": false
   },
   "outputs": [],
   "source": [
    "cl.classify('quick rabbit')"
   ]
  },
  {
   "cell_type": "code",
   "execution_count": null,
   "metadata": {
    "collapsed": false
   },
   "outputs": [],
   "source": [
    "cl.classify('quick money')"
   ]
  },
  {
   "cell_type": "code",
   "execution_count": null,
   "metadata": {
    "collapsed": true
   },
   "outputs": [],
   "source": [
    "cl.setminimum('bad',0.8)"
   ]
  },
  {
   "cell_type": "code",
   "execution_count": null,
   "metadata": {
    "collapsed": false
   },
   "outputs": [],
   "source": [
    "cl.classify('quick money')"
   ]
  },
  {
   "cell_type": "code",
   "execution_count": null,
   "metadata": {
    "collapsed": true
   },
   "outputs": [],
   "source": [
    "cl.setminimum('good',0.4)"
   ]
  },
  {
   "cell_type": "code",
   "execution_count": null,
   "metadata": {
    "collapsed": false
   },
   "outputs": [],
   "source": [
    "cl.classify('quick rabbit')"
   ]
  },
  {
   "cell_type": "code",
   "execution_count": null,
   "metadata": {
    "collapsed": true
   },
   "outputs": [],
   "source": [
    "cl = fisherclassifier(getwords)"
   ]
  },
  {
   "cell_type": "code",
   "execution_count": null,
   "metadata": {
    "collapsed": false
   },
   "outputs": [],
   "source": [
    "cl.setdb('fisher.db')"
   ]
  },
  {
   "cell_type": "code",
   "execution_count": null,
   "metadata": {
    "collapsed": false
   },
   "outputs": [],
   "source": [
    "sampletrain(cl)"
   ]
  },
  {
   "cell_type": "code",
   "execution_count": null,
   "metadata": {
    "collapsed": true
   },
   "outputs": [],
   "source": [
    "c2 = naivebayes(getwords)"
   ]
  },
  {
   "cell_type": "code",
   "execution_count": null,
   "metadata": {
    "collapsed": true
   },
   "outputs": [],
   "source": [
    "c2.setdb('fisher.db')"
   ]
  },
  {
   "cell_type": "code",
   "execution_count": null,
   "metadata": {
    "collapsed": false
   },
   "outputs": [],
   "source": [
    "c2.classify('quick money')"
   ]
  },
  {
   "cell_type": "code",
   "execution_count": null,
   "metadata": {
    "collapsed": false
   },
   "outputs": [],
   "source": [
    "cl.classify('quick money')"
   ]
  },
  {
   "cell_type": "markdown",
   "metadata": {
    "collapsed": true
   },
   "source": [
    "# 过滤 Feed"
   ]
  },
  {
   "cell_type": "code",
   "execution_count": null,
   "metadata": {
    "collapsed": true
   },
   "outputs": [],
   "source": [
    "import feedparser\n",
    "import re"
   ]
  },
  {
   "cell_type": "code",
   "execution_count": null,
   "metadata": {
    "collapsed": true
   },
   "outputs": [],
   "source": [
    "# Takes a filename of URL of a blog feed and classifies the entries\n",
    "def read(feed,classifier,is_entry=False):\n",
    "    # Get feed entries and loop over them\n",
    "    f = feedparser.parse(feed)\n",
    "    for entry in f['entries']:\n",
    "        print\n",
    "        print '-----'\n",
    "        # Print the contents of the entry\n",
    "        print 'Title:     '+ entry['title'].encode('utf-8')\n",
    "        print 'Publisher: '+ entry['publisher'].encode('utf-8')\n",
    "        print\n",
    "        print entry['summary'].encode('utf-8')\n",
    "\n",
    "\n",
    "        # Combine all the text to create one item for the classifier\n",
    "        fulltext = '%s\\n%s\\n%s' % (entry['title'],entry['publisher'],entry['summary'])\n",
    "\n",
    "        # Print the best guess at the current category\n",
    "        if is_entry == True:\n",
    "            print 'Guess: '+ str(classifier.classify(entry))\n",
    "        else:\n",
    "            print 'Guess: '+ str(classifier.classify(fulltext))\n",
    "\n",
    "        # Ask the user to specify the correct category and train on that\n",
    "        cl = raw_input('Enter category: ')\n",
    "        \n",
    "        if is_entry == True:\n",
    "            classifier.train(entry,cl)\n",
    "        else:\n",
    "            classifier.train(fulltext,cl)"
   ]
  },
  {
   "cell_type": "code",
   "execution_count": null,
   "metadata": {
    "collapsed": false
   },
   "outputs": [],
   "source": [
    "cl = fisherclassifier(getwords)"
   ]
  },
  {
   "cell_type": "code",
   "execution_count": null,
   "metadata": {
    "collapsed": true
   },
   "outputs": [],
   "source": [
    "cl.setdb('python_feed.db')"
   ]
  },
  {
   "cell_type": "code",
   "execution_count": null,
   "metadata": {
    "collapsed": false
   },
   "outputs": [],
   "source": [
    "read('python_search.xml',cl)"
   ]
  },
  {
   "cell_type": "code",
   "execution_count": null,
   "metadata": {
    "collapsed": false
   },
   "outputs": [],
   "source": [
    "def entryfeatures(entry):\n",
    "    splitter = re.compile('\\\\W*')\n",
    "    f = {}\n",
    "  \n",
    "    # Extract the title words and annotate\n",
    "    titlewords = [s.lower() for s in splitter.split(entry['title']) if len(s)>2 and len(s)<20]\n",
    "    for w in titlewords: f['Title:'+ w] = 1\n",
    "  \n",
    "    # Extract the summary words\n",
    "    summarywords = [s.lower() for s in splitter.split(entry['summary']) if len(s)>2 and len(s)<20]\n",
    "\n",
    "    # Count uppercase words\n",
    "    uc = 0\n",
    "    for i in range(len(summarywords)):\n",
    "        w = summarywords[i]\n",
    "        f[w] = 1\n",
    "        if w.isupper(): uc += 1\n",
    "\n",
    "        # Get word pairs in summary as features\n",
    "        if i < len(summarywords)-1:\n",
    "            twowords = ' '.join(summarywords[i:i+1])\n",
    "            f[twowords] = 1\n",
    "    \n",
    "    # Keep creator and publisher whole\n",
    "    f['Publisher:' + entry['publisher']]=1\n",
    "\n",
    "    # UPPERCASE is a virtual word flagging too much shouting  \n",
    "    if float(uc)/len(summarywords)>0.3: f['UPPERCASE'] = 1\n",
    "  \n",
    "    return f"
   ]
  },
  {
   "cell_type": "code",
   "execution_count": null,
   "metadata": {
    "collapsed": true
   },
   "outputs": [],
   "source": [
    "cl = fisherclassifier(entryfeatures)"
   ]
  },
  {
   "cell_type": "code",
   "execution_count": null,
   "metadata": {
    "collapsed": true
   },
   "outputs": [],
   "source": [
    "cl.setdb('python_feed.db')"
   ]
  },
  {
   "cell_type": "code",
   "execution_count": null,
   "metadata": {
    "collapsed": false
   },
   "outputs": [],
   "source": [
    "read('python_search.xml',cl,True)"
   ]
  },
  {
   "cell_type": "code",
   "execution_count": null,
   "metadata": {
    "collapsed": true
   },
   "outputs": [],
   "source": []
  }
 ],
 "metadata": {
  "celltoolbar": "Raw Cell Format",
  "kernelspec": {
   "display_name": "Python 2",
   "language": "python",
   "name": "python2"
  },
  "language_info": {
   "codemirror_mode": {
    "name": "ipython",
    "version": 2
   },
   "file_extension": ".py",
   "mimetype": "text/x-python",
   "name": "python",
   "nbconvert_exporter": "python",
   "pygments_lexer": "ipython2",
   "version": "2.7.8"
  }
 },
 "nbformat": 4,
 "nbformat_minor": 0
}
