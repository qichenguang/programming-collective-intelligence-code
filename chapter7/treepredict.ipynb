{
 "cells": [
  {
   "cell_type": "code",
   "execution_count": null,
   "metadata": {
    "collapsed": true
   },
   "outputs": [],
   "source": [
    "my_data=[['slashdot','USA','yes',18,'None'],\n",
    "        ['google','France','yes',23,'Premium'],\n",
    "        ['digg','USA','yes',24,'Basic'],\n",
    "        ['kiwitobes','France','yes',23,'Basic'],\n",
    "        ['google','UK','no',21,'Premium'],\n",
    "        ['(direct)','New Zealand','no',12,'None'],\n",
    "        ['(direct)','UK','no',21,'Basic'],\n",
    "        ['google','USA','no',24,'Premium'],\n",
    "        ['slashdot','France','yes',19,'None'],\n",
    "        ['digg','USA','no',18,'None'],\n",
    "        ['google','UK','no',18,'None'],\n",
    "        ['kiwitobes','UK','no',19,'None'],\n",
    "        ['digg','New Zealand','yes',12,'Basic'],\n",
    "        ['slashdot','UK','no',21,'None'],\n",
    "        ['google','UK','yes',18,'Basic'],\n",
    "        ['kiwitobes','France','yes',19,'Basic']]"
   ]
  },
  {
   "cell_type": "code",
   "execution_count": 46,
   "metadata": {
    "collapsed": true
   },
   "outputs": [],
   "source": [
    "class decisionnode:\n",
    "    def __init__(self,col=-1,value=None,results=None,tb=None,fb=None):\n",
    "        self.col = col\n",
    "        self.value = value\n",
    "        self.results = results\n",
    "        self.tb = tb\n",
    "        self.fb = fb"
   ]
  },
  {
   "cell_type": "code",
   "execution_count": 47,
   "metadata": {
    "collapsed": true
   },
   "outputs": [],
   "source": [
    "# Divides a set on a specific column. Can handle numeric\n",
    "# or nominal values\n",
    "def divideset(rows,column,value):\n",
    "    # Make a function that tells us if a row is in \n",
    "    # the first group (true) or the second group (false)\n",
    "    split_function = None\n",
    "    if isinstance(value,int) or isinstance(value,float):\n",
    "        split_function = lambda row:row[column] >= value\n",
    "    else:\n",
    "        split_function = lambda row:row[column] == value\n",
    "\n",
    "    # Divide the rows into two sets and return them\n",
    "    set1 = [row for row in rows if split_function(row)]\n",
    "    set2 = [row for row in rows if not split_function(row)]\n",
    "    return (set1,set2)\n"
   ]
  },
  {
   "cell_type": "code",
   "execution_count": null,
   "metadata": {
    "collapsed": false
   },
   "outputs": [],
   "source": [
    "divideset(my_data,2,'yes')"
   ]
  },
  {
   "cell_type": "code",
   "execution_count": 61,
   "metadata": {
    "collapsed": true
   },
   "outputs": [],
   "source": [
    "# Create counts of possible results (the last column of \n",
    "# each row is the result)\n",
    "def uniquecounts(rows):\n",
    "    results = {}\n",
    "    for row in rows:\n",
    "        # The result is the last column\n",
    "        r = row[len(row)-1]\n",
    "        if r not in results: results[r] = 0\n",
    "        results[r] += 1\n",
    "    return results"
   ]
  },
  {
   "cell_type": "markdown",
   "metadata": {},
   "source": [
    "# 基尼不纯度"
   ]
  },
  {
   "cell_type": "code",
   "execution_count": 48,
   "metadata": {
    "collapsed": true
   },
   "outputs": [],
   "source": [
    "# Probability that a randomly placed item will\n",
    "# be in the wrong category\n",
    "def giniimpurity(rows):\n",
    "    total = len(rows)\n",
    "    counts = uniquecounts(rows)\n",
    "    imp = 0\n",
    "    for k1 in counts:\n",
    "        p1 = float(counts[k1])/total\n",
    "        for k2 in counts:\n",
    "            if k1 == k2: continue\n",
    "            p2 = float(counts[k2])/total\n",
    "            imp += p1 * p2\n",
    "    return imp"
   ]
  },
  {
   "cell_type": "markdown",
   "metadata": {},
   "source": [
    "# 熵"
   ]
  },
  {
   "cell_type": "code",
   "execution_count": 49,
   "metadata": {
    "collapsed": true
   },
   "outputs": [],
   "source": [
    "# Entropy is the sum of p(x)log(p(x)) across all \n",
    "# the different possible results\n",
    "def entropy(rows):\n",
    "    from math import log\n",
    "    log2 = lambda x:log(x)/log(2)  \n",
    "    results = uniquecounts(rows)\n",
    "    # Now calculate the entropy\n",
    "    ent = 0.0\n",
    "    for r in results.keys():\n",
    "        p = float(results[r])/len(rows)\n",
    "        ent = ent - p * log2(p)\n",
    "    return ent"
   ]
  },
  {
   "cell_type": "code",
   "execution_count": null,
   "metadata": {
    "collapsed": false
   },
   "outputs": [],
   "source": [
    "giniimpurity(my_data)"
   ]
  },
  {
   "cell_type": "code",
   "execution_count": null,
   "metadata": {
    "collapsed": false
   },
   "outputs": [],
   "source": [
    "entropy(my_data)"
   ]
  },
  {
   "cell_type": "code",
   "execution_count": null,
   "metadata": {
    "collapsed": true
   },
   "outputs": [],
   "source": [
    "set1,set2 = divideset(my_data,2,'yes')"
   ]
  },
  {
   "cell_type": "code",
   "execution_count": null,
   "metadata": {
    "collapsed": false
   },
   "outputs": [],
   "source": [
    "giniimpurity(set1)"
   ]
  },
  {
   "cell_type": "code",
   "execution_count": null,
   "metadata": {
    "collapsed": false
   },
   "outputs": [],
   "source": [
    "giniimpurity(set2)"
   ]
  },
  {
   "cell_type": "code",
   "execution_count": null,
   "metadata": {
    "collapsed": false
   },
   "outputs": [],
   "source": [
    "entropy(set1)"
   ]
  },
  {
   "cell_type": "code",
   "execution_count": null,
   "metadata": {
    "collapsed": false
   },
   "outputs": [],
   "source": [
    "entropy(set2)"
   ]
  },
  {
   "cell_type": "code",
   "execution_count": 50,
   "metadata": {
    "collapsed": true
   },
   "outputs": [],
   "source": [
    "def buildtree(rows,scoref=entropy):\n",
    "    if len(rows) == 0: return decisionnode()\n",
    "    current_score = scoref(rows)\n",
    "\n",
    "    # Set up some variables to track the best criteria\n",
    "    best_gain = 0.0\n",
    "    best_criteria = None\n",
    "    best_sets = None\n",
    "  \n",
    "    column_count = len(rows[0])-1\n",
    "    for col in range(0,column_count):\n",
    "        # Generate the list of different values in\n",
    "        # this column\n",
    "        column_values = {}\n",
    "        for row in rows:\n",
    "            column_values[row[col]] = 1\n",
    "            \n",
    "        # Now try dividing the rows up for each value\n",
    "        # in this column\n",
    "        for value in column_values.keys():\n",
    "            (set1,set2) = divideset(rows,col,value)\n",
    "\n",
    "            # Information gain\n",
    "            p = float(len(set1))/len(rows)\n",
    "            gain = current_score - p*scoref(set1) - (1-p)*scoref(set2)\n",
    "            if gain > best_gain and len(set1)>0 and len(set2)>0:\n",
    "                best_gain = gain\n",
    "                best_criteria = (col,value)\n",
    "                best_sets = (set1,set2)\n",
    "    # Create the sub branches   \n",
    "    if best_gain > 0:\n",
    "        trueBranch = buildtree(best_sets[0])\n",
    "        falseBranch = buildtree(best_sets[1])\n",
    "        return decisionnode(col=best_criteria[0],value=best_criteria[1],tb=trueBranch,fb=falseBranch)\n",
    "    else:\n",
    "        return decisionnode(results=uniquecounts(rows))"
   ]
  },
  {
   "cell_type": "code",
   "execution_count": null,
   "metadata": {
    "collapsed": true
   },
   "outputs": [],
   "source": [
    "tree = buildtree(my_data)"
   ]
  },
  {
   "cell_type": "code",
   "execution_count": 51,
   "metadata": {
    "collapsed": true
   },
   "outputs": [],
   "source": [
    "def printtree(tree,indent=''):\n",
    "    # Is this a leaf node?\n",
    "    if tree.results != None:\n",
    "        print str(tree.results)\n",
    "    else:\n",
    "        # Print the criteria\n",
    "        print str(tree.col) + ':' + str(tree.value) + '? '\n",
    "\n",
    "        # Print the branches\n",
    "        print indent + 'T->',\n",
    "        printtree(tree.tb,indent + '  ')\n",
    "        print indent + 'F->',\n",
    "        printtree(tree.fb,indent + '  ')"
   ]
  },
  {
   "cell_type": "code",
   "execution_count": null,
   "metadata": {
    "collapsed": false
   },
   "outputs": [],
   "source": [
    "printtree(tree)"
   ]
  },
  {
   "cell_type": "markdown",
   "metadata": {},
   "source": [
    "# 绘制图形"
   ]
  },
  {
   "cell_type": "code",
   "execution_count": 52,
   "metadata": {
    "collapsed": true
   },
   "outputs": [],
   "source": [
    "from PIL import Image,ImageDraw"
   ]
  },
  {
   "cell_type": "code",
   "execution_count": 53,
   "metadata": {
    "collapsed": true
   },
   "outputs": [],
   "source": [
    "def getwidth(tree):\n",
    "    if tree.tb == None and tree.fb == None: return 1\n",
    "    return getwidth(tree.tb) + getwidth(tree.fb)\n",
    "\n",
    "def getdepth(tree):\n",
    "    if tree.tb == None and tree.fb == None: return 0\n",
    "    return max(getdepth(tree.tb),getdepth(tree.fb)) + 1"
   ]
  },
  {
   "cell_type": "code",
   "execution_count": 54,
   "metadata": {
    "collapsed": true
   },
   "outputs": [],
   "source": [
    "def drawtree(tree,jpeg='tree.jpg'):\n",
    "    w = getwidth(tree)*100\n",
    "    h = getdepth(tree)*100 + 120\n",
    "\n",
    "    img = Image.new('RGB',(w,h),(255,255,255))\n",
    "    draw = ImageDraw.Draw(img)\n",
    "\n",
    "    drawnode(draw,tree,w/2,20)\n",
    "    img.save(jpeg,'JPEG')"
   ]
  },
  {
   "cell_type": "code",
   "execution_count": 55,
   "metadata": {
    "collapsed": true
   },
   "outputs": [],
   "source": [
    "def drawnode(draw,tree,x,y):\n",
    "    if tree.results == None:\n",
    "        # Get the width of each branch\n",
    "        w1 = getwidth(tree.fb)*100\n",
    "        w2 = getwidth(tree.tb)*100\n",
    "\n",
    "        # Determine the total space required by this node\n",
    "        left = x-(w1+w2)/2\n",
    "        right = x+(w1+w2)/2\n",
    "\n",
    "        # Draw the condition string\n",
    "        draw.text((x-20,y-10),str(tree.col) + ':' + str(tree.value),(0,0,0))\n",
    "\n",
    "        # Draw links to the branches\n",
    "        draw.line((x,y,left + w1/2,y + 100),fill=(255,0,0))\n",
    "        draw.line((x,y,right - w2/2,y + 100),fill=(255,0,0))\n",
    "\n",
    "        # Draw the branch nodes\n",
    "        drawnode(draw,tree.fb,left + w1/2,y+100)\n",
    "        drawnode(draw,tree.tb,right - w2/2,y+100)\n",
    "    else:\n",
    "        txt=' \\n'.join(['%s:%d' %v for v in tree.results.items()])\n",
    "        draw.text((x - 20,y),txt,(0,0,0))"
   ]
  },
  {
   "cell_type": "code",
   "execution_count": null,
   "metadata": {
    "collapsed": true
   },
   "outputs": [],
   "source": [
    "drawtree(tree)"
   ]
  },
  {
   "cell_type": "code",
   "execution_count": 56,
   "metadata": {
    "collapsed": true
   },
   "outputs": [],
   "source": [
    "def classify(observation,tree):\n",
    "    if tree.results != None:\n",
    "        return tree.results\n",
    "    else:\n",
    "        v = observation[tree.col]\n",
    "        branch = None\n",
    "        if isinstance(v,int) or isinstance(v,float):\n",
    "            if v >= tree.value: branch = tree.tb\n",
    "            else: branch = tree.fb\n",
    "        else:\n",
    "            if v == tree.value: branch = tree.tb\n",
    "            else: branch = tree.fb\n",
    "    return classify(observation,branch)"
   ]
  },
  {
   "cell_type": "code",
   "execution_count": null,
   "metadata": {
    "collapsed": false
   },
   "outputs": [],
   "source": [
    "classify(['(direct)','USA','yes',51],tree)"
   ]
  },
  {
   "cell_type": "code",
   "execution_count": 57,
   "metadata": {
    "collapsed": true
   },
   "outputs": [],
   "source": [
    "def prune(tree,mingain):\n",
    "    # If the branches aren't leaves, then prune them\n",
    "    if tree.tb.results == None:\n",
    "        prune(tree.tb,mingain)\n",
    "    if tree.fb.results == None:\n",
    "        prune(tree.fb,mingain)\n",
    "    \n",
    "    # If both the subbranches are now leaves, see if they\n",
    "    # should merged\n",
    "    if tree.tb.results !=None and tree.fb.results != None:\n",
    "        # Build a combined dataset\n",
    "        tb,fb = [],[]\n",
    "        for v,c in tree.tb.results.items():\n",
    "            tb += [[v]] * c\n",
    "        for v,c in tree.fb.results.items():\n",
    "            fb += [[v]] * c\n",
    "    \n",
    "        # Test the reduction in entropy\n",
    "        delta = entropy(tb + fb) - (entropy(tb) + entropy(fb)/2)\n",
    "\n",
    "        if delta < mingain:\n",
    "            # Merge the branches\n",
    "            tree.tb,tree.fb = None,None\n",
    "            tree.results = uniquecounts(tb + fb)"
   ]
  },
  {
   "cell_type": "code",
   "execution_count": null,
   "metadata": {
    "collapsed": false
   },
   "outputs": [],
   "source": [
    "a = [1,2]\n",
    "b = [3,4]\n",
    "c = a+ b\n",
    "c"
   ]
  },
  {
   "cell_type": "code",
   "execution_count": null,
   "metadata": {
    "collapsed": false
   },
   "outputs": [],
   "source": [
    "d = a * 3\n",
    "d"
   ]
  },
  {
   "cell_type": "code",
   "execution_count": null,
   "metadata": {
    "collapsed": false
   },
   "outputs": [],
   "source": [
    "e = [[1],[2]]\n",
    "f = []\n",
    "f += e * 3\n",
    "f"
   ]
  },
  {
   "cell_type": "code",
   "execution_count": null,
   "metadata": {
    "collapsed": false
   },
   "outputs": [],
   "source": [
    "f += e * 3\n",
    "f"
   ]
  },
  {
   "cell_type": "code",
   "execution_count": null,
   "metadata": {
    "collapsed": true
   },
   "outputs": [],
   "source": [
    "prune(tree,0.1)"
   ]
  },
  {
   "cell_type": "code",
   "execution_count": null,
   "metadata": {
    "collapsed": false
   },
   "outputs": [],
   "source": [
    "printtree(tree)"
   ]
  },
  {
   "cell_type": "code",
   "execution_count": null,
   "metadata": {
    "collapsed": true
   },
   "outputs": [],
   "source": [
    "prune(tree,1.0)"
   ]
  },
  {
   "cell_type": "code",
   "execution_count": null,
   "metadata": {
    "collapsed": false
   },
   "outputs": [],
   "source": [
    "printtree(tree)"
   ]
  },
  {
   "cell_type": "code",
   "execution_count": null,
   "metadata": {
    "collapsed": false
   },
   "outputs": [],
   "source": [
    "prune(tree,10.0)\n",
    "printtree(tree)"
   ]
  },
  {
   "cell_type": "code",
   "execution_count": 58,
   "metadata": {
    "collapsed": true
   },
   "outputs": [],
   "source": [
    "def mdclassify(observation,tree):\n",
    "    if tree.results != None:\n",
    "        return tree.results\n",
    "    else:\n",
    "        v = observation[tree.col]\n",
    "        if v == None:\n",
    "            tr,fr = mdclassify(observation,tree.tb),mdclassify(observation,tree.fb)\n",
    "            tcount = sum(tr.values())\n",
    "            fcount = sum(fr.values())\n",
    "            tw = float(tcount)/(tcount+fcount)\n",
    "            fw = float(fcount)/(tcount+fcount)\n",
    "            result = {}\n",
    "            for k,v in tr.items(): result[k] = v*tw\n",
    "            for k,v in fr.items(): result[k] = v*fw      \n",
    "            return result\n",
    "        else:\n",
    "            if isinstance(v,int) or isinstance(v,float):\n",
    "                if v >= tree.value: branch = tree.tb\n",
    "                else: branch = tree.fb\n",
    "            else:\n",
    "                if v == tree.value: branch = tree.tb\n",
    "                else: branch = tree.fb\n",
    "            return mdclassify(observation,branch)\n"
   ]
  },
  {
   "cell_type": "code",
   "execution_count": null,
   "metadata": {
    "collapsed": false
   },
   "outputs": [],
   "source": [
    "mdclassify(['google',None,'yes',None],tree)"
   ]
  },
  {
   "cell_type": "code",
   "execution_count": null,
   "metadata": {
    "collapsed": false
   },
   "outputs": [],
   "source": [
    "mdclassify(['google','France',None,None],tree)"
   ]
  },
  {
   "cell_type": "code",
   "execution_count": 59,
   "metadata": {
    "collapsed": true
   },
   "outputs": [],
   "source": [
    "def variance(rows):\n",
    "    if len(rows) == 0: return 0\n",
    "    data = [float(row[len(row)-1]) for row in rows]\n",
    "    mean = sum(data)/len(data)\n",
    "    variance = sum([(d-mean)**2 for d in data])/len(data)\n",
    "    return variance"
   ]
  },
  {
   "cell_type": "markdown",
   "metadata": {
    "collapsed": true
   },
   "source": [
    "# Zillow"
   ]
  },
  {
   "cell_type": "code",
   "execution_count": 78,
   "metadata": {
    "collapsed": true
   },
   "outputs": [],
   "source": [
    "import xml.dom.minidom\n",
    "import urllib2"
   ]
  },
  {
   "cell_type": "code",
   "execution_count": 79,
   "metadata": {
    "collapsed": true
   },
   "outputs": [],
   "source": [
    "zwskey=\"X1-ZWz1f7enoxuu4r_3o1g1\""
   ]
  },
  {
   "cell_type": "code",
   "execution_count": 91,
   "metadata": {
    "collapsed": false
   },
   "outputs": [],
   "source": [
    "def getaddressdata(address,city):\n",
    "    escad=address.replace(' ','+')\n",
    "    url = 'http://www.zillow.com/webservice/GetDeepSearchResults.htm?'\n",
    "    url += 'zws-id=%s&address=%s&citystatezip=%s' % (zwskey,escad,city)\n",
    "    doc = xml.dom.minidom.parseString(urllib2.urlopen(url).read())\n",
    "    code = doc.getElementsByTagName('code')[0].firstChild.data\n",
    "    if code != '0': \n",
    "        print 'code:',code\n",
    "        return None\n",
    "\n",
    "    try:\n",
    "        zipcode = doc.getElementsByTagName('zipcode')[0].firstChild.data\n",
    "        use = doc.getElementsByTagName('useCode')[0].firstChild.data\n",
    "        year = doc.getElementsByTagName('yearBuilt')[0].firstChild.data\n",
    "        sqft = doc.getElementsByTagName('finishedSqFt')[0].firstChild.data\n",
    "        bath = doc.getElementsByTagName('bathrooms')[0].firstChild.data\n",
    "        bed = doc.getElementsByTagName('bedrooms')[0].firstChild.data\n",
    "        rooms = doc.getElementsByTagName('totalRooms')[0].firstChild.data\n",
    "        price = doc.getElementsByTagName('amount')[0].firstChild.data\n",
    "    except Exception,e:\n",
    "        print 'e:',e\n",
    "        print 'doc:',doc\n",
    "        return None\n",
    "       \n",
    "    return (zipcode,use,int(year),float(bath),int(bed),int(rooms),price)"
   ]
  },
  {
   "cell_type": "code",
   "execution_count": 81,
   "metadata": {
    "collapsed": true
   },
   "outputs": [],
   "source": [
    "def getpricelist():\n",
    "    l1=[]\n",
    "    for line in file('addresslist.txt'):\n",
    "        data = getaddressdata(line.strip(),'Cambridge,MA')\n",
    "        l1.append(data)\n",
    "    return l1"
   ]
  },
  {
   "cell_type": "code",
   "execution_count": 82,
   "metadata": {
    "collapsed": false
   },
   "outputs": [
    {
     "name": "stdout",
     "output_type": "stream",
     "text": [
      "e: list index out of range\n",
      "doc: <xml.dom.minidom.Document instance at 0x06BC33A0>\n",
      "e: list index out of range\n",
      "doc: <xml.dom.minidom.Document instance at 0x06BC9D78>\n",
      "e: list index out of range\n",
      "doc: <xml.dom.minidom.Document instance at 0x069B0DC8>\n",
      "e: 'NoneType' object has no attribute 'data'\n",
      "doc: <xml.dom.minidom.Document instance at 0x069B0A80>\n",
      "code: 508\n",
      "code: 508\n",
      "code: 508\n",
      "e: list index out of range\n",
      "doc: <xml.dom.minidom.Document instance at 0x069AC440>\n",
      "code: 508\n",
      "e: list index out of range\n",
      "doc: <xml.dom.minidom.Document instance at 0x06472B70>\n",
      "code: 508\n",
      "e: list index out of range\n",
      "doc: <xml.dom.minidom.Document instance at 0x03259328>\n",
      "code: 508\n",
      "code: 508\n"
     ]
    }
   ],
   "source": [
    "housedata = getpricelist()"
   ]
  },
  {
   "cell_type": "code",
   "execution_count": 87,
   "metadata": {
    "collapsed": false
   },
   "outputs": [
    {
     "data": {
      "text/plain": [
       "[(u'02139', u'Condominium', 1895, 1.5, 3, 6, u'580768'),\n",
       " (u'02138', u'SingleFamily', 1847, 1.5, 2, 5, u'841413'),\n",
       " (u'02139', u'Triplex', 1884, 3.5, 5, 11, u'1456470'),\n",
       " (u'02138', u'MultiFamily2To4', 1920, 1.0, 2, 5, u'667892'),\n",
       " None,\n",
       " None,\n",
       " (u'02138', u'Condominium', 1914, 1.0, 2, 4, u'666479'),\n",
       " (u'02138', u'Triplex', 1916, 3.5, 9, 21, u'1772885'),\n",
       " None,\n",
       " (u'02140', u'Duplex', 1894, 3.5, 4, 9, u'1005138'),\n",
       " None,\n",
       " (u'02138', u'SingleFamily', 1925, 3.0, 3, 7, u'3671989'),\n",
       " (u'02140', u'SingleFamily', 1894, 2.5, 4, 12, u'2241054'),\n",
       " (u'02140', u'SingleFamily', 1894, 2.5, 4, 8, u'2051552'),\n",
       " (u'02138', u'SingleFamily', 1956, 3.0, 4, 10, u'1521888'),\n",
       " (u'02140', u'SingleFamily', 1899, 1.5, 3, 7, u'769738'),\n",
       " (u'02138', u'MultiFamily2To4', 1927, 1.0, 2, 10, u'788439'),\n",
       " (u'02141', u'Condominium', 1903, 1.0, 3, 5, u'545643'),\n",
       " None,\n",
       " (u'02140', u'Condominium', 1920, 1.0, 2, 5, u'576397'),\n",
       " (u'02138', u'MultiFamily2To4', 1900, 1.0, 2, 4, u'620466'),\n",
       " (u'02139', u'Condominium', 1987, 2.5, 3, 5, u'865799'),\n",
       " None,\n",
       " (u'02139', u'Condominium', 1820, 2.5, 3, 6, u'867467'),\n",
       " (u'02139', u'Duplex', 1873, 2.5, 4, 12, u'953985'),\n",
       " (u'02139', u'Duplex', 1854, 2.5, 4, 10, u'958596'),\n",
       " None,\n",
       " (u'02139', u'Duplex', 1873, 2.5, 4, 8, u'1066590'),\n",
       " None,\n",
       " (u'02138', u'Duplex', 1909, 3.5, 5, 12, u'1613973'),\n",
       " (u'02139', u'SingleFamily', 1854, 1.0, 2, 12, u'1152069'),\n",
       " (u'02138', u'Condominium', 1922, 1.5, 1, 5, u'652855'),\n",
       " (u'02140', u'Triplex', 1897, 3.0, 9, 15, u'1222066'),\n",
       " None,\n",
       " (u'02138', u'Condominium', 1985, 3.0, 2, 5, u'1858696'),\n",
       " (u'02141', u'SingleFamily', 1984, 2.5, 3, 6, u'773520'),\n",
       " None,\n",
       " (u'02138', u'Condominium', 1880, 1.0, 2, 7, u'798225'),\n",
       " (u'02139', u'Duplex', 1873, 3.5, 4, 8, u'1314510'),\n",
       " (u'02139', u'Duplex', 1854, 3.5, 6, 12, u'1314263'),\n",
       " (u'02139', u'SingleFamily', 1873, 1.5, 2, 5, u'632499'),\n",
       " (u'02138', u'SingleFamily', 2009, 3.5, 4, 8, u'3865819'),\n",
       " (u'02138', u'SingleFamily', 1948, 1.5, 3, 6, u'605215'),\n",
       " None,\n",
       " None,\n",
       " None,\n",
       " None,\n",
       " (u'02139', u'Condominium', 1903, 1.0, 3, 8, u'506405'),\n",
       " (u'02139', u'Triplex', 1903, 3.5, 7, 18, u'1484326'),\n",
       " (u'02140', u'Condominium', 1988, 2.0, 3, 5, u'687750'),\n",
       " (u'02139', u'Duplex', 1854, 3.5, 6, 12, u'1314263'),\n",
       " (u'02138', u'Condominium', 1900, 1.5, 2, 6, u'669549')]"
      ]
     },
     "execution_count": 87,
     "metadata": {},
     "output_type": "execute_result"
    }
   ],
   "source": [
    "housedata"
   ]
  },
  {
   "cell_type": "code",
   "execution_count": 88,
   "metadata": {
    "collapsed": true
   },
   "outputs": [],
   "source": [
    "fo = open(\"zillowdetail.txt\", \"a+\")"
   ]
  },
  {
   "cell_type": "code",
   "execution_count": 89,
   "metadata": {
    "collapsed": false
   },
   "outputs": [],
   "source": [
    "for line in housedata:\n",
    "    if str(line) == str('None'):continue\n",
    "    #\n",
    "    for field in line:\n",
    "        fo.write(str(field) + \"\\t\" )\n",
    "    #\n",
    "    fo.write(\"\\n\" )"
   ]
  },
  {
   "cell_type": "code",
   "execution_count": 90,
   "metadata": {
    "collapsed": true
   },
   "outputs": [],
   "source": [
    "fo.close()"
   ]
  },
  {
   "cell_type": "code",
   "execution_count": 102,
   "metadata": {
    "collapsed": true
   },
   "outputs": [],
   "source": [
    "fo = open(\"zillowdetail.txt\", \"r\")"
   ]
  },
  {
   "cell_type": "code",
   "execution_count": 103,
   "metadata": {
    "collapsed": false
   },
   "outputs": [],
   "source": [
    "hdata = [ (line.strip().split('\\t')) for line in fo.readlines()]"
   ]
  },
  {
   "cell_type": "code",
   "execution_count": 104,
   "metadata": {
    "collapsed": true
   },
   "outputs": [],
   "source": [
    "fo.close()"
   ]
  },
  {
   "cell_type": "code",
   "execution_count": 105,
   "metadata": {
    "collapsed": false,
    "scrolled": false
   },
   "outputs": [],
   "source": [
    "hsdata = []\n",
    "for row in hdata:\n",
    "    #(code,address,year,num1,bathroomnum,roomnum,price) = \n",
    "    hsdata.append((str(row[0]),str(row[1]),str(row[2]),float(row[3]),int(row[4]),int(row[5]),int(row[6])))"
   ]
  },
  {
   "cell_type": "code",
   "execution_count": 106,
   "metadata": {
    "collapsed": false
   },
   "outputs": [
    {
     "data": {
      "text/plain": [
       "[('02139', 'Condominium', '1895', 1.5, 3, 6, 580768),\n",
       " ('02138', 'SingleFamily', '1847', 1.5, 2, 5, 841413),\n",
       " ('02139', 'Triplex', '1884', 3.5, 5, 11, 1456470),\n",
       " ('02138', 'MultiFamily2To4', '1920', 1.0, 2, 5, 667892),\n",
       " ('02138', 'Condominium', '1914', 1.0, 2, 4, 666479),\n",
       " ('02138', 'Triplex', '1916', 3.5, 9, 21, 1772885),\n",
       " ('02140', 'Duplex', '1894', 3.5, 4, 9, 1005138),\n",
       " ('02138', 'SingleFamily', '1925', 3.0, 3, 7, 3671989),\n",
       " ('02140', 'SingleFamily', '1894', 2.5, 4, 12, 2241054),\n",
       " ('02140', 'SingleFamily', '1894', 2.5, 4, 8, 2051552),\n",
       " ('02138', 'SingleFamily', '1956', 3.0, 4, 10, 1521888),\n",
       " ('02140', 'SingleFamily', '1899', 1.5, 3, 7, 769738),\n",
       " ('02138', 'MultiFamily2To4', '1927', 1.0, 2, 10, 788439),\n",
       " ('02141', 'Condominium', '1903', 1.0, 3, 5, 545643),\n",
       " ('02140', 'Condominium', '1920', 1.0, 2, 5, 576397),\n",
       " ('02138', 'MultiFamily2To4', '1900', 1.0, 2, 4, 620466),\n",
       " ('02139', 'Condominium', '1987', 2.5, 3, 5, 865799),\n",
       " ('02139', 'Condominium', '1820', 2.5, 3, 6, 867467),\n",
       " ('02139', 'Duplex', '1873', 2.5, 4, 12, 953985),\n",
       " ('02139', 'Duplex', '1854', 2.5, 4, 10, 958596),\n",
       " ('02139', 'Duplex', '1873', 2.5, 4, 8, 1066590),\n",
       " ('02138', 'Duplex', '1909', 3.5, 5, 12, 1613973),\n",
       " ('02139', 'SingleFamily', '1854', 1.0, 2, 12, 1152069),\n",
       " ('02138', 'Condominium', '1922', 1.5, 1, 5, 652855),\n",
       " ('02140', 'Triplex', '1897', 3.0, 9, 15, 1222066),\n",
       " ('02138', 'Condominium', '1985', 3.0, 2, 5, 1858696),\n",
       " ('02141', 'SingleFamily', '1984', 2.5, 3, 6, 773520),\n",
       " ('02138', 'Condominium', '1880', 1.0, 2, 7, 798225),\n",
       " ('02139', 'Duplex', '1873', 3.5, 4, 8, 1314510),\n",
       " ('02139', 'Duplex', '1854', 3.5, 6, 12, 1314263),\n",
       " ('02139', 'SingleFamily', '1873', 1.5, 2, 5, 632499),\n",
       " ('02138', 'SingleFamily', '2009', 3.5, 4, 8, 3865819),\n",
       " ('02138', 'SingleFamily', '1948', 1.5, 3, 6, 605215),\n",
       " ('02139', 'Condominium', '1903', 1.0, 3, 8, 506405),\n",
       " ('02139', 'Triplex', '1903', 3.5, 7, 18, 1484326),\n",
       " ('02140', 'Condominium', '1988', 2.0, 3, 5, 687750),\n",
       " ('02139', 'Duplex', '1854', 3.5, 6, 12, 1314263),\n",
       " ('02138', 'Condominium', '1900', 1.5, 2, 6, 669549)]"
      ]
     },
     "execution_count": 106,
     "metadata": {},
     "output_type": "execute_result"
    }
   ],
   "source": [
    "hsdata"
   ]
  },
  {
   "cell_type": "code",
   "execution_count": 107,
   "metadata": {
    "collapsed": false
   },
   "outputs": [],
   "source": [
    "housetree = buildtree(hsdata,scoref=variance)"
   ]
  },
  {
   "cell_type": "code",
   "execution_count": 108,
   "metadata": {
    "collapsed": true
   },
   "outputs": [],
   "source": [
    "drawtree(housetree,'housetree.jpg')"
   ]
  },
  {
   "cell_type": "markdown",
   "metadata": {},
   "source": [
    "# Hot or Not"
   ]
  },
  {
   "cell_type": "code",
   "execution_count": 109,
   "metadata": {
    "collapsed": true
   },
   "outputs": [],
   "source": [
    "import urllib2\n",
    "import xml.dom.minidom"
   ]
  },
  {
   "cell_type": "code",
   "execution_count": 114,
   "metadata": {
    "collapsed": true
   },
   "outputs": [],
   "source": [
    "api_key='479NUNJHETN'"
   ]
  },
  {
   "cell_type": "code",
   "execution_count": 115,
   "metadata": {
    "collapsed": true
   },
   "outputs": [],
   "source": [
    "def getrandomratings(c):\n",
    "    # Construct URL for getRandomProfile\n",
    "    url = \"http://services.hotornot.com/rest/?app_key=%s\" % api_key\n",
    "    url += \"&method=Rate.getRandomProfile&retrieve_num=%d\" % c\n",
    "    url += \"&get_rate_info=true&meet_users_only=true\"\n",
    "  \n",
    "    f1 = urllib2.urlopen(url).read()\n",
    "\n",
    "    doc = xml.dom.minidom.parseString(f1)\n",
    "\n",
    "    emids = doc.getElementsByTagName('emid')\n",
    "    ratings = doc.getElementsByTagName('rating')\n",
    "\n",
    "    # Combine the emids and ratings together into a list\n",
    "    result = []\n",
    "    for e,r in zip(emids,ratings):\n",
    "        if r.firstChild != None:\n",
    "            result.append((e.firstChild.data,r.firstChild.data))\n",
    "    return result"
   ]
  },
  {
   "cell_type": "code",
   "execution_count": 116,
   "metadata": {
    "collapsed": true
   },
   "outputs": [],
   "source": [
    "stateregions={'New England':['ct','mn','ma','nh','ri','vt'],\n",
    "              'Mid Atlantic':['de','md','nj','ny','pa'],\n",
    "              'South':['al','ak','fl','ga','ky','la','ms','mo',\n",
    "                       'nc','sc','tn','va','wv'],\n",
    "              'Midwest':['il','in','ia','ks','mi','ne','nd','oh','sd','wi'],\n",
    "              'West':['ak','ca','co','hi','id','mt','nv','or','ut','wa','wy']}"
   ]
  },
  {
   "cell_type": "code",
   "execution_count": 117,
   "metadata": {
    "collapsed": true
   },
   "outputs": [],
   "source": [
    "def getpeopledata(ratings):\n",
    "    result = []\n",
    "    for emid,rating in ratings:\n",
    "        # URL for the MeetMe.getProfile method\n",
    "        url = \"http://services.hotornot.com/rest/?app_key=%s\" % api_key\n",
    "        url += \"&method=MeetMe.getProfile&emid=%s&get_keywords=true\" % emid\n",
    "\n",
    "        # Get all the info about this person\n",
    "        try:\n",
    "            rating = int(float(rating)+0.5)\n",
    "            doc2 = xml.dom.minidom.parseString(urllib2.urlopen(url).read())\n",
    "            gender = doc2.getElementsByTagName('gender')[0].firstChild.data\n",
    "            age = doc2.getElementsByTagName('age')[0].firstChild.data\n",
    "            loc = doc2.getElementsByTagName('location')[0].firstChild.data[0:2]\n",
    "\n",
    "            # Convert state to region\n",
    "            for r,s in stateregions.items():\n",
    "                if loc in s: region = r\n",
    "\n",
    "            if region != None:\n",
    "                result.append((gender,int(age),region,rating))\n",
    "        except:\n",
    "            pass\n",
    "    return result"
   ]
  },
  {
   "cell_type": "code",
   "execution_count": 118,
   "metadata": {
    "collapsed": false
   },
   "outputs": [
    {
     "ename": "HTTPError",
     "evalue": "HTTP Error 404: Not Found",
     "output_type": "error",
     "traceback": [
      "\u001b[1;31m---------------------------------------------------------------------------\u001b[0m",
      "\u001b[1;31mHTTPError\u001b[0m                                 Traceback (most recent call last)",
      "\u001b[1;32m<ipython-input-118-31692a0d2edb>\u001b[0m in \u001b[0;36m<module>\u001b[1;34m()\u001b[0m\n\u001b[1;32m----> 1\u001b[1;33m \u001b[0mll\u001b[0m \u001b[1;33m=\u001b[0m \u001b[0mgetrandomratings\u001b[0m\u001b[1;33m(\u001b[0m\u001b[1;36m5\u001b[0m\u001b[1;33m)\u001b[0m\u001b[1;33m\u001b[0m\u001b[0m\n\u001b[0m",
      "\u001b[1;32m<ipython-input-115-c61a88b6ffac>\u001b[0m in \u001b[0;36mgetrandomratings\u001b[1;34m(c)\u001b[0m\n\u001b[0;32m      5\u001b[0m     \u001b[0murl\u001b[0m\u001b[1;33m+=\u001b[0m\u001b[1;34m\"&get_rate_info=true&meet_users_only=true\"\u001b[0m\u001b[1;33m\u001b[0m\u001b[0m\n\u001b[0;32m      6\u001b[0m \u001b[1;33m\u001b[0m\u001b[0m\n\u001b[1;32m----> 7\u001b[1;33m     \u001b[0mf1\u001b[0m\u001b[1;33m=\u001b[0m\u001b[0murllib2\u001b[0m\u001b[1;33m.\u001b[0m\u001b[0murlopen\u001b[0m\u001b[1;33m(\u001b[0m\u001b[0murl\u001b[0m\u001b[1;33m)\u001b[0m\u001b[1;33m.\u001b[0m\u001b[0mread\u001b[0m\u001b[1;33m(\u001b[0m\u001b[1;33m)\u001b[0m\u001b[1;33m\u001b[0m\u001b[0m\n\u001b[0m\u001b[0;32m      8\u001b[0m \u001b[1;33m\u001b[0m\u001b[0m\n\u001b[0;32m      9\u001b[0m     \u001b[0mdoc\u001b[0m\u001b[1;33m=\u001b[0m\u001b[0mxml\u001b[0m\u001b[1;33m.\u001b[0m\u001b[0mdom\u001b[0m\u001b[1;33m.\u001b[0m\u001b[0mminidom\u001b[0m\u001b[1;33m.\u001b[0m\u001b[0mparseString\u001b[0m\u001b[1;33m(\u001b[0m\u001b[0mf1\u001b[0m\u001b[1;33m)\u001b[0m\u001b[1;33m\u001b[0m\u001b[0m\n",
      "\u001b[1;32mC:\\Python\\Python27\\lib\\urllib2.pyc\u001b[0m in \u001b[0;36murlopen\u001b[1;34m(url, data, timeout)\u001b[0m\n\u001b[0;32m    125\u001b[0m     \u001b[1;32mif\u001b[0m \u001b[0m_opener\u001b[0m \u001b[1;32mis\u001b[0m \u001b[0mNone\u001b[0m\u001b[1;33m:\u001b[0m\u001b[1;33m\u001b[0m\u001b[0m\n\u001b[0;32m    126\u001b[0m         \u001b[0m_opener\u001b[0m \u001b[1;33m=\u001b[0m \u001b[0mbuild_opener\u001b[0m\u001b[1;33m(\u001b[0m\u001b[1;33m)\u001b[0m\u001b[1;33m\u001b[0m\u001b[0m\n\u001b[1;32m--> 127\u001b[1;33m     \u001b[1;32mreturn\u001b[0m \u001b[0m_opener\u001b[0m\u001b[1;33m.\u001b[0m\u001b[0mopen\u001b[0m\u001b[1;33m(\u001b[0m\u001b[0murl\u001b[0m\u001b[1;33m,\u001b[0m \u001b[0mdata\u001b[0m\u001b[1;33m,\u001b[0m \u001b[0mtimeout\u001b[0m\u001b[1;33m)\u001b[0m\u001b[1;33m\u001b[0m\u001b[0m\n\u001b[0m\u001b[0;32m    128\u001b[0m \u001b[1;33m\u001b[0m\u001b[0m\n\u001b[0;32m    129\u001b[0m \u001b[1;32mdef\u001b[0m \u001b[0minstall_opener\u001b[0m\u001b[1;33m(\u001b[0m\u001b[0mopener\u001b[0m\u001b[1;33m)\u001b[0m\u001b[1;33m:\u001b[0m\u001b[1;33m\u001b[0m\u001b[0m\n",
      "\u001b[1;32mC:\\Python\\Python27\\lib\\urllib2.pyc\u001b[0m in \u001b[0;36mopen\u001b[1;34m(self, fullurl, data, timeout)\u001b[0m\n\u001b[0;32m    408\u001b[0m         \u001b[1;32mfor\u001b[0m \u001b[0mprocessor\u001b[0m \u001b[1;32min\u001b[0m \u001b[0mself\u001b[0m\u001b[1;33m.\u001b[0m\u001b[0mprocess_response\u001b[0m\u001b[1;33m.\u001b[0m\u001b[0mget\u001b[0m\u001b[1;33m(\u001b[0m\u001b[0mprotocol\u001b[0m\u001b[1;33m,\u001b[0m \u001b[1;33m[\u001b[0m\u001b[1;33m]\u001b[0m\u001b[1;33m)\u001b[0m\u001b[1;33m:\u001b[0m\u001b[1;33m\u001b[0m\u001b[0m\n\u001b[0;32m    409\u001b[0m             \u001b[0mmeth\u001b[0m \u001b[1;33m=\u001b[0m \u001b[0mgetattr\u001b[0m\u001b[1;33m(\u001b[0m\u001b[0mprocessor\u001b[0m\u001b[1;33m,\u001b[0m \u001b[0mmeth_name\u001b[0m\u001b[1;33m)\u001b[0m\u001b[1;33m\u001b[0m\u001b[0m\n\u001b[1;32m--> 410\u001b[1;33m             \u001b[0mresponse\u001b[0m \u001b[1;33m=\u001b[0m \u001b[0mmeth\u001b[0m\u001b[1;33m(\u001b[0m\u001b[0mreq\u001b[0m\u001b[1;33m,\u001b[0m \u001b[0mresponse\u001b[0m\u001b[1;33m)\u001b[0m\u001b[1;33m\u001b[0m\u001b[0m\n\u001b[0m\u001b[0;32m    411\u001b[0m \u001b[1;33m\u001b[0m\u001b[0m\n\u001b[0;32m    412\u001b[0m         \u001b[1;32mreturn\u001b[0m \u001b[0mresponse\u001b[0m\u001b[1;33m\u001b[0m\u001b[0m\n",
      "\u001b[1;32mC:\\Python\\Python27\\lib\\urllib2.pyc\u001b[0m in \u001b[0;36mhttp_response\u001b[1;34m(self, request, response)\u001b[0m\n\u001b[0;32m    521\u001b[0m         \u001b[1;32mif\u001b[0m \u001b[1;32mnot\u001b[0m \u001b[1;33m(\u001b[0m\u001b[1;36m200\u001b[0m \u001b[1;33m<=\u001b[0m \u001b[0mcode\u001b[0m \u001b[1;33m<\u001b[0m \u001b[1;36m300\u001b[0m\u001b[1;33m)\u001b[0m\u001b[1;33m:\u001b[0m\u001b[1;33m\u001b[0m\u001b[0m\n\u001b[0;32m    522\u001b[0m             response = self.parent.error(\n\u001b[1;32m--> 523\u001b[1;33m                 'http', request, response, code, msg, hdrs)\n\u001b[0m\u001b[0;32m    524\u001b[0m \u001b[1;33m\u001b[0m\u001b[0m\n\u001b[0;32m    525\u001b[0m         \u001b[1;32mreturn\u001b[0m \u001b[0mresponse\u001b[0m\u001b[1;33m\u001b[0m\u001b[0m\n",
      "\u001b[1;32mC:\\Python\\Python27\\lib\\urllib2.pyc\u001b[0m in \u001b[0;36merror\u001b[1;34m(self, proto, *args)\u001b[0m\n\u001b[0;32m    440\u001b[0m             \u001b[0mhttp_err\u001b[0m \u001b[1;33m=\u001b[0m \u001b[1;36m0\u001b[0m\u001b[1;33m\u001b[0m\u001b[0m\n\u001b[0;32m    441\u001b[0m         \u001b[0margs\u001b[0m \u001b[1;33m=\u001b[0m \u001b[1;33m(\u001b[0m\u001b[0mdict\u001b[0m\u001b[1;33m,\u001b[0m \u001b[0mproto\u001b[0m\u001b[1;33m,\u001b[0m \u001b[0mmeth_name\u001b[0m\u001b[1;33m)\u001b[0m \u001b[1;33m+\u001b[0m \u001b[0margs\u001b[0m\u001b[1;33m\u001b[0m\u001b[0m\n\u001b[1;32m--> 442\u001b[1;33m         \u001b[0mresult\u001b[0m \u001b[1;33m=\u001b[0m \u001b[0mself\u001b[0m\u001b[1;33m.\u001b[0m\u001b[0m_call_chain\u001b[0m\u001b[1;33m(\u001b[0m\u001b[1;33m*\u001b[0m\u001b[0margs\u001b[0m\u001b[1;33m)\u001b[0m\u001b[1;33m\u001b[0m\u001b[0m\n\u001b[0m\u001b[0;32m    443\u001b[0m         \u001b[1;32mif\u001b[0m \u001b[0mresult\u001b[0m\u001b[1;33m:\u001b[0m\u001b[1;33m\u001b[0m\u001b[0m\n\u001b[0;32m    444\u001b[0m             \u001b[1;32mreturn\u001b[0m \u001b[0mresult\u001b[0m\u001b[1;33m\u001b[0m\u001b[0m\n",
      "\u001b[1;32mC:\\Python\\Python27\\lib\\urllib2.pyc\u001b[0m in \u001b[0;36m_call_chain\u001b[1;34m(self, chain, kind, meth_name, *args)\u001b[0m\n\u001b[0;32m    380\u001b[0m             \u001b[0mfunc\u001b[0m \u001b[1;33m=\u001b[0m \u001b[0mgetattr\u001b[0m\u001b[1;33m(\u001b[0m\u001b[0mhandler\u001b[0m\u001b[1;33m,\u001b[0m \u001b[0mmeth_name\u001b[0m\u001b[1;33m)\u001b[0m\u001b[1;33m\u001b[0m\u001b[0m\n\u001b[0;32m    381\u001b[0m \u001b[1;33m\u001b[0m\u001b[0m\n\u001b[1;32m--> 382\u001b[1;33m             \u001b[0mresult\u001b[0m \u001b[1;33m=\u001b[0m \u001b[0mfunc\u001b[0m\u001b[1;33m(\u001b[0m\u001b[1;33m*\u001b[0m\u001b[0margs\u001b[0m\u001b[1;33m)\u001b[0m\u001b[1;33m\u001b[0m\u001b[0m\n\u001b[0m\u001b[0;32m    383\u001b[0m             \u001b[1;32mif\u001b[0m \u001b[0mresult\u001b[0m \u001b[1;32mis\u001b[0m \u001b[1;32mnot\u001b[0m \u001b[0mNone\u001b[0m\u001b[1;33m:\u001b[0m\u001b[1;33m\u001b[0m\u001b[0m\n\u001b[0;32m    384\u001b[0m                 \u001b[1;32mreturn\u001b[0m \u001b[0mresult\u001b[0m\u001b[1;33m\u001b[0m\u001b[0m\n",
      "\u001b[1;32mC:\\Python\\Python27\\lib\\urllib2.pyc\u001b[0m in \u001b[0;36mhttp_error_302\u001b[1;34m(self, req, fp, code, msg, headers)\u001b[0m\n\u001b[0;32m    627\u001b[0m         \u001b[0mfp\u001b[0m\u001b[1;33m.\u001b[0m\u001b[0mclose\u001b[0m\u001b[1;33m(\u001b[0m\u001b[1;33m)\u001b[0m\u001b[1;33m\u001b[0m\u001b[0m\n\u001b[0;32m    628\u001b[0m \u001b[1;33m\u001b[0m\u001b[0m\n\u001b[1;32m--> 629\u001b[1;33m         \u001b[1;32mreturn\u001b[0m \u001b[0mself\u001b[0m\u001b[1;33m.\u001b[0m\u001b[0mparent\u001b[0m\u001b[1;33m.\u001b[0m\u001b[0mopen\u001b[0m\u001b[1;33m(\u001b[0m\u001b[0mnew\u001b[0m\u001b[1;33m,\u001b[0m \u001b[0mtimeout\u001b[0m\u001b[1;33m=\u001b[0m\u001b[0mreq\u001b[0m\u001b[1;33m.\u001b[0m\u001b[0mtimeout\u001b[0m\u001b[1;33m)\u001b[0m\u001b[1;33m\u001b[0m\u001b[0m\n\u001b[0m\u001b[0;32m    630\u001b[0m \u001b[1;33m\u001b[0m\u001b[0m\n\u001b[0;32m    631\u001b[0m     \u001b[0mhttp_error_301\u001b[0m \u001b[1;33m=\u001b[0m \u001b[0mhttp_error_303\u001b[0m \u001b[1;33m=\u001b[0m \u001b[0mhttp_error_307\u001b[0m \u001b[1;33m=\u001b[0m \u001b[0mhttp_error_302\u001b[0m\u001b[1;33m\u001b[0m\u001b[0m\n",
      "\u001b[1;32mC:\\Python\\Python27\\lib\\urllib2.pyc\u001b[0m in \u001b[0;36mopen\u001b[1;34m(self, fullurl, data, timeout)\u001b[0m\n\u001b[0;32m    408\u001b[0m         \u001b[1;32mfor\u001b[0m \u001b[0mprocessor\u001b[0m \u001b[1;32min\u001b[0m \u001b[0mself\u001b[0m\u001b[1;33m.\u001b[0m\u001b[0mprocess_response\u001b[0m\u001b[1;33m.\u001b[0m\u001b[0mget\u001b[0m\u001b[1;33m(\u001b[0m\u001b[0mprotocol\u001b[0m\u001b[1;33m,\u001b[0m \u001b[1;33m[\u001b[0m\u001b[1;33m]\u001b[0m\u001b[1;33m)\u001b[0m\u001b[1;33m:\u001b[0m\u001b[1;33m\u001b[0m\u001b[0m\n\u001b[0;32m    409\u001b[0m             \u001b[0mmeth\u001b[0m \u001b[1;33m=\u001b[0m \u001b[0mgetattr\u001b[0m\u001b[1;33m(\u001b[0m\u001b[0mprocessor\u001b[0m\u001b[1;33m,\u001b[0m \u001b[0mmeth_name\u001b[0m\u001b[1;33m)\u001b[0m\u001b[1;33m\u001b[0m\u001b[0m\n\u001b[1;32m--> 410\u001b[1;33m             \u001b[0mresponse\u001b[0m \u001b[1;33m=\u001b[0m \u001b[0mmeth\u001b[0m\u001b[1;33m(\u001b[0m\u001b[0mreq\u001b[0m\u001b[1;33m,\u001b[0m \u001b[0mresponse\u001b[0m\u001b[1;33m)\u001b[0m\u001b[1;33m\u001b[0m\u001b[0m\n\u001b[0m\u001b[0;32m    411\u001b[0m \u001b[1;33m\u001b[0m\u001b[0m\n\u001b[0;32m    412\u001b[0m         \u001b[1;32mreturn\u001b[0m \u001b[0mresponse\u001b[0m\u001b[1;33m\u001b[0m\u001b[0m\n",
      "\u001b[1;32mC:\\Python\\Python27\\lib\\urllib2.pyc\u001b[0m in \u001b[0;36mhttp_response\u001b[1;34m(self, request, response)\u001b[0m\n\u001b[0;32m    521\u001b[0m         \u001b[1;32mif\u001b[0m \u001b[1;32mnot\u001b[0m \u001b[1;33m(\u001b[0m\u001b[1;36m200\u001b[0m \u001b[1;33m<=\u001b[0m \u001b[0mcode\u001b[0m \u001b[1;33m<\u001b[0m \u001b[1;36m300\u001b[0m\u001b[1;33m)\u001b[0m\u001b[1;33m:\u001b[0m\u001b[1;33m\u001b[0m\u001b[0m\n\u001b[0;32m    522\u001b[0m             response = self.parent.error(\n\u001b[1;32m--> 523\u001b[1;33m                 'http', request, response, code, msg, hdrs)\n\u001b[0m\u001b[0;32m    524\u001b[0m \u001b[1;33m\u001b[0m\u001b[0m\n\u001b[0;32m    525\u001b[0m         \u001b[1;32mreturn\u001b[0m \u001b[0mresponse\u001b[0m\u001b[1;33m\u001b[0m\u001b[0m\n",
      "\u001b[1;32mC:\\Python\\Python27\\lib\\urllib2.pyc\u001b[0m in \u001b[0;36merror\u001b[1;34m(self, proto, *args)\u001b[0m\n\u001b[0;32m    446\u001b[0m         \u001b[1;32mif\u001b[0m \u001b[0mhttp_err\u001b[0m\u001b[1;33m:\u001b[0m\u001b[1;33m\u001b[0m\u001b[0m\n\u001b[0;32m    447\u001b[0m             \u001b[0margs\u001b[0m \u001b[1;33m=\u001b[0m \u001b[1;33m(\u001b[0m\u001b[0mdict\u001b[0m\u001b[1;33m,\u001b[0m \u001b[1;34m'default'\u001b[0m\u001b[1;33m,\u001b[0m \u001b[1;34m'http_error_default'\u001b[0m\u001b[1;33m)\u001b[0m \u001b[1;33m+\u001b[0m \u001b[0morig_args\u001b[0m\u001b[1;33m\u001b[0m\u001b[0m\n\u001b[1;32m--> 448\u001b[1;33m             \u001b[1;32mreturn\u001b[0m \u001b[0mself\u001b[0m\u001b[1;33m.\u001b[0m\u001b[0m_call_chain\u001b[0m\u001b[1;33m(\u001b[0m\u001b[1;33m*\u001b[0m\u001b[0margs\u001b[0m\u001b[1;33m)\u001b[0m\u001b[1;33m\u001b[0m\u001b[0m\n\u001b[0m\u001b[0;32m    449\u001b[0m \u001b[1;33m\u001b[0m\u001b[0m\n\u001b[0;32m    450\u001b[0m \u001b[1;31m# XXX probably also want an abstract factory that knows when it makes\u001b[0m\u001b[1;33m\u001b[0m\u001b[1;33m\u001b[0m\u001b[0m\n",
      "\u001b[1;32mC:\\Python\\Python27\\lib\\urllib2.pyc\u001b[0m in \u001b[0;36m_call_chain\u001b[1;34m(self, chain, kind, meth_name, *args)\u001b[0m\n\u001b[0;32m    380\u001b[0m             \u001b[0mfunc\u001b[0m \u001b[1;33m=\u001b[0m \u001b[0mgetattr\u001b[0m\u001b[1;33m(\u001b[0m\u001b[0mhandler\u001b[0m\u001b[1;33m,\u001b[0m \u001b[0mmeth_name\u001b[0m\u001b[1;33m)\u001b[0m\u001b[1;33m\u001b[0m\u001b[0m\n\u001b[0;32m    381\u001b[0m \u001b[1;33m\u001b[0m\u001b[0m\n\u001b[1;32m--> 382\u001b[1;33m             \u001b[0mresult\u001b[0m \u001b[1;33m=\u001b[0m \u001b[0mfunc\u001b[0m\u001b[1;33m(\u001b[0m\u001b[1;33m*\u001b[0m\u001b[0margs\u001b[0m\u001b[1;33m)\u001b[0m\u001b[1;33m\u001b[0m\u001b[0m\n\u001b[0m\u001b[0;32m    383\u001b[0m             \u001b[1;32mif\u001b[0m \u001b[0mresult\u001b[0m \u001b[1;32mis\u001b[0m \u001b[1;32mnot\u001b[0m \u001b[0mNone\u001b[0m\u001b[1;33m:\u001b[0m\u001b[1;33m\u001b[0m\u001b[0m\n\u001b[0;32m    384\u001b[0m                 \u001b[1;32mreturn\u001b[0m \u001b[0mresult\u001b[0m\u001b[1;33m\u001b[0m\u001b[0m\n",
      "\u001b[1;32mC:\\Python\\Python27\\lib\\urllib2.pyc\u001b[0m in \u001b[0;36mhttp_error_default\u001b[1;34m(self, req, fp, code, msg, hdrs)\u001b[0m\n\u001b[0;32m    529\u001b[0m \u001b[1;32mclass\u001b[0m \u001b[0mHTTPDefaultErrorHandler\u001b[0m\u001b[1;33m(\u001b[0m\u001b[0mBaseHandler\u001b[0m\u001b[1;33m)\u001b[0m\u001b[1;33m:\u001b[0m\u001b[1;33m\u001b[0m\u001b[0m\n\u001b[0;32m    530\u001b[0m     \u001b[1;32mdef\u001b[0m \u001b[0mhttp_error_default\u001b[0m\u001b[1;33m(\u001b[0m\u001b[0mself\u001b[0m\u001b[1;33m,\u001b[0m \u001b[0mreq\u001b[0m\u001b[1;33m,\u001b[0m \u001b[0mfp\u001b[0m\u001b[1;33m,\u001b[0m \u001b[0mcode\u001b[0m\u001b[1;33m,\u001b[0m \u001b[0mmsg\u001b[0m\u001b[1;33m,\u001b[0m \u001b[0mhdrs\u001b[0m\u001b[1;33m)\u001b[0m\u001b[1;33m:\u001b[0m\u001b[1;33m\u001b[0m\u001b[0m\n\u001b[1;32m--> 531\u001b[1;33m         \u001b[1;32mraise\u001b[0m \u001b[0mHTTPError\u001b[0m\u001b[1;33m(\u001b[0m\u001b[0mreq\u001b[0m\u001b[1;33m.\u001b[0m\u001b[0mget_full_url\u001b[0m\u001b[1;33m(\u001b[0m\u001b[1;33m)\u001b[0m\u001b[1;33m,\u001b[0m \u001b[0mcode\u001b[0m\u001b[1;33m,\u001b[0m \u001b[0mmsg\u001b[0m\u001b[1;33m,\u001b[0m \u001b[0mhdrs\u001b[0m\u001b[1;33m,\u001b[0m \u001b[0mfp\u001b[0m\u001b[1;33m)\u001b[0m\u001b[1;33m\u001b[0m\u001b[0m\n\u001b[0m\u001b[0;32m    532\u001b[0m \u001b[1;33m\u001b[0m\u001b[0m\n\u001b[0;32m    533\u001b[0m \u001b[1;32mclass\u001b[0m \u001b[0mHTTPRedirectHandler\u001b[0m\u001b[1;33m(\u001b[0m\u001b[0mBaseHandler\u001b[0m\u001b[1;33m)\u001b[0m\u001b[1;33m:\u001b[0m\u001b[1;33m\u001b[0m\u001b[0m\n",
      "\u001b[1;31mHTTPError\u001b[0m: HTTP Error 404: Not Found"
     ]
    }
   ],
   "source": [
    "ll = getrandomratings(5)"
   ]
  },
  {
   "cell_type": "code",
   "execution_count": null,
   "metadata": {
    "collapsed": true
   },
   "outputs": [],
   "source": []
  }
 ],
 "metadata": {
  "celltoolbar": "Raw Cell Format",
  "kernelspec": {
   "display_name": "Python 2",
   "language": "python",
   "name": "python2"
  },
  "language_info": {
   "codemirror_mode": {
    "name": "ipython",
    "version": 2
   },
   "file_extension": ".py",
   "mimetype": "text/x-python",
   "name": "python",
   "nbconvert_exporter": "python",
   "pygments_lexer": "ipython2",
   "version": "2.7.8"
  }
 },
 "nbformat": 4,
 "nbformat_minor": 0
}
