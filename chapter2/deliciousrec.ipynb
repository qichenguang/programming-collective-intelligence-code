{
 "cells": [
  {
   "cell_type": "code",
   "execution_count": 10,
   "metadata": {
    "collapsed": false
   },
   "outputs": [
    {
     "ename": "ImportError",
     "evalue": "cannot import name get_userpost",
     "output_type": "error",
     "traceback": [
      "\u001b[1;31m---------------------------------------------------------------------------\u001b[0m",
      "\u001b[1;31mImportError\u001b[0m                               Traceback (most recent call last)",
      "\u001b[1;32m<ipython-input-10-d82da0f7e5b1>\u001b[0m in \u001b[0;36m<module>\u001b[1;34m()\u001b[0m\n\u001b[1;32m----> 1\u001b[1;33m \u001b[1;32mfrom\u001b[0m \u001b[0mpydelicious\u001b[0m \u001b[1;32mimport\u001b[0m \u001b[0mget_popular\u001b[0m\u001b[1;33m,\u001b[0m\u001b[0mget_userposts\u001b[0m\u001b[1;33m,\u001b[0m\u001b[0mget_urlposts\u001b[0m\u001b[1;33m,\u001b[0m\u001b[0mget_userpost\u001b[0m\u001b[1;33m\u001b[0m\u001b[0m\n\u001b[0m\u001b[0;32m      2\u001b[0m \u001b[1;32mimport\u001b[0m \u001b[0mtime\u001b[0m\u001b[1;33m\u001b[0m\u001b[0m\n",
      "\u001b[1;31mImportError\u001b[0m: cannot import name get_userpost"
     ]
    }
   ],
   "source": [
    "from pydelicious import get_popular,get_userposts,get_urlposts,get_userpost\n",
    "import time"
   ]
  },
  {
   "cell_type": "code",
   "execution_count": 3,
   "metadata": {
    "collapsed": false
   },
   "outputs": [
    {
     "data": {
      "text/plain": [
       "[{'count': '',\n",
       "  'description': u'Sponsored: Furniture You Can Afford',\n",
       "  'dt': '',\n",
       "  'extended': u'FurnitureYouCanAfford.com has low prices, free shipping(in the continental U.S.), and a large selection of awesome furniture.',\n",
       "  'hash': '',\n",
       "  'href': u'http://furnitureyoucanafford.com/',\n",
       "  'tags': '',\n",
       "  'user': u'delicious'},\n",
       " {'count': '',\n",
       "  'description': u'something went wrong',\n",
       "  'dt': '',\n",
       "  'extended': '',\n",
       "  'hash': '',\n",
       "  'href': '',\n",
       "  'tags': '',\n",
       "  'user': ''}]"
      ]
     },
     "execution_count": 3,
     "metadata": {},
     "output_type": "execute_result"
    }
   ],
   "source": [
    "get_popular(tag='programming')"
   ]
  },
  {
   "cell_type": "code",
   "execution_count": 11,
   "metadata": {
    "collapsed": false
   },
   "outputs": [
    {
     "data": {
      "text/plain": [
       "[{'count': '',\n",
       "  'description': u'Sponsored: Furniture You Can Afford',\n",
       "  'dt': '',\n",
       "  'extended': u'FurnitureYouCanAfford.com has low prices, free shipping(in the continental U.S.), and a large selection of awesome furniture.',\n",
       "  'hash': '',\n",
       "  'href': u'http://furnitureyoucanafford.com/',\n",
       "  'tags': '',\n",
       "  'user': u'delicious'},\n",
       " {'count': '',\n",
       "  'description': u'something went wrong',\n",
       "  'dt': '',\n",
       "  'extended': '',\n",
       "  'hash': '',\n",
       "  'href': '',\n",
       "  'tags': '',\n",
       "  'user': ''}]"
      ]
     },
     "execution_count": 11,
     "metadata": {},
     "output_type": "execute_result"
    }
   ],
   "source": [
    "get_popular(tag='python')"
   ]
  },
  {
   "cell_type": "code",
   "execution_count": 4,
   "metadata": {
    "collapsed": true
   },
   "outputs": [],
   "source": [
    "def initializeUserDict(tag,count=5):\n",
    "    user_dict={}\n",
    "    # get the top count' popular posts\n",
    "    for p1 in get_popular(tag=tag)[0:count]:\n",
    "        # find all users who posted this\n",
    "        for p2 in get_urlposts(p1['href']):\n",
    "            user=p2['user']\n",
    "            user_dict[user]={}\n",
    "    return user_dict"
   ]
  },
  {
   "cell_type": "code",
   "execution_count": 5,
   "metadata": {
    "collapsed": true
   },
   "outputs": [],
   "source": [
    "def fillItems(user_dict):\n",
    "    all_items={}\n",
    "    # Find links posted by all users\n",
    "    for user in user_dict:\n",
    "        for i in range(3):\n",
    "            try:\n",
    "                posts=get_userposts(user)\n",
    "                break\n",
    "            except:\n",
    "                print \"Failed user \"+user+\", retrying\"\n",
    "                time.sleep(4)\n",
    "        for post in posts:\n",
    "            url=post['href']\n",
    "            user_dict[user][url]=1.0\n",
    "            all_items[url]=1\n",
    "    # Fill in missing items with 0\n",
    "    for ratings in user_dict.values():\n",
    "        for item in all_items:\n",
    "            if item not in ratings:\n",
    "                ratings[item]=0.0"
   ]
  },
  {
   "cell_type": "code",
   "execution_count": 7,
   "metadata": {
    "collapsed": false
   },
   "outputs": [
    {
     "ename": "PyDeliciousException",
     "evalue": "HTTP Error 404: Not Found",
     "output_type": "error",
     "traceback": [
      "\u001b[1;31m---------------------------------------------------------------------------\u001b[0m",
      "\u001b[1;31mPyDeliciousException\u001b[0m                      Traceback (most recent call last)",
      "\u001b[1;32m<ipython-input-7-4136acec21a6>\u001b[0m in \u001b[0;36m<module>\u001b[1;34m()\u001b[0m\n\u001b[1;32m----> 1\u001b[1;33m \u001b[0mdelusers\u001b[0m\u001b[1;33m=\u001b[0m\u001b[0minitializeUserDict\u001b[0m\u001b[1;33m(\u001b[0m\u001b[1;34m'python'\u001b[0m\u001b[1;33m)\u001b[0m\u001b[1;33m\u001b[0m\u001b[0m\n\u001b[0m",
      "\u001b[1;32m<ipython-input-4-a683ff0fe811>\u001b[0m in \u001b[0;36minitializeUserDict\u001b[1;34m(tag, count)\u001b[0m\n\u001b[0;32m      4\u001b[0m     \u001b[1;32mfor\u001b[0m \u001b[0mp1\u001b[0m \u001b[1;32min\u001b[0m \u001b[0mget_popular\u001b[0m\u001b[1;33m(\u001b[0m\u001b[0mtag\u001b[0m\u001b[1;33m=\u001b[0m\u001b[0mtag\u001b[0m\u001b[1;33m)\u001b[0m\u001b[1;33m[\u001b[0m\u001b[1;36m0\u001b[0m\u001b[1;33m:\u001b[0m\u001b[0mcount\u001b[0m\u001b[1;33m]\u001b[0m\u001b[1;33m:\u001b[0m\u001b[1;33m\u001b[0m\u001b[0m\n\u001b[0;32m      5\u001b[0m         \u001b[1;31m# find all users who posted this\u001b[0m\u001b[1;33m\u001b[0m\u001b[1;33m\u001b[0m\u001b[0m\n\u001b[1;32m----> 6\u001b[1;33m         \u001b[1;32mfor\u001b[0m \u001b[0mp2\u001b[0m \u001b[1;32min\u001b[0m \u001b[0mget_urlposts\u001b[0m\u001b[1;33m(\u001b[0m\u001b[0mp1\u001b[0m\u001b[1;33m[\u001b[0m\u001b[1;34m'href'\u001b[0m\u001b[1;33m]\u001b[0m\u001b[1;33m)\u001b[0m\u001b[1;33m:\u001b[0m\u001b[1;33m\u001b[0m\u001b[0m\n\u001b[0m\u001b[0;32m      7\u001b[0m             \u001b[0muser\u001b[0m\u001b[1;33m=\u001b[0m\u001b[0mp2\u001b[0m\u001b[1;33m[\u001b[0m\u001b[1;34m'user'\u001b[0m\u001b[1;33m]\u001b[0m\u001b[1;33m\u001b[0m\u001b[0m\n\u001b[0;32m      8\u001b[0m             \u001b[0muser_dict\u001b[0m\u001b[1;33m[\u001b[0m\u001b[0muser\u001b[0m\u001b[1;33m]\u001b[0m\u001b[1;33m=\u001b[0m\u001b[1;33m{\u001b[0m\u001b[1;33m}\u001b[0m\u001b[1;33m\u001b[0m\u001b[0m\n",
      "\u001b[1;32mE:\\project\\pychram\\programming-collective-intelligence-code\\chapter2\\pydelicious.pyc\u001b[0m in \u001b[0;36mget_urlposts\u001b[1;34m(url)\u001b[0m\n\u001b[0;32m    801\u001b[0m \u001b[1;33m\u001b[0m\u001b[0m\n\u001b[0;32m    802\u001b[0m \u001b[1;32mdef\u001b[0m \u001b[0mget_urlposts\u001b[0m\u001b[1;33m(\u001b[0m\u001b[0murl\u001b[0m\u001b[1;33m)\u001b[0m\u001b[1;33m:\u001b[0m\u001b[1;33m\u001b[0m\u001b[0m\n\u001b[1;32m--> 803\u001b[1;33m     \u001b[1;32mreturn\u001b[0m \u001b[0mgetrss\u001b[0m\u001b[1;33m(\u001b[0m\u001b[0murl\u001b[0m \u001b[1;33m=\u001b[0m \u001b[0murl\u001b[0m\u001b[1;33m)\u001b[0m\u001b[1;33m\u001b[0m\u001b[0m\n\u001b[0m\u001b[0;32m    804\u001b[0m \u001b[1;33m\u001b[0m\u001b[0m\n\u001b[0;32m    805\u001b[0m \u001b[1;32mdef\u001b[0m \u001b[0mget_popular\u001b[0m\u001b[1;33m(\u001b[0m\u001b[0mtag\u001b[0m \u001b[1;33m=\u001b[0m \u001b[1;34m\"\"\u001b[0m\u001b[1;33m)\u001b[0m\u001b[1;33m:\u001b[0m\u001b[1;33m\u001b[0m\u001b[0m\n",
      "\u001b[1;32mE:\\project\\pychram\\programming-collective-intelligence-code\\chapter2\\pydelicious.pyc\u001b[0m in \u001b[0;36mgetrss\u001b[1;34m(tag, popular, url, user)\u001b[0m\n\u001b[0;32m    792\u001b[0m     \u001b[0murl\u001b[0m \u001b[1;33m(\u001b[0m\u001b[0mopt\u001b[0m\u001b[1;33m)\u001b[0m \u001b[0mget\u001b[0m \u001b[0mthe\u001b[0m \u001b[0mposts\u001b[0m \u001b[0mby\u001b[0m \u001b[0murl\u001b[0m\u001b[1;33m\u001b[0m\u001b[0m\n\u001b[0;32m    793\u001b[0m \t\"\"\"\n\u001b[1;32m--> 794\u001b[1;33m     \u001b[1;32mreturn\u001b[0m \u001b[0mdlcs_rss_request\u001b[0m\u001b[1;33m(\u001b[0m\u001b[0mtag\u001b[0m\u001b[1;33m=\u001b[0m\u001b[0mtag\u001b[0m\u001b[1;33m,\u001b[0m \u001b[0mpopular\u001b[0m\u001b[1;33m=\u001b[0m\u001b[0mpopular\u001b[0m\u001b[1;33m,\u001b[0m \u001b[0muser\u001b[0m\u001b[1;33m=\u001b[0m\u001b[0muser\u001b[0m\u001b[1;33m,\u001b[0m \u001b[0murl\u001b[0m\u001b[1;33m=\u001b[0m\u001b[0murl\u001b[0m\u001b[1;33m)\u001b[0m\u001b[1;33m\u001b[0m\u001b[0m\n\u001b[0m\u001b[0;32m    795\u001b[0m \u001b[1;33m\u001b[0m\u001b[0m\n\u001b[0;32m    796\u001b[0m \u001b[1;32mdef\u001b[0m \u001b[0mget_userposts\u001b[0m\u001b[1;33m(\u001b[0m\u001b[0muser\u001b[0m\u001b[1;33m)\u001b[0m\u001b[1;33m:\u001b[0m\u001b[1;33m\u001b[0m\u001b[0m\n",
      "\u001b[1;32mE:\\project\\pychram\\programming-collective-intelligence-code\\chapter2\\pydelicious.pyc\u001b[0m in \u001b[0;36mdlcs_rss_request\u001b[1;34m(tag, popular, user, url)\u001b[0m\n\u001b[0;32m    432\u001b[0m     \u001b[1;32melif\u001b[0m \u001b[0mpopular\u001b[0m \u001b[1;33m==\u001b[0m \u001b[1;36m1\u001b[0m \u001b[1;32mand\u001b[0m \u001b[0mtag\u001b[0m \u001b[1;33m!=\u001b[0m \u001b[1;34m''\u001b[0m\u001b[1;33m:\u001b[0m\u001b[1;33m\u001b[0m\u001b[0m\n\u001b[0;32m    433\u001b[0m         \u001b[0murl\u001b[0m \u001b[1;33m=\u001b[0m \u001b[0mDLCS_RSS\u001b[0m \u001b[1;33m+\u001b[0m \u001b[1;34m'''popular/%s'''\u001b[0m\u001b[1;33m%\u001b[0m\u001b[0mtag\u001b[0m\u001b[1;33m\u001b[0m\u001b[0m\n\u001b[1;32m--> 434\u001b[1;33m     \u001b[0mrss\u001b[0m \u001b[1;33m=\u001b[0m \u001b[0mhttp_request\u001b[0m\u001b[1;33m(\u001b[0m\u001b[0murl\u001b[0m\u001b[1;33m)\u001b[0m\u001b[1;33m.\u001b[0m\u001b[0mread\u001b[0m\u001b[1;33m(\u001b[0m\u001b[1;33m)\u001b[0m\u001b[1;33m\u001b[0m\u001b[0m\n\u001b[0m\u001b[0;32m    435\u001b[0m     \u001b[0mrss\u001b[0m \u001b[1;33m=\u001b[0m \u001b[0mfeedparser\u001b[0m\u001b[1;33m.\u001b[0m\u001b[0mparse\u001b[0m\u001b[1;33m(\u001b[0m\u001b[0mrss\u001b[0m\u001b[1;33m)\u001b[0m\u001b[1;33m\u001b[0m\u001b[0m\n\u001b[0;32m    436\u001b[0m     \u001b[1;31m# print rss\u001b[0m\u001b[1;33m\u001b[0m\u001b[1;33m\u001b[0m\u001b[0m\n",
      "\u001b[1;32mE:\\project\\pychram\\programming-collective-intelligence-code\\chapter2\\pydelicious.pyc\u001b[0m in \u001b[0;36mhttp_request\u001b[1;34m(url, user_agent, retry)\u001b[0m\n\u001b[0;32m    279\u001b[0m \u001b[1;33m\u001b[0m\u001b[0m\n\u001b[0;32m    280\u001b[0m         \u001b[1;32mexcept\u001b[0m \u001b[0murllib2\u001b[0m\u001b[1;33m.\u001b[0m\u001b[0mHTTPError\u001b[0m\u001b[1;33m,\u001b[0m \u001b[0me\u001b[0m\u001b[1;33m:\u001b[0m \u001b[1;31m# protocol errors,\u001b[0m\u001b[1;33m\u001b[0m\u001b[0m\n\u001b[1;32m--> 281\u001b[1;33m             \u001b[1;32mraise\u001b[0m \u001b[0mPyDeliciousException\u001b[0m\u001b[1;33m,\u001b[0m \u001b[1;34m\"%s\"\u001b[0m \u001b[1;33m%\u001b[0m \u001b[0me\u001b[0m\u001b[1;33m\u001b[0m\u001b[0m\n\u001b[0m\u001b[0;32m    282\u001b[0m \u001b[1;33m\u001b[0m\u001b[0m\n\u001b[0;32m    283\u001b[0m         \u001b[1;32mexcept\u001b[0m \u001b[0murllib2\u001b[0m\u001b[1;33m.\u001b[0m\u001b[0mURLError\u001b[0m\u001b[1;33m,\u001b[0m \u001b[0me\u001b[0m\u001b[1;33m:\u001b[0m\u001b[1;33m\u001b[0m\u001b[0m\n",
      "\u001b[1;31mPyDeliciousException\u001b[0m: HTTP Error 404: Not Found"
     ]
    }
   ],
   "source": [
    "delusers=initializeUserDict('python')\n",
    "delusers"
   ]
  },
  {
   "cell_type": "code",
   "execution_count": null,
   "metadata": {
    "collapsed": true
   },
   "outputs": [],
   "source": [
    "fillItems(delusers)"
   ]
  },
  {
   "cell_type": "code",
   "execution_count": null,
   "metadata": {
    "collapsed": true
   },
   "outputs": [],
   "source": [
    "import random\n",
    "user=delusers.keys() [random.randint(0,1en(ddelusers)-1) ]\n",
    "user"
   ]
  },
  {
   "cell_type": "code",
   "execution_count": 13,
   "metadata": {
    "collapsed": false
   },
   "outputs": [
    {
     "ename": "NameError",
     "evalue": "name 'delusers' is not defined",
     "output_type": "error",
     "traceback": [
      "\u001b[1;31m---------------------------------------------------------------------------\u001b[0m",
      "\u001b[1;31mNameError\u001b[0m                                 Traceback (most recent call last)",
      "\u001b[1;32m<ipython-input-13-4e02bc326e2c>\u001b[0m in \u001b[0;36m<module>\u001b[1;34m()\u001b[0m\n\u001b[0;32m      1\u001b[0m \u001b[1;32mimport\u001b[0m \u001b[0mrecommendations\u001b[0m\u001b[1;33m\u001b[0m\u001b[0m\n\u001b[1;32m----> 2\u001b[1;33m \u001b[0mrecommendations\u001b[0m\u001b[1;33m.\u001b[0m\u001b[0mtopMatches\u001b[0m\u001b[1;33m(\u001b[0m\u001b[0mdelusers\u001b[0m\u001b[1;33m,\u001b[0m\u001b[0muser\u001b[0m\u001b[1;33m)\u001b[0m\u001b[1;33m\u001b[0m\u001b[0m\n\u001b[0m",
      "\u001b[1;31mNameError\u001b[0m: name 'delusers' is not defined"
     ]
    }
   ],
   "source": [
    "import recommendations\n",
    "recommendations.topMatches(delusers,user)"
   ]
  },
  {
   "cell_type": "code",
   "execution_count": null,
   "metadata": {
    "collapsed": true
   },
   "outputs": [],
   "source": [
    "recommendations.getRecommendations(delusers,user)[0,10]"
   ]
  },
  {
   "cell_type": "code",
   "execution_count": null,
   "metadata": {
    "collapsed": true
   },
   "outputs": [],
   "source": [
    "url = recommendations.getRecommendations(delusers,user)[0][1]"
   ]
  },
  {
   "cell_type": "code",
   "execution_count": null,
   "metadata": {
    "collapsed": true
   },
   "outputs": [],
   "source": [
    "recommendations.topMatches(recommendations.transformPrefs(delusers),ur1)"
   ]
  },
  {
   "cell_type": "code",
   "execution_count": null,
   "metadata": {
    "collapsed": true
   },
   "outputs": [],
   "source": []
  }
 ],
 "metadata": {
  "celltoolbar": "Raw Cell Format",
  "kernelspec": {
   "display_name": "Python 2",
   "language": "python",
   "name": "python2"
  },
  "language_info": {
   "codemirror_mode": {
    "name": "ipython",
    "version": 2
   },
   "file_extension": ".py",
   "mimetype": "text/x-python",
   "name": "python",
   "nbconvert_exporter": "python",
   "pygments_lexer": "ipython2",
   "version": "2.7.8"
  }
 },
 "nbformat": 4,
 "nbformat_minor": 0
}
