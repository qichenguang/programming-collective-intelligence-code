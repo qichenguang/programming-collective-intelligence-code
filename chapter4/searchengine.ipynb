{
 "cells": [
  {
   "cell_type": "code",
   "execution_count": 1,
   "metadata": {
    "collapsed": true
   },
   "outputs": [],
   "source": [
    "import urllib2\n",
    "from bs4 import BeautifulSoup\n",
    "from urlparse import urljoin\n",
    "from pysqlite2 import dbapi2 as sqlite\n",
    "import re"
   ]
  },
  {
   "cell_type": "code",
   "execution_count": 2,
   "metadata": {
    "collapsed": true
   },
   "outputs": [],
   "source": [
    "# Create a list of words to ignore\n",
    "ignorewords={'the':1,'of':1,'to':1,'and':1,'a':1,'in':1,'is':1,'it':1}"
   ]
  },
  {
   "cell_type": "code",
   "execution_count": 3,
   "metadata": {
    "collapsed": true
   },
   "outputs": [],
   "source": [
    "class crawler:\n",
    "    # Initialize the crawler with the name of database\n",
    "    def __init__(self,dbname):\n",
    "        self.con=sqlite.connect(dbname)\n",
    "\n",
    "    def __del__(self):\n",
    "        self.con.close()\n",
    "\n",
    "    def dbcommit(self):\n",
    "        self.con.commit()\n",
    "\n",
    "    # Auxilliary function for getting an entry id and adding \n",
    "    # it if it's not present\n",
    "    def getentryid(self,table,field,value,createnew=True):\n",
    "        cur = self.con.execute(\"select rowid from %s where %s='%s'\" % (table,field,value))\n",
    "        res = cur.fetchone()\n",
    "        if res == None:\n",
    "            cur = self.con.execute(\"insert into %s (%s) values ('%s')\" % (table,field,value))\n",
    "            return cur.lastrowid\n",
    "        else:\n",
    "            return res[0] \n",
    "\n",
    "    # Index an individual page\n",
    "    def addtoindex(self,url,soup):\n",
    "        if self.isindexed(url):\n",
    "            print 'already had indexing :' + url\n",
    "            return\n",
    "        print 'Indexing ' + url\n",
    "  \n",
    "        # Get the individual words\n",
    "        try:\n",
    "            text = self.gettextonly(soup)\n",
    "            #print 'text:',text\n",
    "        except:\n",
    "            print \"gettextonly() error\" \n",
    "        #\n",
    "        try:\n",
    "            words = self.separatewords(text)\n",
    "            #print 'words:',words\n",
    "        except Exception,ex:\n",
    "            print \"separatewords() error\",ex\n",
    "        #    \n",
    "        print 'len(text):',len(text)\n",
    "        print 'len(words):',len(words)        \n",
    "        # Get the URL id\n",
    "        urlid = self.getentryid('urllist','url',url)\n",
    "    \n",
    "        # Link each word to this url\n",
    "        for i in range(len(words)):\n",
    "            word = words[i]\n",
    "            if word in ignorewords: continue\n",
    "            wordid = self.getentryid('wordlist','word',word)\n",
    "            self.con.execute(\"insert into wordlocation(urlid,wordid,location) values (%d,%d,%d)\" % (urlid,wordid,i))\n",
    "\n",
    "\n",
    "  \n",
    "    # Extract the text from an HTML page (no tags)\n",
    "    def gettextonly(self,soup):\n",
    "        v = soup.string\n",
    "        #\n",
    "        if v == None:   \n",
    "            c = soup.contents\n",
    "            #print 'soup.contents:',c\n",
    "            resulttext = ''\n",
    "            for t in c:\n",
    "                subtext = self.gettextonly(t)\n",
    "                resulttext += subtext + '\\n'\n",
    "            return resulttext\n",
    "        else:\n",
    "            #print 'soup.string:',v\n",
    "            return v.strip()\n",
    "        \n",
    "    # Seperate the words by any non-whitespace character\n",
    "    def separatewords(self,text):\n",
    "        splitter=re.compile('\\\\W*')\n",
    "        return [s.lower() for s in splitter.split(text) if s!='']\n",
    "\n",
    "    \n",
    "    # Return true if this url is already indexed\n",
    "    def isindexed(self,url):\n",
    "        u = self.con.execute(\"select rowid from urllist where url='%s'\" % url).fetchone()\n",
    "        if u != None:\n",
    "            #检查它是否已经被检索过了\n",
    "            v = self.con.execute('select * from wordlocation where urlid=%d ' % u[0]).fetchone()\n",
    "            if v != None: return True\n",
    "        return False\n",
    "  \n",
    "    # Add a link between two pages\n",
    "    def addlinkref(self,urlFrom,urlTo,linkText):\n",
    "        words = self.separatewords(linkText)\n",
    "        fromid = self.getentryid('urllist','url',urlFrom)\n",
    "        toid = self.getentryid('urllist','url',urlTo)\n",
    "        if fromid == toid: return\n",
    "        cur = self.con.execute(\"insert into link(fromid,toid) values (%d,%d)\" % (fromid,toid))\n",
    "        linkid = cur.lastrowid\n",
    "        for word in words:\n",
    "            if word in ignorewords: continue\n",
    "            wordid = self.getentryid('wordlist','word',word)\n",
    "            self.con.execute(\"insert into linkwords(linkid,wordid) values (%d,%d)\" % (linkid,wordid))\n",
    "\n",
    "    # Starting with a list of pages, do a breadth\n",
    "    # first search to the given depth, indexing pages\n",
    "    # as we go\n",
    "    def crawl(self,pages,depth=2):\n",
    "        for i in range(depth):\n",
    "            newpages = {}\n",
    "            for page in pages:\n",
    "                try:\n",
    "                    c = urllib2.urlopen(page)\n",
    "                except Exception,ex:\n",
    "                    print \"Could not open %s\" % page,ex\n",
    "                    continue\n",
    "                try:\n",
    "                    soup = BeautifulSoup(c.read(),\"lxml\")\n",
    "                    self.addtoindex(page,soup)\n",
    "  \n",
    "                    links = soup('a')\n",
    "                    for link in links:\n",
    "                        if ('href' in dict(link.attrs)):\n",
    "                            #print 'href: ', link['href']\n",
    "                            url = urljoin(page,link['href'])\n",
    "                            #print 'url: ', url\n",
    "                            if url.find(\"'\") != -1 : \n",
    "                                print 'not find: ',url\n",
    "                                continue\n",
    "                            url = url.split('#')[0]  # remove location portion\n",
    "                            if url[0:4] == 'http' and not self.isindexed(url):\n",
    "                                newpages[url] = 1\n",
    "                            linkText = self.gettextonly(link)\n",
    "                            self.addlinkref(page,url,linkText)\n",
    "                    \n",
    "                    self.dbcommit()\n",
    "                except Exception,ex:\n",
    "                    print \"Could not parse page %s\" % page,ex\n",
    "            print 'newpages len: ', len(newpages)\n",
    "            pages = newpages\n",
    "    \n",
    "        \n",
    "    # Create the database tables\n",
    "    def createindextables(self):\n",
    "        self.con.execute('create table urllist(url)')\n",
    "        self.con.execute('create table wordlist(word)')\n",
    "        self.con.execute('create table wordlocation(urlid,wordid,location)')\n",
    "        self.con.execute('create table link(fromid integer,toid integer)')\n",
    "        self.con.execute('create table linkwords(wordid,linkid)')\n",
    "        self.con.execute('create index wordidx on wordlist(word)')\n",
    "        self.con.execute('create index urlidx on urllist(url)')\n",
    "        self.con.execute('create index wordurlidx on wordlocation(wordid)')\n",
    "        self.con.execute('create index urltoidx on link(toid)')\n",
    "        self.con.execute('create index urlfromidx on link(fromid)')\n",
    "        self.dbcommit()\n",
    "\n",
    "    def calculatepagerank(self,iterations=20):\n",
    "        # clear out the current page rank tables\n",
    "        self.con.execute('drop table if exists pagerank')\n",
    "        self.con.execute('create table pagerank(urlid primary key,score)')\n",
    "    \n",
    "        # initialize every url with a page rank of 1\n",
    "        for (urlid,) in self.con.execute('select rowid from urllist'):\n",
    "            self.con.execute('insert into pagerank(urlid,score) values (%d,1.0)' % urlid)\n",
    "        self.dbcommit()\n",
    "    \n",
    "        for i in range(iterations):\n",
    "            print \"Iteration %d\" % (i)\n",
    "            for (urlid,) in self.con.execute('select rowid from urllist'):\n",
    "                pr = 0.15\n",
    "\n",
    "                # Loop through all the pages that link to this one\n",
    "                for (linker,) in self.con.execute('select distinct fromid from link where toid=%d' % urlid):\n",
    "                    # Get the page rank of the linker\n",
    "                    linkingpr = self.con.execute('select score from pagerank where urlid=%d' % linker).fetchone()[0]\n",
    "\n",
    "                    # Get the total number of links from the linker\n",
    "                    linkingcount = self.con.execute('select count(*) from link where fromid=%d' % linker).fetchone()[0]\n",
    "                    pr += 0.85 * (linkingpr/linkingcount)\n",
    "                \n",
    "                #\n",
    "                self.con.execute('update pagerank set score=%f where urlid=%d' % (pr,urlid))\n",
    "            #\n",
    "            self.dbcommit()        "
   ]
  },
  {
   "cell_type": "code",
   "execution_count": 4,
   "metadata": {
    "collapsed": false,
    "scrolled": true
   },
   "outputs": [],
   "source": [
    "pagelist = [ 'http://en.people.cn/']\n",
    "crawlerObj = crawler('searchindex.db')"
   ]
  },
  {
   "cell_type": "code",
   "execution_count": null,
   "metadata": {
    "collapsed": false
   },
   "outputs": [],
   "source": [
    "crawlerObj.createindextables()"
   ]
  },
  {
   "cell_type": "code",
   "execution_count": null,
   "metadata": {
    "collapsed": false
   },
   "outputs": [],
   "source": [
    "crawlerObj.crawl(pagelist,depth=2)"
   ]
  },
  {
   "cell_type": "code",
   "execution_count": 6,
   "metadata": {
    "collapsed": false
   },
   "outputs": [
    {
     "name": "stdout",
     "output_type": "stream",
     "text": [
      "Iteration 0\n",
      "Iteration 1\n",
      "Iteration 2\n",
      "Iteration 3\n",
      "Iteration 4\n",
      "Iteration 5\n",
      "Iteration 6\n",
      "Iteration 7\n",
      "Iteration 8\n",
      "Iteration 9\n",
      "Iteration 10\n",
      "Iteration 11\n",
      "Iteration 12\n",
      "Iteration 13\n",
      "Iteration 14\n",
      "Iteration 15\n",
      "Iteration 16\n",
      "Iteration 17\n",
      "Iteration 18\n",
      "Iteration 19\n"
     ]
    }
   ],
   "source": [
    "crawlerObj.calculatepagerank()"
   ]
  },
  {
   "cell_type": "code",
   "execution_count": 7,
   "metadata": {
    "collapsed": false
   },
   "outputs": [
    {
     "name": "stdout",
     "output_type": "stream",
     "text": [
      "(8, 0.293662)\n",
      "(128, 0.293516)\n",
      "(115, 0.290625)\n"
     ]
    }
   ],
   "source": [
    "cur = crawlerObj.con.execute('select * from pagerank order by score desc')\n",
    "for i in range(3): print cur.next()"
   ]
  },
  {
   "cell_type": "code",
   "execution_count": null,
   "metadata": {
    "collapsed": true
   },
   "outputs": [],
   "source": []
  },
  {
   "cell_type": "code",
   "execution_count": 5,
   "metadata": {
    "collapsed": false
   },
   "outputs": [
    {
     "data": {
      "text/plain": [
       "[(1,), (17,), (35,)]"
      ]
     },
     "execution_count": 5,
     "metadata": {},
     "output_type": "execute_result"
    }
   ],
   "source": [
    "[row for row in crawlerObj.con.execute('select urlid from wordlocation where wordid=200') ]"
   ]
  },
  {
   "cell_type": "code",
   "execution_count": 16,
   "metadata": {
    "collapsed": true
   },
   "outputs": [],
   "source": [
    "class searcher:\n",
    "    def __init__(self,dbname):\n",
    "        self.con=sqlite.connect(dbname)\n",
    "\n",
    "    def __del__(self):\n",
    "        self.con.close()\n",
    "        \n",
    "    def getmatchrows(self,q):\n",
    "        # Strings to build the query\n",
    "        fieldlist='w0.urlid'\n",
    "        tablelist=''  \n",
    "        clauselist=''\n",
    "        wordids=[]\n",
    "\n",
    "        # Split the words by spaces\n",
    "        words = q.split(' ')  \n",
    "        tablenumber = 0\n",
    "\n",
    "        for word in words:\n",
    "            # Get the word ID\n",
    "            wordrow = self.con.execute(\"select rowid from wordlist where word='%s'\" % word).fetchone()\n",
    "            if wordrow != None:\n",
    "                wordid = wordrow[0]\n",
    "                wordids.append(wordid)\n",
    "                if tablenumber > 0:\n",
    "                    tablelist += ','\n",
    "                    clauselist += ' and '\n",
    "                    clauselist += 'w%d.urlid = w%d.urlid and ' % (tablenumber - 1,tablenumber)\n",
    "                fieldlist += ',w%d.location' % tablenumber\n",
    "                tablelist += 'wordlocation w%d' % tablenumber      \n",
    "                clauselist += 'w%d.wordid = %d' % (tablenumber,wordid)\n",
    "                tablenumber+=1\n",
    "\n",
    "        # Create the query from the separate parts\n",
    "        fullquery = 'select %s from %s where %s' % (fieldlist,tablelist,clauselist)\n",
    "        print fullquery\n",
    "        cur = self.con.execute(fullquery)\n",
    "        rows=[row for row in cur]\n",
    "\n",
    "        return rows,wordids   \n",
    "    \n",
    "    def getscoredlist(self,rows,wordids):\n",
    "        totalscores = dict([(row[0],0) for row in rows])\n",
    "\n",
    "        # This is where we'll put our scoring functions\n",
    "        weights = [(1.0,self.frequencyscore(rows)),\n",
    "                   (1.0,self.locationscore(rows)),\n",
    "                   (1.0,self.distancescore(rows)),\n",
    "                   (1.0,self.inboundlinkscore(rows)),\n",
    "                   (1.0,self.pagerankscore(rows)),\n",
    "                   (1.0,self.linktextscore(rows,wordids)),\n",
    "                   (5.0,self.nnscore(rows,wordids))]\n",
    "        #\n",
    "        for (weight,scores) in weights:\n",
    "            for url in totalscores:\n",
    "                totalscores[url] += weight * scores[url]\n",
    "        return totalscores\n",
    "\n",
    "    def geturlname(self,id):\n",
    "        return self.con.execute(\"select url from urllist where rowid=%d\" % id).fetchone()[0]\n",
    "\n",
    "    def query(self,q):\n",
    "        rows,wordids = self.getmatchrows(q)\n",
    "        scores = self.getscoredlist(rows,wordids)\n",
    "        rankedscores=[(score,url) for (url,score) in scores.items()]\n",
    "        rankedscores.sort()\n",
    "        rankedscores.reverse()\n",
    "        for (score,urlid) in rankedscores[0:10]:\n",
    "            print '%f\\t%s' % (score,self.geturlname(urlid))\n",
    "        return wordids,[r[1] for r in rankedscores[0:10]]\n",
    "\n",
    "    def normalizescores(self,scores,smallIsBetter=0):\n",
    "        vsmall = 0.00001 # Avoid division by zero errors\n",
    "        if smallIsBetter:\n",
    "            minscore = min(scores.values())\n",
    "            return dict([(u,float(minscore)/max(vsmall,l)) for (u,l) in scores.items()])\n",
    "        else:\n",
    "            maxscore = max(scores.values())\n",
    "            if maxscore == 0: maxscore = vsmall\n",
    "            return dict([(u,float(c)/maxscore) for (u,c) in scores.items()])        \n",
    "        \n",
    "    def frequencyscore(self,rows):\n",
    "        counts = dict([(row[0],0) for row in rows])\n",
    "        for row in rows: counts[row[0]] += 1\n",
    "        return self.normalizescores(counts)  \n",
    "    \n",
    "    def locationscore(self,rows):\n",
    "        locations = dict([(row[0],1000000) for row in rows])\n",
    "        for row in rows:\n",
    "            loc = sum(row[1:])\n",
    "            if loc < locations[row[0]]: locations[row[0]] = loc\n",
    "    \n",
    "        return self.normalizescores(locations,smallIsBetter=1) \n",
    "    \n",
    "    def distancescore(self,rows):\n",
    "        # If there's only one word, everyone wins!\n",
    "        if len(rows[0]) <= 2: return dict([(row[0],1.0) for row in rows])\n",
    "\n",
    "        # Initialize the dictionary with large values\n",
    "        mindistance = dict([(row[0],1000000) for row in rows])\n",
    "\n",
    "        for row in rows:\n",
    "            dist = sum([abs(row[i]-row[i-1]) for i in range(2,len(row))])\n",
    "            if dist < mindistance[row[0]]: mindistance[row[0]] = dist\n",
    "                \n",
    "        return self.normalizescores(mindistance,smallIsBetter=1)    \n",
    "\n",
    "    def inboundlinkscore(self,rows):\n",
    "        uniqueurls = dict([(row[0],1) for row in rows])\n",
    "        inboundcount = dict([(u, self.con.execute('select count(*) from link where toid=%d' % u).fetchone()[0]) for u in uniqueurls])   \n",
    "        return self.normalizescores(inboundcount)\n",
    "    \n",
    "    def pagerankscore(self,rows):\n",
    "        pageranks=dict([(row[0],self.con.execute('select score from pagerank where urlid=%d' % row[0]).fetchone()[0]) for row in rows])\n",
    "        maxrank = max(pageranks.values())\n",
    "        normalizedscores = dict([(u,float(l)/maxrank) for (u,l) in pageranks.items()])\n",
    "        return normalizedscores    \n",
    "    \n",
    "    def linktextscore(self,rows,wordids):\n",
    "        vsmall = 0.00001 # Avoid division by zero errors\n",
    "        linkscores = dict([(row[0],0) for row in rows])\n",
    "        for wordid in wordids:\n",
    "            cur = self.con.execute('select link.fromid,link.toid from linkwords,link where wordid=%d and linkwords.linkid=link.rowid' % wordid)\n",
    "            for (fromid,toid) in cur:\n",
    "                if toid in linkscores:\n",
    "                    pr = self.con.execute('select score from pagerank where urlid=%d' % fromid).fetchone()[0]\n",
    "                    linkscores[toid] += pr\n",
    "        maxscore = max(max(linkscores.values()),vsmall)\n",
    "        normalizedscores = dict([(u,float(l)/maxscore) for (u,l) in linkscores.items()])\n",
    "        return normalizedscores  \n",
    "    \n",
    "    def nnscore(self,rows,wordids):\n",
    "        # Get unique URL IDs as an ordered list\n",
    "        urlids = [urlid for urlid in dict([(row[0],1) for row in rows])]\n",
    "        nnres = mynet.getresult(wordids,urlids)\n",
    "        scores = dict([(urlids[i],nnres[i]) for i in range(len(urlids))])\n",
    "        return self.normalizescores(scores)    "
   ]
  },
  {
   "cell_type": "code",
   "execution_count": 14,
   "metadata": {
    "collapsed": false
   },
   "outputs": [],
   "source": [
    "searcherObj = searcher('searchindex.db')"
   ]
  },
  {
   "cell_type": "code",
   "execution_count": null,
   "metadata": {
    "collapsed": false
   },
   "outputs": [],
   "source": [
    "searcherObj.getmatchrows('prohibit')"
   ]
  },
  {
   "cell_type": "code",
   "execution_count": null,
   "metadata": {
    "collapsed": false
   },
   "outputs": [],
   "source": [
    "searcherObj.getmatchrows('prohibit business')"
   ]
  },
  {
   "cell_type": "code",
   "execution_count": null,
   "metadata": {
    "collapsed": false
   },
   "outputs": [],
   "source": [
    "searcherObj.query('prohibit business')"
   ]
  },
  {
   "cell_type": "code",
   "execution_count": null,
   "metadata": {
    "collapsed": false
   },
   "outputs": [],
   "source": [
    "searcherObj.query('prohibit business')"
   ]
  },
  {
   "cell_type": "code",
   "execution_count": 15,
   "metadata": {
    "collapsed": false
   },
   "outputs": [
    {
     "name": "stdout",
     "output_type": "stream",
     "text": [
      "select w0.urlid,w0.location,w1.location from wordlocation w0,wordlocation w1 where w0.wordid = 63 and w0.urlid = w1.urlid and w1.wordid = 60\n",
      "3.369600\thttp://en.people.cn/90882/index.html\n",
      "3.192588\thttp://en.people.cn/business/index.html\n",
      "3.015823\thttp://en.people.cn/index.html\n",
      "2.945477\thttp://en.people.cn/90783/index.html\n",
      "2.928196\thttp://www.ecns.cn\n",
      "\n",
      "2.731780\thttp://beijingtoday.com.cn/\n",
      "2.717072\thttp://en.people.cn/102775/index.html\n",
      "2.645377\thttp://en.ce.cn/\n",
      "\n",
      "2.571570\thttp://en.people.cn/90782/index.html\n",
      "2.559845\thttp://en.people.cn/90777/index.html\n"
     ]
    }
   ],
   "source": [
    "searcherObj.query('society business')"
   ]
  },
  {
   "cell_type": "code",
   "execution_count": 10,
   "metadata": {
    "collapsed": false
   },
   "outputs": [
    {
     "data": {
      "text/plain": [
       "u'http://www.people.com.cn/'"
      ]
     },
     "execution_count": 10,
     "metadata": {},
     "output_type": "execute_result"
    }
   ],
   "source": [
    "searcherObj.geturlname(8)"
   ]
  },
  {
   "cell_type": "code",
   "execution_count": 11,
   "metadata": {
    "collapsed": false
   },
   "outputs": [
    {
     "data": {
      "text/plain": [
       "u'http://en.gmw.cn/'"
      ]
     },
     "execution_count": 11,
     "metadata": {},
     "output_type": "execute_result"
    }
   ],
   "source": [
    "searcherObj.geturlname(128)"
   ]
  },
  {
   "cell_type": "code",
   "execution_count": 12,
   "metadata": {
    "collapsed": false
   },
   "outputs": [
    {
     "data": {
      "text/plain": [
       "u'http://beijingtoday.com.cn/'"
      ]
     },
     "execution_count": 12,
     "metadata": {},
     "output_type": "execute_result"
    }
   ],
   "source": [
    "searcherObj.geturlname(115)"
   ]
  },
  {
   "cell_type": "code",
   "execution_count": 18,
   "metadata": {
    "collapsed": false
   },
   "outputs": [
    {
     "name": "stdout",
     "output_type": "stream",
     "text": [
      "select w0.urlid,w0.location from wordlocation w0 where w0.wordid = 60\n",
      "4.534850\thttp://en.people.cn/business/index.html\n",
      "3.603527\thttp://www.ecns.cn\n",
      "\n",
      "3.585932\thttp://www.chinadaily.com.cn/\n",
      "\n",
      "3.492530\thttp://en.people.cn/102775/index.html\n",
      "3.407496\thttp://en.people.cn/90783/index.html\n",
      "3.314812\thttp://en.people.cn/index.html\n",
      "3.292892\thttp://english.sina.com/\n",
      "3.288656\thttp://en.ce.cn/\n",
      "\n",
      "3.245058\thttp://en.people.cn/90882/index.html\n",
      "3.174218\thttp://en.gmw.cn/\n"
     ]
    }
   ],
   "source": [
    "searcherObj.query('business')"
   ]
  },
  {
   "cell_type": "code",
   "execution_count": 22,
   "metadata": {
    "collapsed": false
   },
   "outputs": [
    {
     "name": "stdout",
     "output_type": "stream",
     "text": [
      "select w0.urlid,w0.location,w1.location from wordlocation w0,wordlocation w1 where w0.wordid = 62 and w0.urlid = w1.urlid and w1.wordid = 4970\n",
      "3.199759\thttp://en.gmw.cn/\n",
      "3.019432\thttp://en.people.cn/business/index.html\n",
      "2.697951\thttp://eng.taiwan.cn/\n",
      "\n",
      "2.571934\thttp://en.ce.cn/\n",
      "\n",
      "2.237768\thttp://en.people.cn/n3/2016/0306/c90000-9025834.html\n",
      "2.200150\thttp://en.people.cn/business/n3/2016/0309/c90778-9027459.html\n",
      "1.410790\thttp://en.people.cn/102775/209361/index.html\n",
      "1.358100\thttp://en.people.cn/n3/2016/0310/c90000-9027804.html\n",
      "1.261618\thttp://en.people.cn/business/n3/2016/0309/c90778-9027425.html\n",
      "1.140786\thttp://en.people.cn/n3/2016/0310/c90000-9028220.html\n"
     ]
    }
   ],
   "source": [
    "searcherObj.query('world bank')"
   ]
  },
  {
   "cell_type": "code",
   "execution_count": 32,
   "metadata": {
    "collapsed": true
   },
   "outputs": [],
   "source": [
    "from math import tanh\n",
    "from pysqlite2 import dbapi2 as sqlite\n",
    "\n",
    "def dtanh(y):\n",
    "    return 1.0 - y*y\n",
    "\n",
    "class searchnet:\n",
    "    def __init__(self,dbname):\n",
    "        self.con=sqlite.connect(dbname)\n",
    "  \n",
    "    def __del__(self):\n",
    "        self.con.close()\n",
    "\n",
    "    def maketables(self):\n",
    "        self.con.execute('create table hiddennode(create_key)')\n",
    "        self.con.execute('create table wordhidden(fromid,toid,strength)')\n",
    "        self.con.execute('create table hiddenurl(fromid,toid,strength)')\n",
    "        self.con.commit()\n",
    "        \n",
    "    def getstrength(self,fromid,toid,layer):\n",
    "        if layer == 0: table = 'wordhidden'\n",
    "        else: table='hiddenurl'\n",
    "        res = self.con.execute('select strength from %s where fromid=%d and toid=%d' % (table,fromid,toid)).fetchone()\n",
    "        if res == None: \n",
    "            if layer == 0: return -0.2\n",
    "            if layer == 1: return 0\n",
    "        return res[0]\n",
    "\n",
    "    def setstrength(self,fromid,toid,layer,strength):\n",
    "        if layer == 0: table='wordhidden'\n",
    "        else: table = 'hiddenurl'\n",
    "        res = self.con.execute('select rowid from %s where fromid=%d and toid=%d' % (table,fromid,toid)).fetchone()\n",
    "        if res == None: \n",
    "            self.con.execute('insert into %s (fromid,toid,strength) values (%d,%d,%f)' % (table,fromid,toid,strength))\n",
    "        else:\n",
    "            rowid = res[0]\n",
    "            self.con.execute('update %s set strength=%f where rowid=%d' % (table,strength,rowid))    \n",
    "           \n",
    "    def generatehiddennode(self,wordids,urls):\n",
    "        if len(wordids) > 3: return None\n",
    "        # Check if we already created a node for this set of words\n",
    "        sorted_words = [str(id) for id in wordids]\n",
    "        sorted_words.sort()\n",
    "        createkey = '_' . join(sorted_words)\n",
    "        res = self.con.execute(\"select rowid from hiddennode where create_key='%s'\" % createkey).fetchone()\n",
    "\n",
    "        # If not, create it\n",
    "        if res == None:\n",
    "            cur = self.con.execute(\"insert into hiddennode (create_key) values ('%s')\" % createkey)\n",
    "            hiddenid = cur.lastrowid\n",
    "            # Put in some default weights\n",
    "            for wordid in wordids:\n",
    "                self.setstrength(wordid,hiddenid,0,1.0/len(wordids))\n",
    "            #\n",
    "            for urlid in urls:\n",
    "                self.setstrength(hiddenid,urlid,1,0.1)\n",
    "            self.con.commit()    \n",
    "            \n",
    "    def getallhiddenids(self,wordids,urlids):\n",
    "        l1 = {}\n",
    "        for wordid in wordids:\n",
    "            cur = self.con.execute('select toid from wordhidden where fromid=%d' % wordid)\n",
    "            for row in cur: l1[row[0]] = 1\n",
    "        for urlid in urlids:\n",
    "            cur = self.con.execute('select fromid from hiddenurl where toid=%d' % urlid)\n",
    "            for row in cur: l1[row[0]] = 1\n",
    "        return l1.keys() \n",
    "    \n",
    "    def setupnetwork(self,wordids,urlids):\n",
    "        # value lists\n",
    "        self.wordids = wordids\n",
    "        self.hiddenids = self.getallhiddenids(wordids,urlids)\n",
    "        self.urlids = urlids\n",
    " \n",
    "        # node outputs\n",
    "        self.ai = [1.0] * len(self.wordids)\n",
    "        self.ah = [1.0] * len(self.hiddenids)\n",
    "        self.ao = [1.0] * len(self.urlids)\n",
    "        \n",
    "        # create weights matrix\n",
    "        self.wi = [[self.getstrength(wordid,hiddenid,0)  for hiddenid in self.hiddenids] for wordid in self.wordids]\n",
    "        self.wo = [[self.getstrength(hiddenid,urlid,1) for urlid in self.urlids] for hiddenid in self.hiddenids]    \n",
    "        \n",
    "    def feedforward(self):\n",
    "        # the only inputs are the query words\n",
    "        for i in range(len(self.wordids)):\n",
    "            self.ai[i] = 1.0\n",
    "\n",
    "        # hidden activations\n",
    "        for j in range(len(self.hiddenids)):\n",
    "            sum = 0.0\n",
    "            for i in range(len(self.wordids)):\n",
    "                sum = sum + self.ai[i] * self.wi[i][j]\n",
    "            self.ah[j] = tanh(sum)\n",
    "\n",
    "        # output activations\n",
    "        for k in range(len(self.urlids)):\n",
    "            sum = 0.0\n",
    "            for j in range(len(self.hiddenids)):\n",
    "                sum = sum + self.ah[j] * self.wo[j][k]\n",
    "            self.ao[k] = tanh(sum)\n",
    "\n",
    "        return self.ao[:]    \n",
    "    \n",
    "    def getresult(self,wordids,urlids):\n",
    "        self.setupnetwork(wordids,urlids)\n",
    "        return self.feedforward()    \n",
    "    \n",
    "    def backPropagate(self, targets, N=0.5):\n",
    "        # calculate errors for output\n",
    "        output_deltas = [0.0] * len(self.urlids)\n",
    "        for k in range(len(self.urlids)):\n",
    "            error = targets[k] - self.ao[k]\n",
    "            output_deltas[k] = dtanh(self.ao[k]) * error\n",
    "\n",
    "        # calculate errors for hidden layer\n",
    "        hidden_deltas = [0.0] * len(self.hiddenids)\n",
    "        for j in range(len(self.hiddenids)):\n",
    "            error = 0.0\n",
    "            for k in range(len(self.urlids)):\n",
    "                error = error + output_deltas[k]*self.wo[j][k]\n",
    "            hidden_deltas[j] = dtanh(self.ah[j]) * error\n",
    "\n",
    "        # update output weights\n",
    "        for j in range(len(self.hiddenids)):\n",
    "            for k in range(len(self.urlids)):\n",
    "                change = output_deltas[k]*self.ah[j]\n",
    "                self.wo[j][k] = self.wo[j][k] + N*change\n",
    "\n",
    "        # update input weights\n",
    "        for i in range(len(self.wordids)):\n",
    "            for j in range(len(self.hiddenids)):\n",
    "                change = hidden_deltas[j]*self.ai[i]\n",
    "                self.wi[i][j] = self.wi[i][j] + N*change  \n",
    "                \n",
    "    def trainquery(self,wordids,urlids,selectedurl): \n",
    "        # generate a hidden node if necessary\n",
    "        self.generatehiddennode(wordids,urlids)\n",
    "\n",
    "        self.setupnetwork(wordids,urlids)      \n",
    "        self.feedforward()\n",
    "        targets=[0.0]*len(urlids)\n",
    "        targets[urlids.index(selectedurl)] = 1.0\n",
    "        error = self.backPropagate(targets)\n",
    "        self.updatedatabase()   \n",
    "        \n",
    "    def updatedatabase(self):\n",
    "        # set them to database values\n",
    "        for i in range(len(self.wordids)):\n",
    "            for j in range(len(self.hiddenids)):\n",
    "                self.setstrength(self.wordids[i],self. hiddenids[j],0,self.wi[i][j])\n",
    "        for j in range(len(self.hiddenids)):\n",
    "            for k in range(len(self.urlids)):\n",
    "                self.setstrength(self.hiddenids[j],self.urlids[k],1,self.wo[j][k])\n",
    "        self.con.commit()        "
   ]
  },
  {
   "cell_type": "code",
   "execution_count": 33,
   "metadata": {
    "collapsed": false
   },
   "outputs": [],
   "source": [
    "mynet = searchnet('nn.db')"
   ]
  },
  {
   "cell_type": "code",
   "execution_count": null,
   "metadata": {
    "collapsed": true
   },
   "outputs": [],
   "source": [
    "mynet.maketables()"
   ]
  },
  {
   "cell_type": "code",
   "execution_count": 26,
   "metadata": {
    "collapsed": true
   },
   "outputs": [],
   "source": [
    "wWor1d,wRivar,wBank = 101,102,103\n",
    "uWor1dBank,uRivar,uEarth  = 201,202,203\n",
    "mynet.generatehiddennode([wWor1d,wBank],[uWor1dBank,uRivar,uEarth])"
   ]
  },
  {
   "cell_type": "code",
   "execution_count": 27,
   "metadata": {
    "collapsed": false
   },
   "outputs": [
    {
     "name": "stdout",
     "output_type": "stream",
     "text": [
      "(101, 1, 0.5)\n",
      "(103, 1, 0.5)\n"
     ]
    }
   ],
   "source": [
    "for c in mynet.con.execute( 'select * from wordhidden'): print c"
   ]
  },
  {
   "cell_type": "code",
   "execution_count": 28,
   "metadata": {
    "collapsed": false
   },
   "outputs": [
    {
     "name": "stdout",
     "output_type": "stream",
     "text": [
      "(1, 201, 0.1)\n",
      "(1, 202, 0.1)\n",
      "(1, 203, 0.1)\n"
     ]
    }
   ],
   "source": [
    "for c in mynet.con.execute( 'select * from hiddenurl'): print c"
   ]
  },
  {
   "cell_type": "code",
   "execution_count": 31,
   "metadata": {
    "collapsed": false
   },
   "outputs": [
    {
     "data": {
      "text/plain": [
       "[0.07601250837541615, 0.07601250837541615, 0.07601250837541615]"
      ]
     },
     "execution_count": 31,
     "metadata": {},
     "output_type": "execute_result"
    }
   ],
   "source": [
    "mynet.getresult([wWor1d,wBank],[uWor1dBank,uRivar,uEarth])"
   ]
  },
  {
   "cell_type": "code",
   "execution_count": 36,
   "metadata": {
    "collapsed": true
   },
   "outputs": [],
   "source": [
    "mynet.trainquery([wWor1d,wBank],[uWor1dBank,uRivar,uEarth],uWor1dBank)"
   ]
  },
  {
   "cell_type": "code",
   "execution_count": 35,
   "metadata": {
    "collapsed": false
   },
   "outputs": [
    {
     "data": {
      "text/plain": [
       "[0.3350632467125332, 0.055127057492088, 0.055127057492088]"
      ]
     },
     "execution_count": 35,
     "metadata": {},
     "output_type": "execute_result"
    }
   ],
   "source": [
    "mynet.getresult([wWor1d,wBank],[uWor1dBank,uRivar,uEarth])"
   ]
  },
  {
   "cell_type": "code",
   "execution_count": 37,
   "metadata": {
    "collapsed": false
   },
   "outputs": [
    {
     "data": {
      "text/plain": [
       "[0.5016308751693285, 0.040561698154791534, 0.040561698154791534]"
      ]
     },
     "execution_count": 37,
     "metadata": {},
     "output_type": "execute_result"
    }
   ],
   "source": [
    "mynet.getresult([wWor1d,wBank],[uWor1dBank,uRivar,uEarth])"
   ]
  },
  {
   "cell_type": "code",
   "execution_count": 40,
   "metadata": {
    "collapsed": false
   },
   "outputs": [],
   "source": [
    "allurls = [uWor1dBank,uRivar,uEarth]\n",
    "for i in range(30):\n",
    "    mynet.trainquery([wWor1d,wBank],allurls,uWor1dBank)\n",
    "    mynet.trainquery([wRivar,wBank],allurls,uRivar)\n",
    "    mynet.trainquery([wWor1d],allurls,uEarth)"
   ]
  },
  {
   "cell_type": "code",
   "execution_count": 41,
   "metadata": {
    "collapsed": false
   },
   "outputs": [
    {
     "data": {
      "text/plain": [
       "[0.8705623942300412, 0.010855480106425808, 0.012084979924815572]"
      ]
     },
     "execution_count": 41,
     "metadata": {},
     "output_type": "execute_result"
    }
   ],
   "source": [
    "mynet.getresult([wWor1d,wBank],allurls)"
   ]
  },
  {
   "cell_type": "code",
   "execution_count": 42,
   "metadata": {
    "collapsed": false
   },
   "outputs": [
    {
     "data": {
      "text/plain": [
       "[-0.020212960144585894, 0.8852859851373398, 0.003354660406591399]"
      ]
     },
     "execution_count": 42,
     "metadata": {},
     "output_type": "execute_result"
    }
   ],
   "source": [
    "mynet.getresult([wRivar,wBank],allurls)"
   ]
  },
  {
   "cell_type": "code",
   "execution_count": 43,
   "metadata": {
    "collapsed": false
   },
   "outputs": [
    {
     "data": {
      "text/plain": [
       "[0.8749506589416379, 0.005900400330499424, -0.859269156107212]"
      ]
     },
     "execution_count": 43,
     "metadata": {},
     "output_type": "execute_result"
    }
   ],
   "source": [
    "mynet.getresult([wBank],allurls)"
   ]
  },
  {
   "cell_type": "code",
   "execution_count": 44,
   "metadata": {
    "collapsed": false
   },
   "outputs": [
    {
     "data": {
      "text/plain": [
       "[-0.016145246792945437, 0.017987449223076896, 0.8508480187878236]"
      ]
     },
     "execution_count": 44,
     "metadata": {},
     "output_type": "execute_result"
    }
   ],
   "source": [
    "mynet.getresult([wWor1d],allurls)"
   ]
  },
  {
   "cell_type": "code",
   "execution_count": null,
   "metadata": {
    "collapsed": true
   },
   "outputs": [],
   "source": []
  }
 ],
 "metadata": {
  "celltoolbar": "Raw Cell Format",
  "kernelspec": {
   "display_name": "Python 2",
   "language": "python",
   "name": "python2"
  },
  "language_info": {
   "codemirror_mode": {
    "name": "ipython",
    "version": 2
   },
   "file_extension": ".py",
   "mimetype": "text/x-python",
   "name": "python",
   "nbconvert_exporter": "python",
   "pygments_lexer": "ipython2",
   "version": "2.7.8"
  }
 },
 "nbformat": 4,
 "nbformat_minor": 0
}
